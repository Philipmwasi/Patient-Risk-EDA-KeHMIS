{
 "cells": [
  {
   "cell_type": "code",
   "execution_count": 1,
   "id": "5231b696",
   "metadata": {},
   "outputs": [],
   "source": [
    "# Importing the necessary packages\n",
    "import pandas as pd\n",
    "import numpy as np\n",
    "import seaborn as sns\n",
    "import matplotlib.pyplot as plt\n",
    "%matplotlib inline\n",
    "import warnings\n",
    "warnings.filterwarnings('ignore')"
   ]
  },
  {
   "cell_type": "markdown",
   "id": "2c33d37a",
   "metadata": {},
   "source": [
    "IMPORTING THE DATASETS"
   ]
  },
  {
   "cell_type": "code",
   "execution_count": 2,
   "id": "38717b75",
   "metadata": {
    "scrolled": true
   },
   "outputs": [],
   "source": [
    "ct_patients = pd.read_csv('CT_patients.csv')  # Importing the patients datasets\n",
    "art_patients = pd.read_csv(\"ct_art_patients.csv\") # Importing the art patient data\n",
    "patient_visits = pd.read_csv(\"CT_PatientVisits.csv\") # Importing the patient visits dataset\n",
    "patient_labs = pd.read_csv(\"ct_patient_labs.csv\")   # Importing the labs dataset\n",
    "patient_depression_scr = pd.read_csv(\"CT_depressionscreening.csv\")   #Importing the depression screening dataset"
   ]
  },
  {
   "cell_type": "markdown",
   "id": "a88ffa7b",
   "metadata": {},
   "source": [
    "Now that we have imported all the datasets we need, we will now merge them into one dataset, clean and do exploratory data analysis on it."
   ]
  },
  {
   "cell_type": "markdown",
   "id": "39b51674",
   "metadata": {},
   "source": [
    "## EXPLORATORY DATA  ANALYSIS"
   ]
  },
  {
   "cell_type": "markdown",
   "id": "8d6678c3",
   "metadata": {},
   "source": [
    "### DATA CLEANING"
   ]
  },
  {
   "cell_type": "markdown",
   "id": "5cfceaf4",
   "metadata": {},
   "source": [
    "The data cleaning process will be done on individual datasets before merging them into one dataset that will be used for the rest of the exploratory data analysis to avoid merging issues."
   ]
  },
  {
   "cell_type": "code",
   "execution_count": 3,
   "id": "bc37e7b8",
   "metadata": {},
   "outputs": [
    {
     "data": {
      "text/html": [
       "<div>\n",
       "<style scoped>\n",
       "    .dataframe tbody tr th:only-of-type {\n",
       "        vertical-align: middle;\n",
       "    }\n",
       "\n",
       "    .dataframe tbody tr th {\n",
       "        vertical-align: top;\n",
       "    }\n",
       "\n",
       "    .dataframe thead th {\n",
       "        text-align: right;\n",
       "    }\n",
       "</style>\n",
       "<table border=\"1\" class=\"dataframe\">\n",
       "  <thead>\n",
       "    <tr style=\"text-align: right;\">\n",
       "      <th></th>\n",
       "      <th>Unnamed: 0</th>\n",
       "      <th>PatientPKHash</th>\n",
       "      <th>SiteCode</th>\n",
       "      <th>FacilityName</th>\n",
       "      <th>Region</th>\n",
       "      <th>Gender</th>\n",
       "      <th>LastVisit</th>\n",
       "      <th>EducationLevel</th>\n",
       "      <th>Occupation</th>\n",
       "      <th>MaritalStatus</th>\n",
       "    </tr>\n",
       "  </thead>\n",
       "  <tbody>\n",
       "    <tr>\n",
       "      <th>0</th>\n",
       "      <td>1</td>\n",
       "      <td>78F96823AC7AD6E060E8D69DF686760669A4CCFD34EE70...</td>\n",
       "      <td>16800</td>\n",
       "      <td>Lea Toto Clinic (Westlands)</td>\n",
       "      <td>Nairobi</td>\n",
       "      <td>Female</td>\n",
       "      <td>2022-01-19</td>\n",
       "      <td>NaN</td>\n",
       "      <td>NaN</td>\n",
       "      <td>NaN</td>\n",
       "    </tr>\n",
       "    <tr>\n",
       "      <th>1</th>\n",
       "      <td>2</td>\n",
       "      <td>FE9A28A6208798FCA425FB02E28B30ACF4DAAAD5E7D2F3...</td>\n",
       "      <td>18828</td>\n",
       "      <td>Lea Toto Zimmerman</td>\n",
       "      <td>Nairobi</td>\n",
       "      <td>Female</td>\n",
       "      <td>2022-01-10</td>\n",
       "      <td>NaN</td>\n",
       "      <td>NaN</td>\n",
       "      <td>NaN</td>\n",
       "    </tr>\n",
       "    <tr>\n",
       "      <th>2</th>\n",
       "      <td>3</td>\n",
       "      <td>A38CB015A0BA15BAC709E502AD9A68632EF7D63C45575F...</td>\n",
       "      <td>12965</td>\n",
       "      <td>Guru Nanak Hospital</td>\n",
       "      <td>Nairobi</td>\n",
       "      <td>Female</td>\n",
       "      <td>2023-11-08</td>\n",
       "      <td>NaN</td>\n",
       "      <td>NaN</td>\n",
       "      <td>Single</td>\n",
       "    </tr>\n",
       "    <tr>\n",
       "      <th>3</th>\n",
       "      <td>4</td>\n",
       "      <td>DC628EEC29CD06711202042DB171BB4053CFB1B7D3C57C...</td>\n",
       "      <td>12965</td>\n",
       "      <td>Guru Nanak Hospital</td>\n",
       "      <td>Nairobi</td>\n",
       "      <td>Female</td>\n",
       "      <td>2023-12-07</td>\n",
       "      <td>NaN</td>\n",
       "      <td>NaN</td>\n",
       "      <td>Single</td>\n",
       "    </tr>\n",
       "    <tr>\n",
       "      <th>4</th>\n",
       "      <td>5</td>\n",
       "      <td>7B9AFEBB3092D6229690F152A77507B931EB4AA1A7E4D1...</td>\n",
       "      <td>18828</td>\n",
       "      <td>Lea Toto Zimmerman</td>\n",
       "      <td>Nairobi</td>\n",
       "      <td>Female</td>\n",
       "      <td>2022-01-13</td>\n",
       "      <td>NaN</td>\n",
       "      <td>NaN</td>\n",
       "      <td>NaN</td>\n",
       "    </tr>\n",
       "  </tbody>\n",
       "</table>\n",
       "</div>"
      ],
      "text/plain": [
       "   Unnamed: 0                                      PatientPKHash  SiteCode  \\\n",
       "0           1  78F96823AC7AD6E060E8D69DF686760669A4CCFD34EE70...     16800   \n",
       "1           2  FE9A28A6208798FCA425FB02E28B30ACF4DAAAD5E7D2F3...     18828   \n",
       "2           3  A38CB015A0BA15BAC709E502AD9A68632EF7D63C45575F...     12965   \n",
       "3           4  DC628EEC29CD06711202042DB171BB4053CFB1B7D3C57C...     12965   \n",
       "4           5  7B9AFEBB3092D6229690F152A77507B931EB4AA1A7E4D1...     18828   \n",
       "\n",
       "                  FacilityName   Region  Gender   LastVisit EducationLevel  \\\n",
       "0  Lea Toto Clinic (Westlands)  Nairobi  Female  2022-01-19            NaN   \n",
       "1           Lea Toto Zimmerman  Nairobi  Female  2022-01-10            NaN   \n",
       "2          Guru Nanak Hospital  Nairobi  Female  2023-11-08            NaN   \n",
       "3          Guru Nanak Hospital  Nairobi  Female  2023-12-07            NaN   \n",
       "4           Lea Toto Zimmerman  Nairobi  Female  2022-01-13            NaN   \n",
       "\n",
       "  Occupation MaritalStatus  \n",
       "0        NaN           NaN  \n",
       "1        NaN           NaN  \n",
       "2        NaN        Single  \n",
       "3        NaN        Single  \n",
       "4        NaN           NaN  "
      ]
     },
     "execution_count": 3,
     "metadata": {},
     "output_type": "execute_result"
    }
   ],
   "source": [
    "ct_patients.head()"
   ]
  },
  {
   "cell_type": "code",
   "execution_count": 4,
   "id": "f2dc2536",
   "metadata": {},
   "outputs": [
    {
     "data": {
      "text/html": [
       "<div>\n",
       "<style scoped>\n",
       "    .dataframe tbody tr th:only-of-type {\n",
       "        vertical-align: middle;\n",
       "    }\n",
       "\n",
       "    .dataframe tbody tr th {\n",
       "        vertical-align: top;\n",
       "    }\n",
       "\n",
       "    .dataframe thead th {\n",
       "        text-align: right;\n",
       "    }\n",
       "</style>\n",
       "<table border=\"1\" class=\"dataframe\">\n",
       "  <thead>\n",
       "    <tr style=\"text-align: right;\">\n",
       "      <th></th>\n",
       "      <th>Unnamed: 0</th>\n",
       "      <th>PatientPKHash</th>\n",
       "      <th>SiteCode</th>\n",
       "      <th>ExitReason</th>\n",
       "      <th>AgeEnrollment</th>\n",
       "      <th>StartARTDate</th>\n",
       "      <th>AgeLastVisit</th>\n",
       "      <th>AgeARTStart</th>\n",
       "      <th>StartRegimen</th>\n",
       "      <th>LastRegimen</th>\n",
       "    </tr>\n",
       "  </thead>\n",
       "  <tbody>\n",
       "    <tr>\n",
       "      <th>0</th>\n",
       "      <td>1</td>\n",
       "      <td>FFF1D919002BAFBC0E2E547F358A2AF56EBE61525DF6EE...</td>\n",
       "      <td>14947</td>\n",
       "      <td>NaN</td>\n",
       "      <td>26.0</td>\n",
       "      <td>2009-02-24</td>\n",
       "      <td>41.0</td>\n",
       "      <td>29.0</td>\n",
       "      <td>3TC + EFV + TDF</td>\n",
       "      <td>3TC + RTV + AZT + ATV</td>\n",
       "    </tr>\n",
       "    <tr>\n",
       "      <th>1</th>\n",
       "      <td>2</td>\n",
       "      <td>F3FE5E7023FECF8776ED0ED6187AF0DB4DB26719AF79E0...</td>\n",
       "      <td>13492</td>\n",
       "      <td>NaN</td>\n",
       "      <td>55.0</td>\n",
       "      <td>2008-10-03</td>\n",
       "      <td>55.0</td>\n",
       "      <td>47.0</td>\n",
       "      <td>3TC+D4T+NVP</td>\n",
       "      <td>3TC+AZT+NVP</td>\n",
       "    </tr>\n",
       "    <tr>\n",
       "      <th>2</th>\n",
       "      <td>3</td>\n",
       "      <td>D95DBAB700E9EBB48E62C6D662951961CFCFE492C37410...</td>\n",
       "      <td>14110</td>\n",
       "      <td>NaN</td>\n",
       "      <td>34.0</td>\n",
       "      <td>2011-10-26</td>\n",
       "      <td>46.0</td>\n",
       "      <td>34.0</td>\n",
       "      <td>3TC+AZT+NVP</td>\n",
       "      <td>3TC+DTG+TDF</td>\n",
       "    </tr>\n",
       "    <tr>\n",
       "      <th>3</th>\n",
       "      <td>4</td>\n",
       "      <td>030A0046095BDECF76ADC5621D6FE03B9C6570A3432AB9...</td>\n",
       "      <td>15049</td>\n",
       "      <td>NaN</td>\n",
       "      <td>23.0</td>\n",
       "      <td>2014-07-18</td>\n",
       "      <td>25.0</td>\n",
       "      <td>24.0</td>\n",
       "      <td>3TC+AZT+LPV/r</td>\n",
       "      <td>3TC+AZT+LPV/r</td>\n",
       "    </tr>\n",
       "    <tr>\n",
       "      <th>4</th>\n",
       "      <td>5</td>\n",
       "      <td>26D6A8AD97C75FFC548F6873E5E93CE475479E3E1A1097...</td>\n",
       "      <td>11476</td>\n",
       "      <td>NaN</td>\n",
       "      <td>37.0</td>\n",
       "      <td>2021-06-02</td>\n",
       "      <td>43.0</td>\n",
       "      <td>40.0</td>\n",
       "      <td>3TC+EFV+TDF</td>\n",
       "      <td>3TC+DTG+TDF</td>\n",
       "    </tr>\n",
       "  </tbody>\n",
       "</table>\n",
       "</div>"
      ],
      "text/plain": [
       "   Unnamed: 0                                      PatientPKHash  SiteCode  \\\n",
       "0           1  FFF1D919002BAFBC0E2E547F358A2AF56EBE61525DF6EE...     14947   \n",
       "1           2  F3FE5E7023FECF8776ED0ED6187AF0DB4DB26719AF79E0...     13492   \n",
       "2           3  D95DBAB700E9EBB48E62C6D662951961CFCFE492C37410...     14110   \n",
       "3           4  030A0046095BDECF76ADC5621D6FE03B9C6570A3432AB9...     15049   \n",
       "4           5  26D6A8AD97C75FFC548F6873E5E93CE475479E3E1A1097...     11476   \n",
       "\n",
       "  ExitReason  AgeEnrollment StartARTDate  AgeLastVisit  AgeARTStart  \\\n",
       "0        NaN           26.0   2009-02-24          41.0         29.0   \n",
       "1        NaN           55.0   2008-10-03          55.0         47.0   \n",
       "2        NaN           34.0   2011-10-26          46.0         34.0   \n",
       "3        NaN           23.0   2014-07-18          25.0         24.0   \n",
       "4        NaN           37.0   2021-06-02          43.0         40.0   \n",
       "\n",
       "      StartRegimen            LastRegimen  \n",
       "0  3TC + EFV + TDF  3TC + RTV + AZT + ATV  \n",
       "1      3TC+D4T+NVP            3TC+AZT+NVP  \n",
       "2      3TC+AZT+NVP            3TC+DTG+TDF  \n",
       "3    3TC+AZT+LPV/r          3TC+AZT+LPV/r  \n",
       "4      3TC+EFV+TDF            3TC+DTG+TDF  "
      ]
     },
     "execution_count": 4,
     "metadata": {},
     "output_type": "execute_result"
    }
   ],
   "source": [
    "art_patients.head()  # Variable needed (regimen)  , date the patient started treatment(additional variable)"
   ]
  },
  {
   "cell_type": "code",
   "execution_count": 5,
   "id": "e8c7bd33",
   "metadata": {},
   "outputs": [
    {
     "data": {
      "text/html": [
       "<div>\n",
       "<style scoped>\n",
       "    .dataframe tbody tr th:only-of-type {\n",
       "        vertical-align: middle;\n",
       "    }\n",
       "\n",
       "    .dataframe tbody tr th {\n",
       "        vertical-align: top;\n",
       "    }\n",
       "\n",
       "    .dataframe thead th {\n",
       "        text-align: right;\n",
       "    }\n",
       "</style>\n",
       "<table border=\"1\" class=\"dataframe\">\n",
       "  <thead>\n",
       "    <tr style=\"text-align: right;\">\n",
       "      <th></th>\n",
       "      <th>Unnamed: 0</th>\n",
       "      <th>PatientPKHash</th>\n",
       "      <th>SiteCode</th>\n",
       "      <th>Adherence</th>\n",
       "      <th>VisitDate</th>\n",
       "      <th>AdherenceCategory</th>\n",
       "      <th>NextAppointmentDate</th>\n",
       "    </tr>\n",
       "  </thead>\n",
       "  <tbody>\n",
       "    <tr>\n",
       "      <th>0</th>\n",
       "      <td>1</td>\n",
       "      <td>F099AA757FCAF0709211D33D7E2FA4CE9A23652C13CAB4...</td>\n",
       "      <td>15204</td>\n",
       "      <td>GOOD</td>\n",
       "      <td>2022-07-04</td>\n",
       "      <td>GOOD</td>\n",
       "      <td>2022-11-01</td>\n",
       "    </tr>\n",
       "    <tr>\n",
       "      <th>1</th>\n",
       "      <td>2</td>\n",
       "      <td>3D5061D636B5B454C739195AA7B28692AAECAA098D3E29...</td>\n",
       "      <td>15204</td>\n",
       "      <td>GOOD</td>\n",
       "      <td>2023-05-19</td>\n",
       "      <td>GOOD</td>\n",
       "      <td>2023-08-17</td>\n",
       "    </tr>\n",
       "    <tr>\n",
       "      <th>2</th>\n",
       "      <td>3</td>\n",
       "      <td>7BDF500F749AB18900F48C8A30B03EA880AFEBD5F5B176...</td>\n",
       "      <td>15204</td>\n",
       "      <td>GOOD</td>\n",
       "      <td>2023-01-13</td>\n",
       "      <td>GOOD</td>\n",
       "      <td>2023-02-13</td>\n",
       "    </tr>\n",
       "    <tr>\n",
       "      <th>3</th>\n",
       "      <td>4</td>\n",
       "      <td>30D8984113ECA227531EC4770A7A4A5929C97FF21A0EFF...</td>\n",
       "      <td>15204</td>\n",
       "      <td>GOOD</td>\n",
       "      <td>2023-01-13</td>\n",
       "      <td>GOOD</td>\n",
       "      <td>2023-05-02</td>\n",
       "    </tr>\n",
       "    <tr>\n",
       "      <th>4</th>\n",
       "      <td>5</td>\n",
       "      <td>BB453C54C31C091099809613E80D74EDE582D89FCF9376...</td>\n",
       "      <td>15204</td>\n",
       "      <td>GOOD</td>\n",
       "      <td>2023-12-11</td>\n",
       "      <td>GOOD</td>\n",
       "      <td>2024-03-11</td>\n",
       "    </tr>\n",
       "  </tbody>\n",
       "</table>\n",
       "</div>"
      ],
      "text/plain": [
       "   Unnamed: 0                                      PatientPKHash  SiteCode  \\\n",
       "0           1  F099AA757FCAF0709211D33D7E2FA4CE9A23652C13CAB4...     15204   \n",
       "1           2  3D5061D636B5B454C739195AA7B28692AAECAA098D3E29...     15204   \n",
       "2           3  7BDF500F749AB18900F48C8A30B03EA880AFEBD5F5B176...     15204   \n",
       "3           4  30D8984113ECA227531EC4770A7A4A5929C97FF21A0EFF...     15204   \n",
       "4           5  BB453C54C31C091099809613E80D74EDE582D89FCF9376...     15204   \n",
       "\n",
       "  Adherence   VisitDate AdherenceCategory NextAppointmentDate  \n",
       "0      GOOD  2022-07-04              GOOD          2022-11-01  \n",
       "1      GOOD  2023-05-19              GOOD          2023-08-17  \n",
       "2      GOOD  2023-01-13              GOOD          2023-02-13  \n",
       "3      GOOD  2023-01-13              GOOD          2023-05-02  \n",
       "4      GOOD  2023-12-11              GOOD          2024-03-11  "
      ]
     },
     "execution_count": 5,
     "metadata": {},
     "output_type": "execute_result"
    }
   ],
   "source": [
    "patient_visits.head() # All relevant (next appointment date variable) missing"
   ]
  },
  {
   "cell_type": "code",
   "execution_count": 6,
   "id": "04088584",
   "metadata": {},
   "outputs": [
    {
     "data": {
      "text/html": [
       "<div>\n",
       "<style scoped>\n",
       "    .dataframe tbody tr th:only-of-type {\n",
       "        vertical-align: middle;\n",
       "    }\n",
       "\n",
       "    .dataframe tbody tr th {\n",
       "        vertical-align: top;\n",
       "    }\n",
       "\n",
       "    .dataframe thead th {\n",
       "        text-align: right;\n",
       "    }\n",
       "</style>\n",
       "<table border=\"1\" class=\"dataframe\">\n",
       "  <thead>\n",
       "    <tr style=\"text-align: right;\">\n",
       "      <th></th>\n",
       "      <th>Unnamed: 0</th>\n",
       "      <th>PatientPKHash</th>\n",
       "      <th>SiteCode</th>\n",
       "      <th>OrderedbyDate</th>\n",
       "      <th>TestName</th>\n",
       "      <th>TestResult</th>\n",
       "    </tr>\n",
       "  </thead>\n",
       "  <tbody>\n",
       "    <tr>\n",
       "      <th>0</th>\n",
       "      <td>1</td>\n",
       "      <td>3F11BDE0D8DA0B6D8FFCC20FAA79FF0CA3C188B41459C0...</td>\n",
       "      <td>14027</td>\n",
       "      <td>2022-08-25</td>\n",
       "      <td>Viral Load</td>\n",
       "      <td>0</td>\n",
       "    </tr>\n",
       "    <tr>\n",
       "      <th>1</th>\n",
       "      <td>2</td>\n",
       "      <td>4EE8F1817816ACA31EC31BF3970A707F941A41241319A8...</td>\n",
       "      <td>13076</td>\n",
       "      <td>2023-02-15</td>\n",
       "      <td>Viral Load</td>\n",
       "      <td>87</td>\n",
       "    </tr>\n",
       "    <tr>\n",
       "      <th>2</th>\n",
       "      <td>3</td>\n",
       "      <td>32D913ED2228CC04150FAA7BEC23034183C7147F54A955...</td>\n",
       "      <td>12929</td>\n",
       "      <td>2022-11-19</td>\n",
       "      <td>CHGM</td>\n",
       "      <td>33.5</td>\n",
       "    </tr>\n",
       "    <tr>\n",
       "      <th>3</th>\n",
       "      <td>4</td>\n",
       "      <td>7B73C8E14681A416E4A899B18BFAAEC4F22E31BADFAFA1...</td>\n",
       "      <td>14124</td>\n",
       "      <td>2023-05-16</td>\n",
       "      <td>Viral Load</td>\n",
       "      <td>184</td>\n",
       "    </tr>\n",
       "    <tr>\n",
       "      <th>4</th>\n",
       "      <td>5</td>\n",
       "      <td>B856DD3933C4A89C78CB9AE675F9943C16B9D3DC8ED7DF...</td>\n",
       "      <td>14020</td>\n",
       "      <td>2023-08-24</td>\n",
       "      <td>Viral Load</td>\n",
       "      <td>LDL</td>\n",
       "    </tr>\n",
       "  </tbody>\n",
       "</table>\n",
       "</div>"
      ],
      "text/plain": [
       "   Unnamed: 0                                      PatientPKHash  SiteCode  \\\n",
       "0           1  3F11BDE0D8DA0B6D8FFCC20FAA79FF0CA3C188B41459C0...     14027   \n",
       "1           2  4EE8F1817816ACA31EC31BF3970A707F941A41241319A8...     13076   \n",
       "2           3  32D913ED2228CC04150FAA7BEC23034183C7147F54A955...     12929   \n",
       "3           4  7B73C8E14681A416E4A899B18BFAAEC4F22E31BADFAFA1...     14124   \n",
       "4           5  B856DD3933C4A89C78CB9AE675F9943C16B9D3DC8ED7DF...     14020   \n",
       "\n",
       "  OrderedbyDate    TestName TestResult  \n",
       "0    2022-08-25  Viral Load          0  \n",
       "1    2023-02-15  Viral Load         87  \n",
       "2    2022-11-19        CHGM       33.5  \n",
       "3    2023-05-16  Viral Load        184  \n",
       "4    2023-08-24  Viral Load        LDL  "
      ]
     },
     "execution_count": 6,
     "metadata": {},
     "output_type": "execute_result"
    }
   ],
   "source": [
    "patient_labs.head()  #CD4 names( cd count for age > 5 and cd4% for age less than 5yrs))"
   ]
  },
  {
   "cell_type": "code",
   "execution_count": 7,
   "id": "90a31356",
   "metadata": {},
   "outputs": [
    {
     "data": {
      "text/html": [
       "<div>\n",
       "<style scoped>\n",
       "    .dataframe tbody tr th:only-of-type {\n",
       "        vertical-align: middle;\n",
       "    }\n",
       "\n",
       "    .dataframe tbody tr th {\n",
       "        vertical-align: top;\n",
       "    }\n",
       "\n",
       "    .dataframe thead th {\n",
       "        text-align: right;\n",
       "    }\n",
       "</style>\n",
       "<table border=\"1\" class=\"dataframe\">\n",
       "  <thead>\n",
       "    <tr style=\"text-align: right;\">\n",
       "      <th></th>\n",
       "      <th>Unnamed: 0</th>\n",
       "      <th>PatientPKHash</th>\n",
       "      <th>SiteCode</th>\n",
       "      <th>VisitDate</th>\n",
       "      <th>PHQ_9_rating</th>\n",
       "      <th>DepressionAssesmentScore</th>\n",
       "    </tr>\n",
       "  </thead>\n",
       "  <tbody>\n",
       "    <tr>\n",
       "      <th>0</th>\n",
       "      <td>1</td>\n",
       "      <td>13624525CB0A1E56E39C5DBEA36CA40F75C0DDFBB0719F...</td>\n",
       "      <td>16141</td>\n",
       "      <td>2023-01-05</td>\n",
       "      <td>Depression unlikely</td>\n",
       "      <td>NaN</td>\n",
       "    </tr>\n",
       "    <tr>\n",
       "      <th>1</th>\n",
       "      <td>2</td>\n",
       "      <td>8AE5AEF927CEFEC4DA2D5C598E737464DA531CCF70DB3C...</td>\n",
       "      <td>13705</td>\n",
       "      <td>2022-11-17</td>\n",
       "      <td>Depression unlikely</td>\n",
       "      <td>NaN</td>\n",
       "    </tr>\n",
       "    <tr>\n",
       "      <th>2</th>\n",
       "      <td>3</td>\n",
       "      <td>79A587C5AD7F0876D3F005D5755A3A4FAE841CDFEDEDC7...</td>\n",
       "      <td>19863</td>\n",
       "      <td>2023-10-11</td>\n",
       "      <td>Depression unlikely</td>\n",
       "      <td>NaN</td>\n",
       "    </tr>\n",
       "    <tr>\n",
       "      <th>3</th>\n",
       "      <td>4</td>\n",
       "      <td>7D60135BDE9770841CA447E5602841D7E8C2AE735D2390...</td>\n",
       "      <td>14950</td>\n",
       "      <td>2022-07-04</td>\n",
       "      <td>Depression unlikely</td>\n",
       "      <td>NaN</td>\n",
       "    </tr>\n",
       "    <tr>\n",
       "      <th>4</th>\n",
       "      <td>5</td>\n",
       "      <td>24795814776BF00333ABB04C43C6983153050A63772E52...</td>\n",
       "      <td>13600</td>\n",
       "      <td>2022-09-20</td>\n",
       "      <td>Depression unlikely</td>\n",
       "      <td>NaN</td>\n",
       "    </tr>\n",
       "  </tbody>\n",
       "</table>\n",
       "</div>"
      ],
      "text/plain": [
       "   Unnamed: 0                                      PatientPKHash  SiteCode  \\\n",
       "0           1  13624525CB0A1E56E39C5DBEA36CA40F75C0DDFBB0719F...     16141   \n",
       "1           2  8AE5AEF927CEFEC4DA2D5C598E737464DA531CCF70DB3C...     13705   \n",
       "2           3  79A587C5AD7F0876D3F005D5755A3A4FAE841CDFEDEDC7...     19863   \n",
       "3           4  7D60135BDE9770841CA447E5602841D7E8C2AE735D2390...     14950   \n",
       "4           5  24795814776BF00333ABB04C43C6983153050A63772E52...     13600   \n",
       "\n",
       "    VisitDate         PHQ_9_rating  DepressionAssesmentScore  \n",
       "0  2023-01-05  Depression unlikely                       NaN  \n",
       "1  2022-11-17  Depression unlikely                       NaN  \n",
       "2  2023-10-11  Depression unlikely                       NaN  \n",
       "3  2022-07-04  Depression unlikely                       NaN  \n",
       "4  2022-09-20  Depression unlikely                       NaN  "
      ]
     },
     "execution_count": 7,
     "metadata": {},
     "output_type": "execute_result"
    }
   ],
   "source": [
    "patient_depression_scr.head()"
   ]
  },
  {
   "cell_type": "markdown",
   "id": "90d4fef2",
   "metadata": {},
   "source": [
    "###### In merging we use the combination of PatientPK and site code. The combination of both as the unique identifier."
   ]
  },
  {
   "cell_type": "code",
   "execution_count": 8,
   "id": "e5f7abeb",
   "metadata": {},
   "outputs": [],
   "source": [
    "# drop the Unnamed column occurring in all the dataframes\n",
    "dataframes = [ct_patients, art_patients, patient_labs, patient_visits, patient_depression_scr]\n",
    "\n",
    "for df in dataframes:\n",
    "    # Check if the column exists\n",
    "    if 'Unnamed: 0' in df.columns:\n",
    "        # Drop the column\n",
    "        df.drop(columns='Unnamed: 0', inplace=True)"
   ]
  },
  {
   "cell_type": "markdown",
   "id": "ebc9af60",
   "metadata": {},
   "source": [
    "We have dropped the ```Unnamed``` column from the all the dataframes. Since all the dataframes share the column ```PatientPKHash``` and ```SiteCode```, we will concatenate the two columns to come up with a unique identifier (```Patient_uid```) and then merge them based on this column. In the next section we will now focus on the individual datasets one at a time for further cleaning.\n",
    "\n",
    "In this analysis and henceforth, we are going to focus on the patients in the ct_patients dataset."
   ]
  },
  {
   "cell_type": "code",
   "execution_count": 9,
   "id": "8e377897",
   "metadata": {},
   "outputs": [
    {
     "data": {
      "text/html": [
       "<div>\n",
       "<style scoped>\n",
       "    .dataframe tbody tr th:only-of-type {\n",
       "        vertical-align: middle;\n",
       "    }\n",
       "\n",
       "    .dataframe tbody tr th {\n",
       "        vertical-align: top;\n",
       "    }\n",
       "\n",
       "    .dataframe thead th {\n",
       "        text-align: right;\n",
       "    }\n",
       "</style>\n",
       "<table border=\"1\" class=\"dataframe\">\n",
       "  <thead>\n",
       "    <tr style=\"text-align: right;\">\n",
       "      <th></th>\n",
       "      <th>Patient_uid</th>\n",
       "      <th>SiteCode</th>\n",
       "      <th>Adherence</th>\n",
       "      <th>VisitDate</th>\n",
       "      <th>AdherenceCategory</th>\n",
       "      <th>NextAppointmentDate</th>\n",
       "    </tr>\n",
       "  </thead>\n",
       "  <tbody>\n",
       "    <tr>\n",
       "      <th>0</th>\n",
       "      <td>F099AA757FCAF0709211D33D7E2FA4CE9A23652C13CAB4...</td>\n",
       "      <td>15204</td>\n",
       "      <td>GOOD</td>\n",
       "      <td>2022-07-04</td>\n",
       "      <td>GOOD</td>\n",
       "      <td>2022-11-01</td>\n",
       "    </tr>\n",
       "    <tr>\n",
       "      <th>1</th>\n",
       "      <td>3D5061D636B5B454C739195AA7B28692AAECAA098D3E29...</td>\n",
       "      <td>15204</td>\n",
       "      <td>GOOD</td>\n",
       "      <td>2023-05-19</td>\n",
       "      <td>GOOD</td>\n",
       "      <td>2023-08-17</td>\n",
       "    </tr>\n",
       "    <tr>\n",
       "      <th>2</th>\n",
       "      <td>7BDF500F749AB18900F48C8A30B03EA880AFEBD5F5B176...</td>\n",
       "      <td>15204</td>\n",
       "      <td>GOOD</td>\n",
       "      <td>2023-01-13</td>\n",
       "      <td>GOOD</td>\n",
       "      <td>2023-02-13</td>\n",
       "    </tr>\n",
       "    <tr>\n",
       "      <th>3</th>\n",
       "      <td>30D8984113ECA227531EC4770A7A4A5929C97FF21A0EFF...</td>\n",
       "      <td>15204</td>\n",
       "      <td>GOOD</td>\n",
       "      <td>2023-01-13</td>\n",
       "      <td>GOOD</td>\n",
       "      <td>2023-05-02</td>\n",
       "    </tr>\n",
       "    <tr>\n",
       "      <th>4</th>\n",
       "      <td>BB453C54C31C091099809613E80D74EDE582D89FCF9376...</td>\n",
       "      <td>15204</td>\n",
       "      <td>GOOD</td>\n",
       "      <td>2023-12-11</td>\n",
       "      <td>GOOD</td>\n",
       "      <td>2024-03-11</td>\n",
       "    </tr>\n",
       "  </tbody>\n",
       "</table>\n",
       "</div>"
      ],
      "text/plain": [
       "                                         Patient_uid  SiteCode Adherence  \\\n",
       "0  F099AA757FCAF0709211D33D7E2FA4CE9A23652C13CAB4...     15204      GOOD   \n",
       "1  3D5061D636B5B454C739195AA7B28692AAECAA098D3E29...     15204      GOOD   \n",
       "2  7BDF500F749AB18900F48C8A30B03EA880AFEBD5F5B176...     15204      GOOD   \n",
       "3  30D8984113ECA227531EC4770A7A4A5929C97FF21A0EFF...     15204      GOOD   \n",
       "4  BB453C54C31C091099809613E80D74EDE582D89FCF9376...     15204      GOOD   \n",
       "\n",
       "    VisitDate AdherenceCategory NextAppointmentDate  \n",
       "0  2022-07-04              GOOD          2022-11-01  \n",
       "1  2023-05-19              GOOD          2023-08-17  \n",
       "2  2023-01-13              GOOD          2023-02-13  \n",
       "3  2023-01-13              GOOD          2023-05-02  \n",
       "4  2023-12-11              GOOD          2024-03-11  "
      ]
     },
     "execution_count": 9,
     "metadata": {},
     "output_type": "execute_result"
    }
   ],
   "source": [
    "'''\n",
    "Concatenate the PatientPKHash and  the SiteCode to form a \n",
    "unique patient identifier for each patient-facility combination.\n",
    "This is done for all the imported datasets for uniformity\n",
    "'''\n",
    "\n",
    "for df in dataframes:\n",
    "    # Concatenate the first two columns to form a new column called Patient_uid \n",
    "    # make the new column appear as the first one\n",
    "    df.insert(0, 'Patient_uid', df['PatientPKHash'] + df['SiteCode'].astype(str))\n",
    "    \n",
    "    # Drop PatientPKHash column \n",
    "    df.drop(columns=['PatientPKHash'], inplace=True)\n",
    "        \n",
    "# Confirming the changes\n",
    "patient_visits.head()"
   ]
  },
  {
   "cell_type": "code",
   "execution_count": 10,
   "id": "423eaa35",
   "metadata": {},
   "outputs": [],
   "source": [
    "# Drop the SiteCode column from all the datasets except from the ct_patients dataset\n",
    "\n",
    "# update the list of dataframes\n",
    "dataframes = [art_patients, patient_labs, patient_visits, patient_depression_scr]\n",
    "\n",
    "for df in dataframes:\n",
    "    df.drop(columns = ['SiteCode'], inplace = True)\n",
    "    "
   ]
  },
  {
   "cell_type": "markdown",
   "id": "99b5ac28",
   "metadata": {},
   "source": [
    "#### 1. ct_patients"
   ]
  },
  {
   "cell_type": "code",
   "execution_count": 11,
   "id": "fd29946e",
   "metadata": {},
   "outputs": [
    {
     "name": "stdout",
     "output_type": "stream",
     "text": [
      "<class 'pandas.core.frame.DataFrame'>\n",
      "RangeIndex: 601947 entries, 0 to 601946\n",
      "Data columns (total 9 columns):\n",
      " #   Column          Non-Null Count   Dtype \n",
      "---  ------          --------------   ----- \n",
      " 0   Patient_uid     601947 non-null  object\n",
      " 1   SiteCode        601947 non-null  int64 \n",
      " 2   FacilityName    601809 non-null  object\n",
      " 3   Region          600059 non-null  object\n",
      " 4   Gender          601947 non-null  object\n",
      " 5   LastVisit       601947 non-null  object\n",
      " 6   EducationLevel  362452 non-null  object\n",
      " 7   Occupation      315047 non-null  object\n",
      " 8   MaritalStatus   518036 non-null  object\n",
      "dtypes: int64(1), object(8)\n",
      "memory usage: 41.3+ MB\n"
     ]
    }
   ],
   "source": [
    "ct_patients.info()"
   ]
  },
  {
   "cell_type": "code",
   "execution_count": 12,
   "id": "4f42605e",
   "metadata": {},
   "outputs": [
    {
     "data": {
      "text/plain": [
       "601947"
      ]
     },
     "execution_count": 12,
     "metadata": {},
     "output_type": "execute_result"
    }
   ],
   "source": [
    "ct_patients['Patient_uid'].nunique() # Checking the number of unique patients contained in the dataset."
   ]
  },
  {
   "cell_type": "code",
   "execution_count": 13,
   "id": "9f26142d",
   "metadata": {},
   "outputs": [
    {
     "data": {
      "text/plain": [
       "Patient_uid            0\n",
       "SiteCode               0\n",
       "FacilityName         138\n",
       "Region              1888\n",
       "Gender                 0\n",
       "LastVisit              0\n",
       "EducationLevel    239495\n",
       "Occupation        286900\n",
       "MaritalStatus      83911\n",
       "dtype: int64"
      ]
     },
     "execution_count": 13,
     "metadata": {},
     "output_type": "execute_result"
    }
   ],
   "source": [
    "# Checking for the proportion of null values in the features of the dataset.\n",
    "ct_patients.isna().sum()"
   ]
  },
  {
   "cell_type": "markdown",
   "id": "4c1c2c05",
   "metadata": {},
   "source": [
    "From the results, ```EducationLevel``` and ```Occupation``` columns have the highest number of missing values but since they are relevant to our analysis, we will fill the null values in these columns with ```Unknown```"
   ]
  },
  {
   "cell_type": "markdown",
   "id": "5b5e1731",
   "metadata": {},
   "source": [
    "In the amputation of the NaN values, we will assume that the columns ```EducationLevel```, ```Region``` and ```MaritalStatus``` are unknown and fill them with ```Unknown```,since some patients prefer not to disclose this information.\n",
    "However in the ```Occupation``` column we fill it with ```OTHER``` because they most certainly have a source of livelihood whether formal or informal. The ```FacilityName``` column is accounted for by the ```SiteCode``` featuring in the ```Patient_uid``` and thus we filled the NaN values with ```'Missing'```.\n",
    "\n",
    "In this analysis and henceforth, we are going to focus on the patients in the ct_patients dataset ie. this dataset is going to be denominator for all the analysis conducted in this notebook."
   ]
  },
  {
   "cell_type": "code",
   "execution_count": 14,
   "id": "df4fa37f",
   "metadata": {},
   "outputs": [
    {
     "data": {
      "text/html": [
       "<div>\n",
       "<style scoped>\n",
       "    .dataframe tbody tr th:only-of-type {\n",
       "        vertical-align: middle;\n",
       "    }\n",
       "\n",
       "    .dataframe tbody tr th {\n",
       "        vertical-align: top;\n",
       "    }\n",
       "\n",
       "    .dataframe thead th {\n",
       "        text-align: right;\n",
       "    }\n",
       "</style>\n",
       "<table border=\"1\" class=\"dataframe\">\n",
       "  <thead>\n",
       "    <tr style=\"text-align: right;\">\n",
       "      <th></th>\n",
       "      <th>Patient_uid</th>\n",
       "      <th>SiteCode</th>\n",
       "      <th>FacilityName</th>\n",
       "      <th>Region</th>\n",
       "      <th>Gender</th>\n",
       "      <th>LastVisit</th>\n",
       "      <th>EducationLevel</th>\n",
       "      <th>Occupation</th>\n",
       "      <th>MaritalStatus</th>\n",
       "    </tr>\n",
       "  </thead>\n",
       "  <tbody>\n",
       "    <tr>\n",
       "      <th>0</th>\n",
       "      <td>78F96823AC7AD6E060E8D69DF686760669A4CCFD34EE70...</td>\n",
       "      <td>16800</td>\n",
       "      <td>Lea Toto Clinic (Westlands)</td>\n",
       "      <td>Nairobi</td>\n",
       "      <td>Female</td>\n",
       "      <td>2022-01-19</td>\n",
       "      <td>Unknown</td>\n",
       "      <td>OTHER</td>\n",
       "      <td>Unknown</td>\n",
       "    </tr>\n",
       "    <tr>\n",
       "      <th>1</th>\n",
       "      <td>FE9A28A6208798FCA425FB02E28B30ACF4DAAAD5E7D2F3...</td>\n",
       "      <td>18828</td>\n",
       "      <td>Lea Toto Zimmerman</td>\n",
       "      <td>Nairobi</td>\n",
       "      <td>Female</td>\n",
       "      <td>2022-01-10</td>\n",
       "      <td>Unknown</td>\n",
       "      <td>OTHER</td>\n",
       "      <td>Unknown</td>\n",
       "    </tr>\n",
       "    <tr>\n",
       "      <th>2</th>\n",
       "      <td>A38CB015A0BA15BAC709E502AD9A68632EF7D63C45575F...</td>\n",
       "      <td>12965</td>\n",
       "      <td>Guru Nanak Hospital</td>\n",
       "      <td>Nairobi</td>\n",
       "      <td>Female</td>\n",
       "      <td>2023-11-08</td>\n",
       "      <td>Unknown</td>\n",
       "      <td>OTHER</td>\n",
       "      <td>Single</td>\n",
       "    </tr>\n",
       "    <tr>\n",
       "      <th>3</th>\n",
       "      <td>DC628EEC29CD06711202042DB171BB4053CFB1B7D3C57C...</td>\n",
       "      <td>12965</td>\n",
       "      <td>Guru Nanak Hospital</td>\n",
       "      <td>Nairobi</td>\n",
       "      <td>Female</td>\n",
       "      <td>2023-12-07</td>\n",
       "      <td>Unknown</td>\n",
       "      <td>OTHER</td>\n",
       "      <td>Single</td>\n",
       "    </tr>\n",
       "    <tr>\n",
       "      <th>4</th>\n",
       "      <td>7B9AFEBB3092D6229690F152A77507B931EB4AA1A7E4D1...</td>\n",
       "      <td>18828</td>\n",
       "      <td>Lea Toto Zimmerman</td>\n",
       "      <td>Nairobi</td>\n",
       "      <td>Female</td>\n",
       "      <td>2022-01-13</td>\n",
       "      <td>Unknown</td>\n",
       "      <td>OTHER</td>\n",
       "      <td>Unknown</td>\n",
       "    </tr>\n",
       "  </tbody>\n",
       "</table>\n",
       "</div>"
      ],
      "text/plain": [
       "                                         Patient_uid  SiteCode  \\\n",
       "0  78F96823AC7AD6E060E8D69DF686760669A4CCFD34EE70...     16800   \n",
       "1  FE9A28A6208798FCA425FB02E28B30ACF4DAAAD5E7D2F3...     18828   \n",
       "2  A38CB015A0BA15BAC709E502AD9A68632EF7D63C45575F...     12965   \n",
       "3  DC628EEC29CD06711202042DB171BB4053CFB1B7D3C57C...     12965   \n",
       "4  7B9AFEBB3092D6229690F152A77507B931EB4AA1A7E4D1...     18828   \n",
       "\n",
       "                  FacilityName   Region  Gender  LastVisit EducationLevel  \\\n",
       "0  Lea Toto Clinic (Westlands)  Nairobi  Female 2022-01-19        Unknown   \n",
       "1           Lea Toto Zimmerman  Nairobi  Female 2022-01-10        Unknown   \n",
       "2          Guru Nanak Hospital  Nairobi  Female 2023-11-08        Unknown   \n",
       "3          Guru Nanak Hospital  Nairobi  Female 2023-12-07        Unknown   \n",
       "4           Lea Toto Zimmerman  Nairobi  Female 2022-01-13        Unknown   \n",
       "\n",
       "  Occupation MaritalStatus  \n",
       "0      OTHER       Unknown  \n",
       "1      OTHER       Unknown  \n",
       "2      OTHER        Single  \n",
       "3      OTHER        Single  \n",
       "4      OTHER       Unknown  "
      ]
     },
     "execution_count": 14,
     "metadata": {},
     "output_type": "execute_result"
    }
   ],
   "source": [
    "# Convert LastVisit column to datetime data type\n",
    "ct_patients['LastVisit'] = pd.to_datetime(ct_patients['LastVisit'])\n",
    "\n",
    "# Fill NaN values in 'Occupation' with 'OTHER'\n",
    "ct_patients['Occupation'].fillna('OTHER', inplace=True)\n",
    "\n",
    "# Fill NaN values in 'EducationLevel', 'Region', and 'MaritalStatus' with 'Unknown'\n",
    "ct_patients['EducationLevel'].fillna('Unknown', inplace=True)\n",
    "ct_patients['Region'].fillna('Unknown', inplace=True)\n",
    "ct_patients['MaritalStatus'].fillna('Unknown', inplace=True)\n",
    "ct_patients['FacilityName'].fillna('Missing', inplace=True)\n",
    "\n",
    "# Drop any duplicated rows\n",
    "ct_patients.drop_duplicates(inplace = True)\n",
    "\n",
    "# view the cleaned dataset\n",
    "ct_patients.head()"
   ]
  },
  {
   "cell_type": "code",
   "execution_count": 15,
   "id": "49a58a7e",
   "metadata": {},
   "outputs": [],
   "source": [
    "# select the records of only those patients whose Patient_uid is contained in ct_patients dataset\n",
    "dataframes = dataframes = [ct_patients, art_patients, patient_labs, patient_visits, patient_depression_scr]\n",
    "\n",
    "for df in dataframes:\n",
    "    df = df[df['Patient_uid'].isin(ct_patients['Patient_uid'])]"
   ]
  },
  {
   "cell_type": "code",
   "execution_count": 16,
   "id": "426a87aa",
   "metadata": {},
   "outputs": [
    {
     "data": {
      "text/html": [
       "<div>\n",
       "<style scoped>\n",
       "    .dataframe tbody tr th:only-of-type {\n",
       "        vertical-align: middle;\n",
       "    }\n",
       "\n",
       "    .dataframe tbody tr th {\n",
       "        vertical-align: top;\n",
       "    }\n",
       "\n",
       "    .dataframe thead th {\n",
       "        text-align: right;\n",
       "    }\n",
       "</style>\n",
       "<table border=\"1\" class=\"dataframe\">\n",
       "  <thead>\n",
       "    <tr style=\"text-align: right;\">\n",
       "      <th></th>\n",
       "      <th>Patient_uid</th>\n",
       "      <th>SiteCode</th>\n",
       "      <th>FacilityName</th>\n",
       "      <th>Region</th>\n",
       "      <th>Gender</th>\n",
       "      <th>LastVisit</th>\n",
       "      <th>EducationLevel</th>\n",
       "      <th>Occupation</th>\n",
       "      <th>MaritalStatus</th>\n",
       "    </tr>\n",
       "  </thead>\n",
       "  <tbody>\n",
       "    <tr>\n",
       "      <th>0</th>\n",
       "      <td>78F96823AC7AD6E060E8D69DF686760669A4CCFD34EE70...</td>\n",
       "      <td>16800</td>\n",
       "      <td>Lea Toto Clinic (Westlands)</td>\n",
       "      <td>Nairobi</td>\n",
       "      <td>Female</td>\n",
       "      <td>2022-01-19</td>\n",
       "      <td>Unknown</td>\n",
       "      <td>OTHER</td>\n",
       "      <td>Unknown</td>\n",
       "    </tr>\n",
       "    <tr>\n",
       "      <th>1</th>\n",
       "      <td>FE9A28A6208798FCA425FB02E28B30ACF4DAAAD5E7D2F3...</td>\n",
       "      <td>18828</td>\n",
       "      <td>Lea Toto Zimmerman</td>\n",
       "      <td>Nairobi</td>\n",
       "      <td>Female</td>\n",
       "      <td>2022-01-10</td>\n",
       "      <td>Unknown</td>\n",
       "      <td>OTHER</td>\n",
       "      <td>Unknown</td>\n",
       "    </tr>\n",
       "    <tr>\n",
       "      <th>2</th>\n",
       "      <td>A38CB015A0BA15BAC709E502AD9A68632EF7D63C45575F...</td>\n",
       "      <td>12965</td>\n",
       "      <td>Guru Nanak Hospital</td>\n",
       "      <td>Nairobi</td>\n",
       "      <td>Female</td>\n",
       "      <td>2023-11-08</td>\n",
       "      <td>Unknown</td>\n",
       "      <td>OTHER</td>\n",
       "      <td>Single</td>\n",
       "    </tr>\n",
       "    <tr>\n",
       "      <th>3</th>\n",
       "      <td>DC628EEC29CD06711202042DB171BB4053CFB1B7D3C57C...</td>\n",
       "      <td>12965</td>\n",
       "      <td>Guru Nanak Hospital</td>\n",
       "      <td>Nairobi</td>\n",
       "      <td>Female</td>\n",
       "      <td>2023-12-07</td>\n",
       "      <td>Unknown</td>\n",
       "      <td>OTHER</td>\n",
       "      <td>Single</td>\n",
       "    </tr>\n",
       "    <tr>\n",
       "      <th>4</th>\n",
       "      <td>7B9AFEBB3092D6229690F152A77507B931EB4AA1A7E4D1...</td>\n",
       "      <td>18828</td>\n",
       "      <td>Lea Toto Zimmerman</td>\n",
       "      <td>Nairobi</td>\n",
       "      <td>Female</td>\n",
       "      <td>2022-01-13</td>\n",
       "      <td>Unknown</td>\n",
       "      <td>OTHER</td>\n",
       "      <td>Unknown</td>\n",
       "    </tr>\n",
       "  </tbody>\n",
       "</table>\n",
       "</div>"
      ],
      "text/plain": [
       "                                         Patient_uid  SiteCode  \\\n",
       "0  78F96823AC7AD6E060E8D69DF686760669A4CCFD34EE70...     16800   \n",
       "1  FE9A28A6208798FCA425FB02E28B30ACF4DAAAD5E7D2F3...     18828   \n",
       "2  A38CB015A0BA15BAC709E502AD9A68632EF7D63C45575F...     12965   \n",
       "3  DC628EEC29CD06711202042DB171BB4053CFB1B7D3C57C...     12965   \n",
       "4  7B9AFEBB3092D6229690F152A77507B931EB4AA1A7E4D1...     18828   \n",
       "\n",
       "                  FacilityName   Region  Gender  LastVisit EducationLevel  \\\n",
       "0  Lea Toto Clinic (Westlands)  Nairobi  Female 2022-01-19        Unknown   \n",
       "1           Lea Toto Zimmerman  Nairobi  Female 2022-01-10        Unknown   \n",
       "2          Guru Nanak Hospital  Nairobi  Female 2023-11-08        Unknown   \n",
       "3          Guru Nanak Hospital  Nairobi  Female 2023-12-07        Unknown   \n",
       "4           Lea Toto Zimmerman  Nairobi  Female 2022-01-13        Unknown   \n",
       "\n",
       "  Occupation MaritalStatus  \n",
       "0      OTHER       Unknown  \n",
       "1      OTHER       Unknown  \n",
       "2      OTHER        Single  \n",
       "3      OTHER        Single  \n",
       "4      OTHER       Unknown  "
      ]
     },
     "execution_count": 16,
     "metadata": {},
     "output_type": "execute_result"
    }
   ],
   "source": [
    "# Convert LastVisit column to datetime data type\n",
    "ct_patients['LastVisit'] = pd.to_datetime(ct_patients['LastVisit'])\n",
    "\n",
    "# Dropping the rows with na values \n",
    "clean_ct_patients = ct_patients.dropna(axis = 0)\n",
    "\n",
    "#Drop any duplicated rows\n",
    "clean_ct_patients.drop_duplicates()\n",
    "\n",
    "# view the cleaned dataset\n",
    "clean_ct_patients.head()"
   ]
  },
  {
   "cell_type": "markdown",
   "id": "733802c2",
   "metadata": {},
   "source": [
    "#### 2. art_patients"
   ]
  },
  {
   "cell_type": "code",
   "execution_count": 17,
   "id": "08dcb688",
   "metadata": {},
   "outputs": [
    {
     "name": "stdout",
     "output_type": "stream",
     "text": [
      "<class 'pandas.core.frame.DataFrame'>\n",
      "RangeIndex: 2416660 entries, 0 to 2416659\n",
      "Data columns (total 8 columns):\n",
      " #   Column         Dtype  \n",
      "---  ------         -----  \n",
      " 0   Patient_uid    object \n",
      " 1   ExitReason     object \n",
      " 2   AgeEnrollment  float64\n",
      " 3   StartARTDate   object \n",
      " 4   AgeLastVisit   float64\n",
      " 5   AgeARTStart    float64\n",
      " 6   StartRegimen   object \n",
      " 7   LastRegimen    object \n",
      "dtypes: float64(3), object(5)\n",
      "memory usage: 147.5+ MB\n"
     ]
    }
   ],
   "source": [
    "art_patients.info()"
   ]
  },
  {
   "cell_type": "code",
   "execution_count": 18,
   "id": "aae39c06",
   "metadata": {},
   "outputs": [
    {
     "name": "stdout",
     "output_type": "stream",
     "text": [
      "Patient_uid          260\n",
      "ExitReason       1529179\n",
      "AgeEnrollment      65171\n",
      "StartARTDate       14801\n",
      "AgeLastVisit       84190\n",
      "AgeARTStart        65361\n",
      "StartRegimen      124973\n",
      "LastRegimen        78615\n",
      "dtype: int64\n"
     ]
    }
   ],
   "source": [
    "# Check for the na values in the dataframe\n",
    "print(art_patients.isna().sum())"
   ]
  },
  {
   "cell_type": "code",
   "execution_count": 19,
   "id": "7684607f",
   "metadata": {},
   "outputs": [
    {
     "name": "stdout",
     "output_type": "stream",
     "text": [
      "The ExitReason column is missing 63.27654696978475 % of the datapoints\n"
     ]
    }
   ],
   "source": [
    "print(f\"The ExitReason column is missing {art_patients['ExitReason'].isna().sum() * 100/len(art_patients)} % of the datapoints\")"
   ]
  },
  {
   "cell_type": "markdown",
   "id": "2c2316af",
   "metadata": {},
   "source": [
    "We then compute the days between the next appointment date and the next visit for us to determine if the patient is still in treatment or they are LTFU (lost to follow up). Patients are considered to be LTFU once they have defaulted their next appointment for more than 30 days since when it was due.\n"
   ]
  },
  {
   "cell_type": "code",
   "execution_count": 20,
   "id": "05056369",
   "metadata": {},
   "outputs": [
    {
     "name": "stdout",
     "output_type": "stream",
     "text": [
      "<class 'pandas.core.frame.DataFrame'>\n",
      "Index: 741706 entries, 5 to 2416654\n",
      "Data columns (total 8 columns):\n",
      " #   Column         Non-Null Count   Dtype         \n",
      "---  ------         --------------   -----         \n",
      " 0   Patient_uid    741706 non-null  object        \n",
      " 1   ExitReason     741706 non-null  object        \n",
      " 2   AgeEnrollment  741706 non-null  float64       \n",
      " 3   StartARTDate   741706 non-null  datetime64[ns]\n",
      " 4   AgeLastVisit   741706 non-null  float64       \n",
      " 5   AgeARTStart    741706 non-null  float64       \n",
      " 6   StartRegimen   741706 non-null  object        \n",
      " 7   LastRegimen    741706 non-null  object        \n",
      "dtypes: datetime64[ns](1), float64(3), object(4)\n",
      "memory usage: 50.9+ MB\n"
     ]
    }
   ],
   "source": [
    "# We then drop the datapoints with the na values\n",
    "art_patients.dropna(inplace=True)\n",
    "\n",
    "# Convert StartARTDate column to datetime data type\n",
    "art_patients['StartARTDate'] = pd.to_datetime(art_patients['StartARTDate'])\n",
    "\n",
    "# Confirm changes\n",
    "art_patients.info()"
   ]
  },
  {
   "cell_type": "code",
   "execution_count": 21,
   "id": "2e0ceba8",
   "metadata": {},
   "outputs": [
    {
     "data": {
      "text/plain": [
       "array(['TRANSFER OUT', 'DEAD', 'LTFU', 'COMPLETED TREATMENT', 'OTHERS',\n",
       "       'STOPPED TREATMENT'], dtype=object)"
      ]
     },
     "execution_count": 21,
     "metadata": {},
     "output_type": "execute_result"
    }
   ],
   "source": [
    "# Checking for the distinct values in the modified column\n",
    "art_patients['ExitReason'].unique() "
   ]
  },
  {
   "cell_type": "code",
   "execution_count": 22,
   "id": "f9a36686",
   "metadata": {},
   "outputs": [],
   "source": [
    "# Rename the ExitReason column in the art_patients dataframe to avoid confusion since \n",
    "# it also appears in the status dataset\n",
    "art_patients.rename(columns={'ExitReason': 'ArtExitReason'}, inplace=True)"
   ]
  },
  {
   "cell_type": "code",
   "execution_count": 23,
   "id": "dea13396",
   "metadata": {},
   "outputs": [
    {
     "data": {
      "text/html": [
       "<div>\n",
       "<style scoped>\n",
       "    .dataframe tbody tr th:only-of-type {\n",
       "        vertical-align: middle;\n",
       "    }\n",
       "\n",
       "    .dataframe tbody tr th {\n",
       "        vertical-align: top;\n",
       "    }\n",
       "\n",
       "    .dataframe thead th {\n",
       "        text-align: right;\n",
       "    }\n",
       "</style>\n",
       "<table border=\"1\" class=\"dataframe\">\n",
       "  <thead>\n",
       "    <tr style=\"text-align: right;\">\n",
       "      <th></th>\n",
       "      <th>Patient_uid</th>\n",
       "      <th>ArtExitReason</th>\n",
       "      <th>AgeEnrollment</th>\n",
       "      <th>StartARTDate</th>\n",
       "      <th>AgeLastVisit</th>\n",
       "      <th>AgeARTStart</th>\n",
       "      <th>StartRegimen</th>\n",
       "      <th>LastRegimen</th>\n",
       "    </tr>\n",
       "  </thead>\n",
       "  <tbody>\n",
       "    <tr>\n",
       "      <th>0</th>\n",
       "      <td>00000B642116102B43DBB14131E3050512B0C562C3E087...</td>\n",
       "      <td>LTFU</td>\n",
       "      <td>0.0</td>\n",
       "      <td>2011-07-08</td>\n",
       "      <td>0.0</td>\n",
       "      <td>0.0</td>\n",
       "      <td>3TC + NVP + ABC</td>\n",
       "      <td>3TC + NVP + ABC</td>\n",
       "    </tr>\n",
       "    <tr>\n",
       "      <th>1</th>\n",
       "      <td>00001D3E47BE84D61F69907A49D71C3E10751D47F49D6A...</td>\n",
       "      <td>LTFU</td>\n",
       "      <td>57.0</td>\n",
       "      <td>2020-01-07</td>\n",
       "      <td>59.0</td>\n",
       "      <td>57.0</td>\n",
       "      <td>3TC + TDF + DTG</td>\n",
       "      <td>3TC + TDF + DTG</td>\n",
       "    </tr>\n",
       "    <tr>\n",
       "      <th>2</th>\n",
       "      <td>00003630D1508285B640469357CC420BCE83E9424D28A8...</td>\n",
       "      <td>TRANSFER OUT</td>\n",
       "      <td>21.0</td>\n",
       "      <td>2016-10-27</td>\n",
       "      <td>24.0</td>\n",
       "      <td>21.0</td>\n",
       "      <td>3TC + EFV + TDF</td>\n",
       "      <td>3TC + EFV + TDF</td>\n",
       "    </tr>\n",
       "    <tr>\n",
       "      <th>3</th>\n",
       "      <td>0000EDD09F54622457C22B1C03B5CD7BD530779F94EBB3...</td>\n",
       "      <td>LTFU</td>\n",
       "      <td>62.0</td>\n",
       "      <td>2014-01-14</td>\n",
       "      <td>62.0</td>\n",
       "      <td>62.0</td>\n",
       "      <td>3TC + EFV + TDF</td>\n",
       "      <td>3TC + EFV + TDF</td>\n",
       "    </tr>\n",
       "    <tr>\n",
       "      <th>4</th>\n",
       "      <td>000114516EC31395403FA7C4CC5E7FE8EC7E10D0EC457F...</td>\n",
       "      <td>DEAD</td>\n",
       "      <td>29.0</td>\n",
       "      <td>2017-01-19</td>\n",
       "      <td>31.0</td>\n",
       "      <td>29.0</td>\n",
       "      <td>3TC+EFV+TDF</td>\n",
       "      <td>3TC+DTG+TDF</td>\n",
       "    </tr>\n",
       "  </tbody>\n",
       "</table>\n",
       "</div>"
      ],
      "text/plain": [
       "                                         Patient_uid ArtExitReason  \\\n",
       "0  00000B642116102B43DBB14131E3050512B0C562C3E087...          LTFU   \n",
       "1  00001D3E47BE84D61F69907A49D71C3E10751D47F49D6A...          LTFU   \n",
       "2  00003630D1508285B640469357CC420BCE83E9424D28A8...  TRANSFER OUT   \n",
       "3  0000EDD09F54622457C22B1C03B5CD7BD530779F94EBB3...          LTFU   \n",
       "4  000114516EC31395403FA7C4CC5E7FE8EC7E10D0EC457F...          DEAD   \n",
       "\n",
       "   AgeEnrollment StartARTDate  AgeLastVisit  AgeARTStart     StartRegimen  \\\n",
       "0            0.0   2011-07-08           0.0          0.0  3TC + NVP + ABC   \n",
       "1           57.0   2020-01-07          59.0         57.0  3TC + TDF + DTG   \n",
       "2           21.0   2016-10-27          24.0         21.0  3TC + EFV + TDF   \n",
       "3           62.0   2014-01-14          62.0         62.0  3TC + EFV + TDF   \n",
       "4           29.0   2017-01-19          31.0         29.0      3TC+EFV+TDF   \n",
       "\n",
       "       LastRegimen  \n",
       "0  3TC + NVP + ABC  \n",
       "1  3TC + TDF + DTG  \n",
       "2  3TC + EFV + TDF  \n",
       "3  3TC + EFV + TDF  \n",
       "4      3TC+DTG+TDF  "
      ]
     },
     "execution_count": 23,
     "metadata": {},
     "output_type": "execute_result"
    }
   ],
   "source": [
    "# Group the DataFrame by Patient_uid and select the last record for each group\n",
    "# These are the records that will be used for prediction\n",
    "last_records = art_patients.groupby('Patient_uid').last()\n",
    "\n",
    "# ungroup after filtration\n",
    "clean_art_patients = last_records.reset_index()\n",
    "\n",
    "#view head\n",
    "clean_art_patients.head()"
   ]
  },
  {
   "cell_type": "markdown",
   "id": "f10f0fbf",
   "metadata": {},
   "source": [
    "#### 3. patient_visits"
   ]
  },
  {
   "cell_type": "code",
   "execution_count": 24,
   "id": "cbffe7a6",
   "metadata": {},
   "outputs": [
    {
     "name": "stdout",
     "output_type": "stream",
     "text": [
      "<class 'pandas.core.frame.DataFrame'>\n",
      "RangeIndex: 10784630 entries, 0 to 10784629\n",
      "Data columns (total 5 columns):\n",
      " #   Column               Dtype \n",
      "---  ------               ----- \n",
      " 0   Patient_uid          object\n",
      " 1   Adherence            object\n",
      " 2   VisitDate            object\n",
      " 3   AdherenceCategory    object\n",
      " 4   NextAppointmentDate  object\n",
      "dtypes: object(5)\n",
      "memory usage: 411.4+ MB\n"
     ]
    }
   ],
   "source": [
    "# Viewing the information about the visits dataset\n",
    "patient_visits.info()"
   ]
  },
  {
   "cell_type": "code",
   "execution_count": 25,
   "id": "895eb61d",
   "metadata": {},
   "outputs": [
    {
     "data": {
      "text/html": [
       "<div>\n",
       "<style scoped>\n",
       "    .dataframe tbody tr th:only-of-type {\n",
       "        vertical-align: middle;\n",
       "    }\n",
       "\n",
       "    .dataframe tbody tr th {\n",
       "        vertical-align: top;\n",
       "    }\n",
       "\n",
       "    .dataframe thead th {\n",
       "        text-align: right;\n",
       "    }\n",
       "</style>\n",
       "<table border=\"1\" class=\"dataframe\">\n",
       "  <thead>\n",
       "    <tr style=\"text-align: right;\">\n",
       "      <th></th>\n",
       "      <th>Patient_uid</th>\n",
       "      <th>Adherence</th>\n",
       "      <th>VisitDate</th>\n",
       "      <th>AdherenceCategory</th>\n",
       "      <th>NextAppointmentDate</th>\n",
       "    </tr>\n",
       "  </thead>\n",
       "  <tbody>\n",
       "    <tr>\n",
       "      <th>0</th>\n",
       "      <td>F099AA757FCAF0709211D33D7E2FA4CE9A23652C13CAB4...</td>\n",
       "      <td>GOOD</td>\n",
       "      <td>2022-07-04</td>\n",
       "      <td>GOOD</td>\n",
       "      <td>2022-11-01</td>\n",
       "    </tr>\n",
       "    <tr>\n",
       "      <th>1</th>\n",
       "      <td>3D5061D636B5B454C739195AA7B28692AAECAA098D3E29...</td>\n",
       "      <td>GOOD</td>\n",
       "      <td>2023-05-19</td>\n",
       "      <td>GOOD</td>\n",
       "      <td>2023-08-17</td>\n",
       "    </tr>\n",
       "    <tr>\n",
       "      <th>2</th>\n",
       "      <td>7BDF500F749AB18900F48C8A30B03EA880AFEBD5F5B176...</td>\n",
       "      <td>GOOD</td>\n",
       "      <td>2023-01-13</td>\n",
       "      <td>GOOD</td>\n",
       "      <td>2023-02-13</td>\n",
       "    </tr>\n",
       "    <tr>\n",
       "      <th>3</th>\n",
       "      <td>30D8984113ECA227531EC4770A7A4A5929C97FF21A0EFF...</td>\n",
       "      <td>GOOD</td>\n",
       "      <td>2023-01-13</td>\n",
       "      <td>GOOD</td>\n",
       "      <td>2023-05-02</td>\n",
       "    </tr>\n",
       "    <tr>\n",
       "      <th>4</th>\n",
       "      <td>BB453C54C31C091099809613E80D74EDE582D89FCF9376...</td>\n",
       "      <td>GOOD</td>\n",
       "      <td>2023-12-11</td>\n",
       "      <td>GOOD</td>\n",
       "      <td>2024-03-11</td>\n",
       "    </tr>\n",
       "  </tbody>\n",
       "</table>\n",
       "</div>"
      ],
      "text/plain": [
       "                                         Patient_uid Adherence  VisitDate  \\\n",
       "0  F099AA757FCAF0709211D33D7E2FA4CE9A23652C13CAB4...      GOOD 2022-07-04   \n",
       "1  3D5061D636B5B454C739195AA7B28692AAECAA098D3E29...      GOOD 2023-05-19   \n",
       "2  7BDF500F749AB18900F48C8A30B03EA880AFEBD5F5B176...      GOOD 2023-01-13   \n",
       "3  30D8984113ECA227531EC4770A7A4A5929C97FF21A0EFF...      GOOD 2023-01-13   \n",
       "4  BB453C54C31C091099809613E80D74EDE582D89FCF9376...      GOOD 2023-12-11   \n",
       "\n",
       "  AdherenceCategory NextAppointmentDate  \n",
       "0              GOOD          2022-11-01  \n",
       "1              GOOD          2023-08-17  \n",
       "2              GOOD          2023-02-13  \n",
       "3              GOOD          2023-05-02  \n",
       "4              GOOD          2024-03-11  "
      ]
     },
     "execution_count": 25,
     "metadata": {},
     "output_type": "execute_result"
    }
   ],
   "source": [
    "# Convert VisitDate column to datetime data type\n",
    "patient_visits['VisitDate'] = pd.to_datetime(patient_visits['VisitDate'])\n",
    "\n",
    "# Convert NextAppointmentDate column to datetime data type\n",
    "patient_visits['NextAppointmentDate'] = pd.to_datetime(patient_visits['NextAppointmentDate'])\n",
    "\n",
    "patient_visits.head()"
   ]
  },
  {
   "cell_type": "markdown",
   "id": "a323fbe7",
   "metadata": {},
   "source": [
    "We need to create the ```NextVisit``` column that will be used to determine if the patient is ```LTFU``` or not by lagging the ```VisitDate``` column."
   ]
  },
  {
   "cell_type": "code",
   "execution_count": null,
   "id": "bece028e",
   "metadata": {},
   "outputs": [],
   "source": [
    "# Group by Patient_uid and arrange by VisitDate in descending order within each group\n",
    "patient_visits = patient_visits.groupby('Patient_uid').apply(lambda x: x.sort_values('VisitDate', ascending=True))\n",
    "\n",
    "# Calculate the next visit date by shifting the VisitDate column forward by one row within each group\n",
    "patient_visits['NextVisit'] = patient_visits['VisitDate'].shift(periods=-1)\n",
    "\n",
    "# Drop the grouping index to ungroup the DataFrame\n",
    "patient_visits.reset_index(drop=True, inplace=True)\n",
    "\n",
    "\n",
    "# create a new column called Status which will take a value \"LTFU\" if the difference between NextVisit and NextAppointmentDate is more than 30days \n",
    "# else take a value \"In Treatment\"\n",
    "patient_visits['Status'] = 'In Treatment'\n",
    "patient_visits.loc[(patient_visits['NextVisit'] - patient_visits['NextAppointmentDate']).dt.days > 30, 'Status'] = 'IIT'\n",
    "\n",
    "# View head\n",
    "patient_visits.head()"
   ]
  },
  {
   "cell_type": "markdown",
   "id": "5168f834",
   "metadata": {},
   "source": [
    "We will now filter out to remain with the records for the most recent visits for each patient."
   ]
  },
  {
   "cell_type": "code",
   "execution_count": null,
   "id": "dd8e8d2f",
   "metadata": {},
   "outputs": [],
   "source": [
    "# group by patientPKHash, select the most recent record as per VisitDate for each unique patient\n",
    "\n",
    "recent_visits = patient_visits.groupby('PatientPKHash').apply(lambda x: x.sort_values('VisitDate', Ascending = True)).tail(1).reset_index(drop=True)\n",
    "recent_visits.head()\n"
   ]
  },
  {
   "cell_type": "code",
   "execution_count": null,
   "id": "905a0b57",
   "metadata": {},
   "outputs": [],
   "source": [
    "# Checking for the number of uniqie patients contained in the dataset\n",
    "recent_visits['Patient_uid'].nunique()"
   ]
  },
  {
   "cell_type": "code",
   "execution_count": null,
   "id": "98f7eae7",
   "metadata": {},
   "outputs": [],
   "source": [
    "# checking for the unique values of the adherence categories\n",
    "print(recent_visits['Adherence'].unique())\n",
    "print(recent_visits['AdherenceCategory'].unique())"
   ]
  },
  {
   "cell_type": "code",
   "execution_count": null,
   "id": "5af6acc7",
   "metadata": {},
   "outputs": [],
   "source": [
    "# Checking for na values\n",
    "recent_visits.isna().sum()"
   ]
  },
  {
   "cell_type": "markdown",
   "id": "c8476dd6",
   "metadata": {},
   "source": [
    "Since only a small portion of the data is missing we'll drop the missing data points from the visits dataset."
   ]
  },
  {
   "cell_type": "code",
   "execution_count": null,
   "id": "1509e975",
   "metadata": {},
   "outputs": [],
   "source": [
    "# Dropping the na values\n",
    "recent_visits = recent_visits.dropna()\n",
    "\n",
    "# view changes\n",
    "recent_visits.info()"
   ]
  },
  {
   "cell_type": "code",
   "execution_count": null,
   "id": "f1789ed4",
   "metadata": {},
   "outputs": [],
   "source": [
    "# Extracting the first part of the values in the Adherence column\n",
    "recent_visits['Adherence'] = recent_visits['Adherence'].str.split('|').str[0]\n",
    "# confirm changes\n",
    "recent_visits['Adherence'].unique()"
   ]
  },
  {
   "cell_type": "code",
   "execution_count": null,
   "id": "2caee52c",
   "metadata": {},
   "outputs": [],
   "source": [
    "# Replace \"0\" with NaN in 'Adherence' column\n",
    "recent_visits['Adherence'] = recent_visits['Adherence'].replace('0', np.nan)\n",
    "\n",
    "# Convert 'Adherence' column to lowercase\n",
    "recent_visits['Adherence'] = recent_visits['Adherence'].str.lower()\n",
    "\n",
    "# View head\n",
    "recent_visits.head()"
   ]
  },
  {
   "cell_type": "markdown",
   "id": "4c9b5be2",
   "metadata": {},
   "source": [
    "Since we are only interested on the art adherence, we'll drop the AdherenceCategory column. The CTX category indicates the level of adherence to the drug for treating opportunistic infections."
   ]
  },
  {
   "cell_type": "code",
   "execution_count": null,
   "id": "829ce5af",
   "metadata": {},
   "outputs": [],
   "source": [
    "# Drop the na values that we inserted\n",
    "recent_visits.dropna(inplace=True)\n",
    "\n",
    "# Drop the AdherenceCategory\n",
    "recent_visits.drop(columns='AdherenceCategory', inplace=True)\n",
    "\n",
    "# Rename 'Adherence' column to 'ArtAdherence'\n",
    "recent_visits.rename(columns={'Adherence': 'ArtAdherence'}, inplace=True)\n"
   ]
  },
  {
   "cell_type": "markdown",
   "id": "18ff4f22",
   "metadata": {},
   "source": [
    "#### 5. Patient_labs"
   ]
  },
  {
   "cell_type": "code",
   "execution_count": null,
   "id": "10dc753b",
   "metadata": {},
   "outputs": [],
   "source": [
    "patient_labs.info()"
   ]
  },
  {
   "cell_type": "code",
   "execution_count": null,
   "id": "6bafc882",
   "metadata": {},
   "outputs": [],
   "source": [
    "# check for na values\n",
    "patient_labs.isna().sum()"
   ]
  },
  {
   "cell_type": "code",
   "execution_count": null,
   "id": "d8f74f5d",
   "metadata": {},
   "outputs": [],
   "source": [
    "# Drop the missing values from the dataset\n",
    "patient_labs.dropna(inplace=True)"
   ]
  },
  {
   "cell_type": "code",
   "execution_count": null,
   "id": "a7d25e22",
   "metadata": {},
   "outputs": [],
   "source": [
    "patient_labs.head()"
   ]
  },
  {
   "cell_type": "code",
   "execution_count": null,
   "id": "52cdbbf4",
   "metadata": {},
   "outputs": [],
   "source": [
    "# Check the number of tests run on eaxh patient\n",
    "patient_labs['TestName'].unique()"
   ]
  },
  {
   "cell_type": "markdown",
   "id": "739704a7",
   "metadata": {},
   "source": [
    "From the tests above, we are only interested in the results for ```Viral Load```, ```CD4 Count``` and ```CD4 Percentage``` tests for our analysis."
   ]
  },
  {
   "cell_type": "code",
   "execution_count": null,
   "id": "a531f51c",
   "metadata": {
    "scrolled": true
   },
   "outputs": [],
   "source": [
    "# Filter the DataFrame\n",
    "filtered_patient_labs = patient_labs[patient_labs['TestName'].isin(['Viral Load', 'CD4 Count', 'CD4 Percentage'])]\n",
    "\n",
    "# Show the filtered DataFrame\n",
    "filtered_patient_labs"
   ]
  },
  {
   "cell_type": "code",
   "execution_count": null,
   "id": "7a01a04a",
   "metadata": {},
   "outputs": [],
   "source": [
    "# Replace text values with 0 in 'TestResult' column\n",
    "filtered_patient_labs['TestResult'] = pd.to_numeric(filtered_patient_labs['TestResult'], errors='coerce').fillna(0)\n",
    "\n",
    "# Convert 'TestResult' column to float data type\n",
    "filtered_patient_labs['TestResult'] = filtered_patient_labs['TestResult'].astype(float)\n",
    "\n",
    "# Group by 'Patient_uid', sort by 'OrderedbyDate', and get the latest entry for each group\n",
    "latest_tests = filtered_patient_labs.sort_values('OrderedbyDate').groupby('Patient_uid').last()\n",
    "\n",
    "# Reset index to make 'Patient_uid' a column\n",
    "latest_tests.reset_index(inplace=True)\n",
    "\n",
    "# View head\n",
    "latest_tests.head()"
   ]
  },
  {
   "cell_type": "markdown",
   "id": "accdb72b",
   "metadata": {},
   "source": [
    "  #### 6. patient_depression_scr"
   ]
  },
  {
   "cell_type": "code",
   "execution_count": null,
   "id": "b0ae52de",
   "metadata": {},
   "outputs": [],
   "source": [
    "# Get the information\n",
    "patient_depression_scr.info()"
   ]
  },
  {
   "cell_type": "code",
   "execution_count": null,
   "id": "5d4d5835",
   "metadata": {},
   "outputs": [],
   "source": [
    "# check for missing values\n",
    "patient_depression_scr.isna().sum()"
   ]
  },
  {
   "cell_type": "code",
   "execution_count": null,
   "id": "b2d6dfe3",
   "metadata": {},
   "outputs": [],
   "source": [
    "# convert the VisitDate column into date time data type\n",
    "patient_depression_scr['VisitDate'] = pd.to_datetime(patient_depression_scr['VisitDate'])\n",
    "\n",
    "# we drop the DepressionAssesmentScore and VisitDate columns\n",
    "patient_depression_scr.drop(columns= [\"DepressionAssesmentScore\",\"VisitDate\"], inplace=True)\n",
    "\n",
    "patient_depression_scr.head()"
   ]
  },
  {
   "cell_type": "markdown",
   "id": "071c6bb0",
   "metadata": {},
   "source": [
    "### Merging The Datasets"
   ]
  },
  {
   "cell_type": "code",
   "execution_count": null,
   "id": "3feb5dd2",
   "metadata": {},
   "outputs": [],
   "source": [
    "clean_dfs = [clean_ct_patients, clean_art_patients, recent_visits, latest_tests, patient_depression_scr]\n",
    "\n",
    "# Merge dataframes on 'Patient_uid' column\n",
    "merged_df = None\n",
    "for df in clean_dfs:\n",
    "    if merged_df is None:\n",
    "        merged_df = df\n",
    "    else:\n",
    "        merged_df = pd.merge(merged_df, df, on='Patient_uid', how='left')\n",
    "\n",
    "merged_df.head()"
   ]
  },
  {
   "cell_type": "code",
   "execution_count": null,
   "id": "e139a039",
   "metadata": {},
   "outputs": [],
   "source": [
    "merged_df.info()"
   ]
  },
  {
   "cell_type": "code",
   "execution_count": null,
   "id": "95216b04",
   "metadata": {},
   "outputs": [],
   "source": [
    "# Drop the ExitReason, OrderedbyDate and FacilityName columns since they are redundant\n",
    "merged_df.drop(columns=['ExitReason', 'OrderedbyDate', 'FacilityName'], inplace=True)\n",
    "final_df = merged_df.dropna()\n",
    "final_df.info()"
   ]
  },
  {
   "cell_type": "code",
   "execution_count": null,
   "id": "f30e25bd",
   "metadata": {},
   "outputs": [],
   "source": [
    "final_df.head()"
   ]
  },
  {
   "cell_type": "code",
   "execution_count": null,
   "id": "dc8544f3",
   "metadata": {},
   "outputs": [],
   "source": [
    "# Writing into a csv file\n",
    "final_df.to_csv('final_dataframe.csv', index=False)"
   ]
  },
  {
   "cell_type": "code",
   "execution_count": null,
   "id": "22136a7f",
   "metadata": {},
   "outputs": [],
   "source": [
    "# Suggested plots for visualizations\n",
    "\n",
    "# distribution of LTFU patients\n",
    "# distribution of transfered out patients by region\n",
    "# distribution of LTFU patients by region\n",
    "# distribution of LTFU patients by occupation\n",
    "# distribution of LTFU patients by gender\n",
    "# distribution of patients by ExitReason (establish portion in each category)\n",
    "# use the patient_labs and patient_visits"
   ]
  },
  {
   "cell_type": "markdown",
   "id": "197455b5",
   "metadata": {},
   "source": [
    "### DATA VISUALIZATION"
   ]
  },
  {
   "cell_type": "code",
   "execution_count": null,
   "id": "a3f5a49e",
   "metadata": {},
   "outputs": [],
   "source": []
  }
 ],
 "metadata": {
  "kernelspec": {
   "display_name": "Python 3 (ipykernel)",
   "language": "python",
   "name": "python3"
  },
  "language_info": {
   "codemirror_mode": {
    "name": "ipython",
    "version": 3
   },
   "file_extension": ".py",
   "mimetype": "text/x-python",
   "name": "python",
   "nbconvert_exporter": "python",
   "pygments_lexer": "ipython3",
   "version": "3.8.5"
  }
 },
 "nbformat": 4,
 "nbformat_minor": 5
}
