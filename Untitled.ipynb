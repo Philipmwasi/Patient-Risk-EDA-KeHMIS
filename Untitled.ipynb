{
 "cells": [
  {
   "cell_type": "code",
   "execution_count": 1,
   "id": "5231b696",
   "metadata": {},
   "outputs": [],
   "source": [
    "# Importing the necessary packages\n",
    "import pandas as pd\n",
    "import numpy as np\n",
    "import seaborn as sns\n",
    "import matplotlib.pyplot as plt\n",
    "%matplotlib inline\n",
    "import warnings\n",
    "warnings.filterwarnings('ignore')"
   ]
  },
  {
   "cell_type": "markdown",
   "id": "2c33d37a",
   "metadata": {},
   "source": [
    "IMPORTING THE DATASETS"
   ]
  },
  {
   "cell_type": "code",
   "execution_count": 2,
   "id": "38717b75",
   "metadata": {
    "scrolled": true
   },
   "outputs": [],
   "source": [
    "ct_patients = pd.read_csv('CT_patients.csv')  # Importing the patients datasets\n",
    "art_patients = pd.read_csv(\"ct_art_patients.csv\") # Importing the art patient data\n",
    "patient_visits = pd.read_csv(\"CT_PatientVisits.csv\") # Importing the patient visits dataset\n",
    "patient_status = pd.read_csv(\"CT_PatientStatus.csv\")  # Importing the Patient Status dataset\n",
    "patient_labs = pd.read_csv(\"ct_patient_labs.csv\")   # Importing the labs dataset\n",
    "patient_depression_scr = pd.read_csv(\"CT_depressionscreening.csv\")   #Importing the depression screening dataset"
   ]
  },
  {
   "cell_type": "markdown",
   "id": "a88ffa7b",
   "metadata": {},
   "source": [
    "Now that we have imported all the datasets we need, we will now merge them into one dataset, clean and do exploratory data analysis on it."
   ]
  },
  {
   "cell_type": "markdown",
   "id": "39b51674",
   "metadata": {},
   "source": [
    "### EXPLORATORY DATA  ANALYSIS"
   ]
  },
  {
   "cell_type": "markdown",
   "id": "8d6678c3",
   "metadata": {},
   "source": [
    "#### DATA CLEANING"
   ]
  },
  {
   "cell_type": "markdown",
   "id": "5cfceaf4",
   "metadata": {},
   "source": [
    "The data cleaning process will be done on individual datasets before merging them into one dataset that will be used for the rest of the exploratory data analysis to avoid merging issues."
   ]
  },
  {
   "cell_type": "markdown",
   "id": "0c910bd7",
   "metadata": {},
   "source": [
    "##### 1. ct_patients"
   ]
  },
  {
   "cell_type": "code",
   "execution_count": 3,
   "id": "bc37e7b8",
   "metadata": {},
   "outputs": [
    {
     "data": {
      "text/html": [
       "<div>\n",
       "<style scoped>\n",
       "    .dataframe tbody tr th:only-of-type {\n",
       "        vertical-align: middle;\n",
       "    }\n",
       "\n",
       "    .dataframe tbody tr th {\n",
       "        vertical-align: top;\n",
       "    }\n",
       "\n",
       "    .dataframe thead th {\n",
       "        text-align: right;\n",
       "    }\n",
       "</style>\n",
       "<table border=\"1\" class=\"dataframe\">\n",
       "  <thead>\n",
       "    <tr style=\"text-align: right;\">\n",
       "      <th></th>\n",
       "      <th>Unnamed: 0</th>\n",
       "      <th>PatientPKHash</th>\n",
       "      <th>SiteCode</th>\n",
       "      <th>FacilityName</th>\n",
       "      <th>Region</th>\n",
       "      <th>Gender</th>\n",
       "      <th>LastVisit</th>\n",
       "      <th>EducationLevel</th>\n",
       "      <th>Occupation</th>\n",
       "      <th>MaritalStatus</th>\n",
       "    </tr>\n",
       "  </thead>\n",
       "  <tbody>\n",
       "    <tr>\n",
       "      <th>0</th>\n",
       "      <td>1</td>\n",
       "      <td>78F96823AC7AD6E060E8D69DF686760669A4CCFD34EE70...</td>\n",
       "      <td>16800</td>\n",
       "      <td>Lea Toto Clinic (Westlands)</td>\n",
       "      <td>Nairobi</td>\n",
       "      <td>Female</td>\n",
       "      <td>2022-01-19</td>\n",
       "      <td>NaN</td>\n",
       "      <td>NaN</td>\n",
       "      <td>NaN</td>\n",
       "    </tr>\n",
       "    <tr>\n",
       "      <th>1</th>\n",
       "      <td>2</td>\n",
       "      <td>FE9A28A6208798FCA425FB02E28B30ACF4DAAAD5E7D2F3...</td>\n",
       "      <td>18828</td>\n",
       "      <td>Lea Toto Zimmerman</td>\n",
       "      <td>Nairobi</td>\n",
       "      <td>Female</td>\n",
       "      <td>2022-01-10</td>\n",
       "      <td>NaN</td>\n",
       "      <td>NaN</td>\n",
       "      <td>NaN</td>\n",
       "    </tr>\n",
       "    <tr>\n",
       "      <th>2</th>\n",
       "      <td>3</td>\n",
       "      <td>A38CB015A0BA15BAC709E502AD9A68632EF7D63C45575F...</td>\n",
       "      <td>12965</td>\n",
       "      <td>Guru Nanak Hospital</td>\n",
       "      <td>Nairobi</td>\n",
       "      <td>Female</td>\n",
       "      <td>2023-11-08</td>\n",
       "      <td>NaN</td>\n",
       "      <td>NaN</td>\n",
       "      <td>Single</td>\n",
       "    </tr>\n",
       "    <tr>\n",
       "      <th>3</th>\n",
       "      <td>4</td>\n",
       "      <td>DC628EEC29CD06711202042DB171BB4053CFB1B7D3C57C...</td>\n",
       "      <td>12965</td>\n",
       "      <td>Guru Nanak Hospital</td>\n",
       "      <td>Nairobi</td>\n",
       "      <td>Female</td>\n",
       "      <td>2023-12-07</td>\n",
       "      <td>NaN</td>\n",
       "      <td>NaN</td>\n",
       "      <td>Single</td>\n",
       "    </tr>\n",
       "    <tr>\n",
       "      <th>4</th>\n",
       "      <td>5</td>\n",
       "      <td>7B9AFEBB3092D6229690F152A77507B931EB4AA1A7E4D1...</td>\n",
       "      <td>18828</td>\n",
       "      <td>Lea Toto Zimmerman</td>\n",
       "      <td>Nairobi</td>\n",
       "      <td>Female</td>\n",
       "      <td>2022-01-13</td>\n",
       "      <td>NaN</td>\n",
       "      <td>NaN</td>\n",
       "      <td>NaN</td>\n",
       "    </tr>\n",
       "  </tbody>\n",
       "</table>\n",
       "</div>"
      ],
      "text/plain": [
       "   Unnamed: 0                                      PatientPKHash  SiteCode  \\\n",
       "0           1  78F96823AC7AD6E060E8D69DF686760669A4CCFD34EE70...     16800   \n",
       "1           2  FE9A28A6208798FCA425FB02E28B30ACF4DAAAD5E7D2F3...     18828   \n",
       "2           3  A38CB015A0BA15BAC709E502AD9A68632EF7D63C45575F...     12965   \n",
       "3           4  DC628EEC29CD06711202042DB171BB4053CFB1B7D3C57C...     12965   \n",
       "4           5  7B9AFEBB3092D6229690F152A77507B931EB4AA1A7E4D1...     18828   \n",
       "\n",
       "                  FacilityName   Region  Gender   LastVisit EducationLevel  \\\n",
       "0  Lea Toto Clinic (Westlands)  Nairobi  Female  2022-01-19            NaN   \n",
       "1           Lea Toto Zimmerman  Nairobi  Female  2022-01-10            NaN   \n",
       "2          Guru Nanak Hospital  Nairobi  Female  2023-11-08            NaN   \n",
       "3          Guru Nanak Hospital  Nairobi  Female  2023-12-07            NaN   \n",
       "4           Lea Toto Zimmerman  Nairobi  Female  2022-01-13            NaN   \n",
       "\n",
       "  Occupation MaritalStatus  \n",
       "0        NaN           NaN  \n",
       "1        NaN           NaN  \n",
       "2        NaN        Single  \n",
       "3        NaN        Single  \n",
       "4        NaN           NaN  "
      ]
     },
     "execution_count": 3,
     "metadata": {},
     "output_type": "execute_result"
    }
   ],
   "source": [
    "ct_patients.head()"
   ]
  },
  {
   "cell_type": "code",
   "execution_count": 4,
   "id": "f2dc2536",
   "metadata": {},
   "outputs": [
    {
     "data": {
      "text/html": [
       "<div>\n",
       "<style scoped>\n",
       "    .dataframe tbody tr th:only-of-type {\n",
       "        vertical-align: middle;\n",
       "    }\n",
       "\n",
       "    .dataframe tbody tr th {\n",
       "        vertical-align: top;\n",
       "    }\n",
       "\n",
       "    .dataframe thead th {\n",
       "        text-align: right;\n",
       "    }\n",
       "</style>\n",
       "<table border=\"1\" class=\"dataframe\">\n",
       "  <thead>\n",
       "    <tr style=\"text-align: right;\">\n",
       "      <th></th>\n",
       "      <th>Unnamed: 0</th>\n",
       "      <th>PatientPKHash</th>\n",
       "      <th>SiteCode</th>\n",
       "      <th>ExitReason</th>\n",
       "      <th>AgeEnrollment</th>\n",
       "      <th>StartARTDate</th>\n",
       "      <th>AgeLastVisit</th>\n",
       "      <th>AgeARTStart</th>\n",
       "      <th>StartRegimen</th>\n",
       "      <th>LastRegimen</th>\n",
       "    </tr>\n",
       "  </thead>\n",
       "  <tbody>\n",
       "    <tr>\n",
       "      <th>0</th>\n",
       "      <td>1</td>\n",
       "      <td>FFF1D919002BAFBC0E2E547F358A2AF56EBE61525DF6EE...</td>\n",
       "      <td>14947</td>\n",
       "      <td>NaN</td>\n",
       "      <td>26.0</td>\n",
       "      <td>2009-02-24</td>\n",
       "      <td>41.0</td>\n",
       "      <td>29.0</td>\n",
       "      <td>3TC + EFV + TDF</td>\n",
       "      <td>3TC + RTV + AZT + ATV</td>\n",
       "    </tr>\n",
       "    <tr>\n",
       "      <th>1</th>\n",
       "      <td>2</td>\n",
       "      <td>F3FE5E7023FECF8776ED0ED6187AF0DB4DB26719AF79E0...</td>\n",
       "      <td>13492</td>\n",
       "      <td>NaN</td>\n",
       "      <td>55.0</td>\n",
       "      <td>2008-10-03</td>\n",
       "      <td>55.0</td>\n",
       "      <td>47.0</td>\n",
       "      <td>3TC+D4T+NVP</td>\n",
       "      <td>3TC+AZT+NVP</td>\n",
       "    </tr>\n",
       "    <tr>\n",
       "      <th>2</th>\n",
       "      <td>3</td>\n",
       "      <td>D95DBAB700E9EBB48E62C6D662951961CFCFE492C37410...</td>\n",
       "      <td>14110</td>\n",
       "      <td>NaN</td>\n",
       "      <td>34.0</td>\n",
       "      <td>2011-10-26</td>\n",
       "      <td>46.0</td>\n",
       "      <td>34.0</td>\n",
       "      <td>3TC+AZT+NVP</td>\n",
       "      <td>3TC+DTG+TDF</td>\n",
       "    </tr>\n",
       "    <tr>\n",
       "      <th>3</th>\n",
       "      <td>4</td>\n",
       "      <td>030A0046095BDECF76ADC5621D6FE03B9C6570A3432AB9...</td>\n",
       "      <td>15049</td>\n",
       "      <td>NaN</td>\n",
       "      <td>23.0</td>\n",
       "      <td>2014-07-18</td>\n",
       "      <td>25.0</td>\n",
       "      <td>24.0</td>\n",
       "      <td>3TC+AZT+LPV/r</td>\n",
       "      <td>3TC+AZT+LPV/r</td>\n",
       "    </tr>\n",
       "    <tr>\n",
       "      <th>4</th>\n",
       "      <td>5</td>\n",
       "      <td>26D6A8AD97C75FFC548F6873E5E93CE475479E3E1A1097...</td>\n",
       "      <td>11476</td>\n",
       "      <td>NaN</td>\n",
       "      <td>37.0</td>\n",
       "      <td>2021-06-02</td>\n",
       "      <td>43.0</td>\n",
       "      <td>40.0</td>\n",
       "      <td>3TC+EFV+TDF</td>\n",
       "      <td>3TC+DTG+TDF</td>\n",
       "    </tr>\n",
       "  </tbody>\n",
       "</table>\n",
       "</div>"
      ],
      "text/plain": [
       "   Unnamed: 0                                      PatientPKHash  SiteCode  \\\n",
       "0           1  FFF1D919002BAFBC0E2E547F358A2AF56EBE61525DF6EE...     14947   \n",
       "1           2  F3FE5E7023FECF8776ED0ED6187AF0DB4DB26719AF79E0...     13492   \n",
       "2           3  D95DBAB700E9EBB48E62C6D662951961CFCFE492C37410...     14110   \n",
       "3           4  030A0046095BDECF76ADC5621D6FE03B9C6570A3432AB9...     15049   \n",
       "4           5  26D6A8AD97C75FFC548F6873E5E93CE475479E3E1A1097...     11476   \n",
       "\n",
       "  ExitReason  AgeEnrollment StartARTDate  AgeLastVisit  AgeARTStart  \\\n",
       "0        NaN           26.0   2009-02-24          41.0         29.0   \n",
       "1        NaN           55.0   2008-10-03          55.0         47.0   \n",
       "2        NaN           34.0   2011-10-26          46.0         34.0   \n",
       "3        NaN           23.0   2014-07-18          25.0         24.0   \n",
       "4        NaN           37.0   2021-06-02          43.0         40.0   \n",
       "\n",
       "      StartRegimen            LastRegimen  \n",
       "0  3TC + EFV + TDF  3TC + RTV + AZT + ATV  \n",
       "1      3TC+D4T+NVP            3TC+AZT+NVP  \n",
       "2      3TC+AZT+NVP            3TC+DTG+TDF  \n",
       "3    3TC+AZT+LPV/r          3TC+AZT+LPV/r  \n",
       "4      3TC+EFV+TDF            3TC+DTG+TDF  "
      ]
     },
     "execution_count": 4,
     "metadata": {},
     "output_type": "execute_result"
    }
   ],
   "source": [
    "art_patients.head()  # Variable needed (regimen)  , date the patient started treatment(additional variable)"
   ]
  },
  {
   "cell_type": "code",
   "execution_count": 5,
   "id": "e8c7bd33",
   "metadata": {},
   "outputs": [
    {
     "data": {
      "text/html": [
       "<div>\n",
       "<style scoped>\n",
       "    .dataframe tbody tr th:only-of-type {\n",
       "        vertical-align: middle;\n",
       "    }\n",
       "\n",
       "    .dataframe tbody tr th {\n",
       "        vertical-align: top;\n",
       "    }\n",
       "\n",
       "    .dataframe thead th {\n",
       "        text-align: right;\n",
       "    }\n",
       "</style>\n",
       "<table border=\"1\" class=\"dataframe\">\n",
       "  <thead>\n",
       "    <tr style=\"text-align: right;\">\n",
       "      <th></th>\n",
       "      <th>Unnamed: 0</th>\n",
       "      <th>PatientPKHash</th>\n",
       "      <th>SiteCode</th>\n",
       "      <th>Adherence</th>\n",
       "      <th>VisitDate</th>\n",
       "      <th>AdherenceCategory</th>\n",
       "    </tr>\n",
       "  </thead>\n",
       "  <tbody>\n",
       "    <tr>\n",
       "      <th>0</th>\n",
       "      <td>1</td>\n",
       "      <td>F099AA757FCAF0709211D33D7E2FA4CE9A23652C13CAB4...</td>\n",
       "      <td>15204</td>\n",
       "      <td>GOOD</td>\n",
       "      <td>2022-07-04</td>\n",
       "      <td>GOOD</td>\n",
       "    </tr>\n",
       "    <tr>\n",
       "      <th>1</th>\n",
       "      <td>2</td>\n",
       "      <td>3D5061D636B5B454C739195AA7B28692AAECAA098D3E29...</td>\n",
       "      <td>15204</td>\n",
       "      <td>GOOD</td>\n",
       "      <td>2023-05-19</td>\n",
       "      <td>GOOD</td>\n",
       "    </tr>\n",
       "    <tr>\n",
       "      <th>2</th>\n",
       "      <td>3</td>\n",
       "      <td>7BDF500F749AB18900F48C8A30B03EA880AFEBD5F5B176...</td>\n",
       "      <td>15204</td>\n",
       "      <td>GOOD</td>\n",
       "      <td>2023-01-13</td>\n",
       "      <td>GOOD</td>\n",
       "    </tr>\n",
       "    <tr>\n",
       "      <th>3</th>\n",
       "      <td>4</td>\n",
       "      <td>30D8984113ECA227531EC4770A7A4A5929C97FF21A0EFF...</td>\n",
       "      <td>15204</td>\n",
       "      <td>GOOD</td>\n",
       "      <td>2023-01-13</td>\n",
       "      <td>GOOD</td>\n",
       "    </tr>\n",
       "    <tr>\n",
       "      <th>4</th>\n",
       "      <td>5</td>\n",
       "      <td>BB453C54C31C091099809613E80D74EDE582D89FCF9376...</td>\n",
       "      <td>15204</td>\n",
       "      <td>GOOD</td>\n",
       "      <td>2023-12-11</td>\n",
       "      <td>GOOD</td>\n",
       "    </tr>\n",
       "  </tbody>\n",
       "</table>\n",
       "</div>"
      ],
      "text/plain": [
       "   Unnamed: 0                                      PatientPKHash  SiteCode  \\\n",
       "0           1  F099AA757FCAF0709211D33D7E2FA4CE9A23652C13CAB4...     15204   \n",
       "1           2  3D5061D636B5B454C739195AA7B28692AAECAA098D3E29...     15204   \n",
       "2           3  7BDF500F749AB18900F48C8A30B03EA880AFEBD5F5B176...     15204   \n",
       "3           4  30D8984113ECA227531EC4770A7A4A5929C97FF21A0EFF...     15204   \n",
       "4           5  BB453C54C31C091099809613E80D74EDE582D89FCF9376...     15204   \n",
       "\n",
       "  Adherence   VisitDate AdherenceCategory  \n",
       "0      GOOD  2022-07-04              GOOD  \n",
       "1      GOOD  2023-05-19              GOOD  \n",
       "2      GOOD  2023-01-13              GOOD  \n",
       "3      GOOD  2023-01-13              GOOD  \n",
       "4      GOOD  2023-12-11              GOOD  "
      ]
     },
     "execution_count": 5,
     "metadata": {},
     "output_type": "execute_result"
    }
   ],
   "source": [
    "patient_visits.head() # All relevant (next appointment date variable) missing"
   ]
  },
  {
   "cell_type": "code",
   "execution_count": 6,
   "id": "04088584",
   "metadata": {},
   "outputs": [
    {
     "data": {
      "text/html": [
       "<div>\n",
       "<style scoped>\n",
       "    .dataframe tbody tr th:only-of-type {\n",
       "        vertical-align: middle;\n",
       "    }\n",
       "\n",
       "    .dataframe tbody tr th {\n",
       "        vertical-align: top;\n",
       "    }\n",
       "\n",
       "    .dataframe thead th {\n",
       "        text-align: right;\n",
       "    }\n",
       "</style>\n",
       "<table border=\"1\" class=\"dataframe\">\n",
       "  <thead>\n",
       "    <tr style=\"text-align: right;\">\n",
       "      <th></th>\n",
       "      <th>Unnamed: 0</th>\n",
       "      <th>PatientPKHash</th>\n",
       "      <th>SiteCode</th>\n",
       "      <th>OrderedbyDate</th>\n",
       "      <th>TestName</th>\n",
       "      <th>TestResult</th>\n",
       "    </tr>\n",
       "  </thead>\n",
       "  <tbody>\n",
       "    <tr>\n",
       "      <th>0</th>\n",
       "      <td>1</td>\n",
       "      <td>3F11BDE0D8DA0B6D8FFCC20FAA79FF0CA3C188B41459C0...</td>\n",
       "      <td>14027</td>\n",
       "      <td>2022-08-25</td>\n",
       "      <td>Viral Load</td>\n",
       "      <td>0</td>\n",
       "    </tr>\n",
       "    <tr>\n",
       "      <th>1</th>\n",
       "      <td>2</td>\n",
       "      <td>4EE8F1817816ACA31EC31BF3970A707F941A41241319A8...</td>\n",
       "      <td>13076</td>\n",
       "      <td>2023-02-15</td>\n",
       "      <td>Viral Load</td>\n",
       "      <td>87</td>\n",
       "    </tr>\n",
       "    <tr>\n",
       "      <th>2</th>\n",
       "      <td>3</td>\n",
       "      <td>32D913ED2228CC04150FAA7BEC23034183C7147F54A955...</td>\n",
       "      <td>12929</td>\n",
       "      <td>2022-11-19</td>\n",
       "      <td>CHGM</td>\n",
       "      <td>33.5</td>\n",
       "    </tr>\n",
       "    <tr>\n",
       "      <th>3</th>\n",
       "      <td>4</td>\n",
       "      <td>7B73C8E14681A416E4A899B18BFAAEC4F22E31BADFAFA1...</td>\n",
       "      <td>14124</td>\n",
       "      <td>2023-05-16</td>\n",
       "      <td>Viral Load</td>\n",
       "      <td>184</td>\n",
       "    </tr>\n",
       "    <tr>\n",
       "      <th>4</th>\n",
       "      <td>5</td>\n",
       "      <td>B856DD3933C4A89C78CB9AE675F9943C16B9D3DC8ED7DF...</td>\n",
       "      <td>14020</td>\n",
       "      <td>2023-08-24</td>\n",
       "      <td>Viral Load</td>\n",
       "      <td>LDL</td>\n",
       "    </tr>\n",
       "  </tbody>\n",
       "</table>\n",
       "</div>"
      ],
      "text/plain": [
       "   Unnamed: 0                                      PatientPKHash  SiteCode  \\\n",
       "0           1  3F11BDE0D8DA0B6D8FFCC20FAA79FF0CA3C188B41459C0...     14027   \n",
       "1           2  4EE8F1817816ACA31EC31BF3970A707F941A41241319A8...     13076   \n",
       "2           3  32D913ED2228CC04150FAA7BEC23034183C7147F54A955...     12929   \n",
       "3           4  7B73C8E14681A416E4A899B18BFAAEC4F22E31BADFAFA1...     14124   \n",
       "4           5  B856DD3933C4A89C78CB9AE675F9943C16B9D3DC8ED7DF...     14020   \n",
       "\n",
       "  OrderedbyDate    TestName TestResult  \n",
       "0    2022-08-25  Viral Load          0  \n",
       "1    2023-02-15  Viral Load         87  \n",
       "2    2022-11-19        CHGM       33.5  \n",
       "3    2023-05-16  Viral Load        184  \n",
       "4    2023-08-24  Viral Load        LDL  "
      ]
     },
     "execution_count": 6,
     "metadata": {},
     "output_type": "execute_result"
    }
   ],
   "source": [
    "patient_labs.head()  #CD4 names( cd count for age > 5 and cd4% for age less than 5yrs))"
   ]
  },
  {
   "cell_type": "code",
   "execution_count": 7,
   "id": "45182399",
   "metadata": {},
   "outputs": [
    {
     "data": {
      "text/html": [
       "<div>\n",
       "<style scoped>\n",
       "    .dataframe tbody tr th:only-of-type {\n",
       "        vertical-align: middle;\n",
       "    }\n",
       "\n",
       "    .dataframe tbody tr th {\n",
       "        vertical-align: top;\n",
       "    }\n",
       "\n",
       "    .dataframe thead th {\n",
       "        text-align: right;\n",
       "    }\n",
       "</style>\n",
       "<table border=\"1\" class=\"dataframe\">\n",
       "  <thead>\n",
       "    <tr style=\"text-align: right;\">\n",
       "      <th></th>\n",
       "      <th>Unnamed: 0</th>\n",
       "      <th>PatientPKHash</th>\n",
       "      <th>SiteCode</th>\n",
       "      <th>ExitDate</th>\n",
       "      <th>ExitReason</th>\n",
       "    </tr>\n",
       "  </thead>\n",
       "  <tbody>\n",
       "    <tr>\n",
       "      <th>0</th>\n",
       "      <td>1</td>\n",
       "      <td>C8B6E7C50A1530F4130D101A64940A1E8E02F8154C41AA...</td>\n",
       "      <td>13089</td>\n",
       "      <td>2022-02-03</td>\n",
       "      <td>Transfer Out</td>\n",
       "    </tr>\n",
       "    <tr>\n",
       "      <th>1</th>\n",
       "      <td>2</td>\n",
       "      <td>0E41F33A53596B218FA47D6F17D6413D33E44FC159EF5C...</td>\n",
       "      <td>10786</td>\n",
       "      <td>2022-01-07</td>\n",
       "      <td>Transfer Out</td>\n",
       "    </tr>\n",
       "    <tr>\n",
       "      <th>2</th>\n",
       "      <td>3</td>\n",
       "      <td>8AF1826B4A1C2115D3A0AB7C48480F22787FAF1C316BF7...</td>\n",
       "      <td>12871</td>\n",
       "      <td>2022-01-19</td>\n",
       "      <td>Transfer Out</td>\n",
       "    </tr>\n",
       "    <tr>\n",
       "      <th>3</th>\n",
       "      <td>4</td>\n",
       "      <td>AFF5E6C33C8499EAAF755947E27F8DBDA5E9C0B65A9FFC...</td>\n",
       "      <td>12871</td>\n",
       "      <td>2022-01-24</td>\n",
       "      <td>Transfer Out</td>\n",
       "    </tr>\n",
       "    <tr>\n",
       "      <th>4</th>\n",
       "      <td>5</td>\n",
       "      <td>0921593922E55C539DD4872C55C180FEE6A97B680F96F9...</td>\n",
       "      <td>14749</td>\n",
       "      <td>2023-07-13</td>\n",
       "      <td>Transfer Out</td>\n",
       "    </tr>\n",
       "  </tbody>\n",
       "</table>\n",
       "</div>"
      ],
      "text/plain": [
       "   Unnamed: 0                                      PatientPKHash  SiteCode  \\\n",
       "0           1  C8B6E7C50A1530F4130D101A64940A1E8E02F8154C41AA...     13089   \n",
       "1           2  0E41F33A53596B218FA47D6F17D6413D33E44FC159EF5C...     10786   \n",
       "2           3  8AF1826B4A1C2115D3A0AB7C48480F22787FAF1C316BF7...     12871   \n",
       "3           4  AFF5E6C33C8499EAAF755947E27F8DBDA5E9C0B65A9FFC...     12871   \n",
       "4           5  0921593922E55C539DD4872C55C180FEE6A97B680F96F9...     14749   \n",
       "\n",
       "     ExitDate    ExitReason  \n",
       "0  2022-02-03  Transfer Out  \n",
       "1  2022-01-07  Transfer Out  \n",
       "2  2022-01-19  Transfer Out  \n",
       "3  2022-01-24  Transfer Out  \n",
       "4  2023-07-13  Transfer Out  "
      ]
     },
     "execution_count": 7,
     "metadata": {},
     "output_type": "execute_result"
    }
   ],
   "source": [
    "patient_status.head()  \n",
    "# difference between next appointment and next visit - (whether patient interrupted or not, LTFU)\n",
    "# More than 30 days considered LTFU"
   ]
  },
  {
   "cell_type": "code",
   "execution_count": 8,
   "id": "90a31356",
   "metadata": {},
   "outputs": [
    {
     "data": {
      "text/html": [
       "<div>\n",
       "<style scoped>\n",
       "    .dataframe tbody tr th:only-of-type {\n",
       "        vertical-align: middle;\n",
       "    }\n",
       "\n",
       "    .dataframe tbody tr th {\n",
       "        vertical-align: top;\n",
       "    }\n",
       "\n",
       "    .dataframe thead th {\n",
       "        text-align: right;\n",
       "    }\n",
       "</style>\n",
       "<table border=\"1\" class=\"dataframe\">\n",
       "  <thead>\n",
       "    <tr style=\"text-align: right;\">\n",
       "      <th></th>\n",
       "      <th>Unnamed: 0</th>\n",
       "      <th>PatientPKHash</th>\n",
       "      <th>SiteCode</th>\n",
       "      <th>VisitDate</th>\n",
       "      <th>PHQ_9_rating</th>\n",
       "      <th>DepressionAssesmentScore</th>\n",
       "    </tr>\n",
       "  </thead>\n",
       "  <tbody>\n",
       "    <tr>\n",
       "      <th>0</th>\n",
       "      <td>1</td>\n",
       "      <td>13624525CB0A1E56E39C5DBEA36CA40F75C0DDFBB0719F...</td>\n",
       "      <td>16141</td>\n",
       "      <td>2023-01-05</td>\n",
       "      <td>Depression unlikely</td>\n",
       "      <td>NaN</td>\n",
       "    </tr>\n",
       "    <tr>\n",
       "      <th>1</th>\n",
       "      <td>2</td>\n",
       "      <td>8AE5AEF927CEFEC4DA2D5C598E737464DA531CCF70DB3C...</td>\n",
       "      <td>13705</td>\n",
       "      <td>2022-11-17</td>\n",
       "      <td>Depression unlikely</td>\n",
       "      <td>NaN</td>\n",
       "    </tr>\n",
       "    <tr>\n",
       "      <th>2</th>\n",
       "      <td>3</td>\n",
       "      <td>79A587C5AD7F0876D3F005D5755A3A4FAE841CDFEDEDC7...</td>\n",
       "      <td>19863</td>\n",
       "      <td>2023-10-11</td>\n",
       "      <td>Depression unlikely</td>\n",
       "      <td>NaN</td>\n",
       "    </tr>\n",
       "    <tr>\n",
       "      <th>3</th>\n",
       "      <td>4</td>\n",
       "      <td>7D60135BDE9770841CA447E5602841D7E8C2AE735D2390...</td>\n",
       "      <td>14950</td>\n",
       "      <td>2022-07-04</td>\n",
       "      <td>Depression unlikely</td>\n",
       "      <td>NaN</td>\n",
       "    </tr>\n",
       "    <tr>\n",
       "      <th>4</th>\n",
       "      <td>5</td>\n",
       "      <td>24795814776BF00333ABB04C43C6983153050A63772E52...</td>\n",
       "      <td>13600</td>\n",
       "      <td>2022-09-20</td>\n",
       "      <td>Depression unlikely</td>\n",
       "      <td>NaN</td>\n",
       "    </tr>\n",
       "  </tbody>\n",
       "</table>\n",
       "</div>"
      ],
      "text/plain": [
       "   Unnamed: 0                                      PatientPKHash  SiteCode  \\\n",
       "0           1  13624525CB0A1E56E39C5DBEA36CA40F75C0DDFBB0719F...     16141   \n",
       "1           2  8AE5AEF927CEFEC4DA2D5C598E737464DA531CCF70DB3C...     13705   \n",
       "2           3  79A587C5AD7F0876D3F005D5755A3A4FAE841CDFEDEDC7...     19863   \n",
       "3           4  7D60135BDE9770841CA447E5602841D7E8C2AE735D2390...     14950   \n",
       "4           5  24795814776BF00333ABB04C43C6983153050A63772E52...     13600   \n",
       "\n",
       "    VisitDate         PHQ_9_rating  DepressionAssesmentScore  \n",
       "0  2023-01-05  Depression unlikely                       NaN  \n",
       "1  2022-11-17  Depression unlikely                       NaN  \n",
       "2  2023-10-11  Depression unlikely                       NaN  \n",
       "3  2022-07-04  Depression unlikely                       NaN  \n",
       "4  2022-09-20  Depression unlikely                       NaN  "
      ]
     },
     "execution_count": 8,
     "metadata": {},
     "output_type": "execute_result"
    }
   ],
   "source": [
    "patient_depression_scr.head()"
   ]
  },
  {
   "cell_type": "markdown",
   "id": "90d4fef2",
   "metadata": {},
   "source": [
    "###### In merging we use the combination of PatientPK and site code. The combination of both as the unique identifier."
   ]
  },
  {
   "cell_type": "code",
   "execution_count": 9,
   "id": "e5f7abeb",
   "metadata": {},
   "outputs": [],
   "source": [
    "# drop the Unnamed column occurring in all the dataframes\n",
    "dataframes = [ct_patients, art_patients, patient_labs, patient_status, patient_visits, patient_depression_scr]\n",
    "\n",
    "for df in dataframes:\n",
    "    # Check if the column exists\n",
    "    if 'Unnamed: 0' in df.columns:\n",
    "        # Drop the column\n",
    "        df.drop(columns='Unnamed: 0', inplace=True)"
   ]
  },
  {
   "cell_type": "markdown",
   "id": "ebc9af60",
   "metadata": {},
   "source": [
    "We have dropped the ```Unnamed``` column from the all the dataframes. Since all the dataframes share the column ```PatientPKHash``` and ```SiteCode```, we will concatenate the two columns to come up with a unique identifier (```Patient_uid```) and then merge them based on this column. In the next section we will now focus on the individual datasets one at a time for further cleaning."
   ]
  },
  {
   "cell_type": "markdown",
   "id": "99b5ac28",
   "metadata": {},
   "source": [
    "###### 1. ct_patients"
   ]
  },
  {
   "cell_type": "code",
   "execution_count": 10,
   "id": "fd29946e",
   "metadata": {},
   "outputs": [
    {
     "name": "stdout",
     "output_type": "stream",
     "text": [
      "<class 'pandas.core.frame.DataFrame'>\n",
      "RangeIndex: 601947 entries, 0 to 601946\n",
      "Data columns (total 9 columns):\n",
      " #   Column          Non-Null Count   Dtype \n",
      "---  ------          --------------   ----- \n",
      " 0   PatientPKHash   601947 non-null  object\n",
      " 1   SiteCode        601947 non-null  int64 \n",
      " 2   FacilityName    601809 non-null  object\n",
      " 3   Region          600059 non-null  object\n",
      " 4   Gender          601947 non-null  object\n",
      " 5   LastVisit       601947 non-null  object\n",
      " 6   EducationLevel  362452 non-null  object\n",
      " 7   Occupation      315047 non-null  object\n",
      " 8   MaritalStatus   518036 non-null  object\n",
      "dtypes: int64(1), object(8)\n",
      "memory usage: 41.3+ MB\n"
     ]
    }
   ],
   "source": [
    "ct_patients.info()"
   ]
  },
  {
   "cell_type": "code",
   "execution_count": 11,
   "id": "8e377897",
   "metadata": {},
   "outputs": [
    {
     "data": {
      "text/html": [
       "<div>\n",
       "<style scoped>\n",
       "    .dataframe tbody tr th:only-of-type {\n",
       "        vertical-align: middle;\n",
       "    }\n",
       "\n",
       "    .dataframe tbody tr th {\n",
       "        vertical-align: top;\n",
       "    }\n",
       "\n",
       "    .dataframe thead th {\n",
       "        text-align: right;\n",
       "    }\n",
       "</style>\n",
       "<table border=\"1\" class=\"dataframe\">\n",
       "  <thead>\n",
       "    <tr style=\"text-align: right;\">\n",
       "      <th></th>\n",
       "      <th>PatientPKHash</th>\n",
       "      <th>SiteCode</th>\n",
       "      <th>ExitDate</th>\n",
       "      <th>ExitReason</th>\n",
       "      <th>Patient_uid</th>\n",
       "    </tr>\n",
       "  </thead>\n",
       "  <tbody>\n",
       "    <tr>\n",
       "      <th>0</th>\n",
       "      <td>C8B6E7C50A1530F4130D101A64940A1E8E02F8154C41AA...</td>\n",
       "      <td>13089</td>\n",
       "      <td>2022-02-03</td>\n",
       "      <td>Transfer Out</td>\n",
       "      <td>C8B6E7C50A1530F4130D101A64940A1E8E02F8154C41AA...</td>\n",
       "    </tr>\n",
       "    <tr>\n",
       "      <th>1</th>\n",
       "      <td>0E41F33A53596B218FA47D6F17D6413D33E44FC159EF5C...</td>\n",
       "      <td>10786</td>\n",
       "      <td>2022-01-07</td>\n",
       "      <td>Transfer Out</td>\n",
       "      <td>0E41F33A53596B218FA47D6F17D6413D33E44FC159EF5C...</td>\n",
       "    </tr>\n",
       "    <tr>\n",
       "      <th>2</th>\n",
       "      <td>8AF1826B4A1C2115D3A0AB7C48480F22787FAF1C316BF7...</td>\n",
       "      <td>12871</td>\n",
       "      <td>2022-01-19</td>\n",
       "      <td>Transfer Out</td>\n",
       "      <td>8AF1826B4A1C2115D3A0AB7C48480F22787FAF1C316BF7...</td>\n",
       "    </tr>\n",
       "    <tr>\n",
       "      <th>3</th>\n",
       "      <td>AFF5E6C33C8499EAAF755947E27F8DBDA5E9C0B65A9FFC...</td>\n",
       "      <td>12871</td>\n",
       "      <td>2022-01-24</td>\n",
       "      <td>Transfer Out</td>\n",
       "      <td>AFF5E6C33C8499EAAF755947E27F8DBDA5E9C0B65A9FFC...</td>\n",
       "    </tr>\n",
       "    <tr>\n",
       "      <th>4</th>\n",
       "      <td>0921593922E55C539DD4872C55C180FEE6A97B680F96F9...</td>\n",
       "      <td>14749</td>\n",
       "      <td>2023-07-13</td>\n",
       "      <td>Transfer Out</td>\n",
       "      <td>0921593922E55C539DD4872C55C180FEE6A97B680F96F9...</td>\n",
       "    </tr>\n",
       "  </tbody>\n",
       "</table>\n",
       "</div>"
      ],
      "text/plain": [
       "                                       PatientPKHash  SiteCode    ExitDate  \\\n",
       "0  C8B6E7C50A1530F4130D101A64940A1E8E02F8154C41AA...     13089  2022-02-03   \n",
       "1  0E41F33A53596B218FA47D6F17D6413D33E44FC159EF5C...     10786  2022-01-07   \n",
       "2  8AF1826B4A1C2115D3A0AB7C48480F22787FAF1C316BF7...     12871  2022-01-19   \n",
       "3  AFF5E6C33C8499EAAF755947E27F8DBDA5E9C0B65A9FFC...     12871  2022-01-24   \n",
       "4  0921593922E55C539DD4872C55C180FEE6A97B680F96F9...     14749  2023-07-13   \n",
       "\n",
       "     ExitReason                                        Patient_uid  \n",
       "0  Transfer Out  C8B6E7C50A1530F4130D101A64940A1E8E02F8154C41AA...  \n",
       "1  Transfer Out  0E41F33A53596B218FA47D6F17D6413D33E44FC159EF5C...  \n",
       "2  Transfer Out  8AF1826B4A1C2115D3A0AB7C48480F22787FAF1C316BF7...  \n",
       "3  Transfer Out  AFF5E6C33C8499EAAF755947E27F8DBDA5E9C0B65A9FFC...  \n",
       "4  Transfer Out  0921593922E55C539DD4872C55C180FEE6A97B680F96F9...  "
      ]
     },
     "execution_count": 11,
     "metadata": {},
     "output_type": "execute_result"
    }
   ],
   "source": [
    "'''\n",
    "We concatenate the PatientPKHash and  the SiteCode to form a \n",
    "unique patient identifier for each patient-facility combination.\n",
    "This is done for all the imported datasets for uniformity\n",
    "'''\n",
    "dataframes = [ct_patients,art_patients, patient_labs, patient_status, patient_visits, patient_depression_scr]\n",
    "\n",
    "for df in dataframes:\n",
    "    df['Patient_uid'] = df['PatientPKHash'] + str(df['SiteCode'])\n",
    "        \n",
    "# Confirming the changes\n",
    "patient_status.head()"
   ]
  },
  {
   "cell_type": "code",
   "execution_count": 12,
   "id": "5c20bc3d",
   "metadata": {},
   "outputs": [
    {
     "data": {
      "text/plain": [
       "0         NaN\n",
       "1         NaN\n",
       "2         NaN\n",
       "3         NaN\n",
       "4         NaN\n",
       "         ... \n",
       "601942    NaN\n",
       "601943    NaN\n",
       "601944    NaN\n",
       "601945    NaN\n",
       "601946    NaN\n",
       "Name: Occupation, Length: 601947, dtype: object"
      ]
     },
     "execution_count": 12,
     "metadata": {},
     "output_type": "execute_result"
    }
   ],
   "source": [
    "# We then drop  PatientPKHash column from our datasets\n",
    "for df in dataframes:\n",
    "    df.drop(\"PatientPKHash\", axis = 1, inplace=True)\n",
    "    \n",
    "# Confirming the changes\n",
    "ct_patients['Occupation']"
   ]
  },
  {
   "cell_type": "code",
   "execution_count": 13,
   "id": "4f42605e",
   "metadata": {},
   "outputs": [
    {
     "data": {
      "text/plain": [
       "76862"
      ]
     },
     "execution_count": 13,
     "metadata": {},
     "output_type": "execute_result"
    }
   ],
   "source": [
    "ct_patients['Patient_uid'].nunique() # Checking the number of unique patients contained in the dataset."
   ]
  },
  {
   "cell_type": "code",
   "execution_count": 14,
   "id": "9f26142d",
   "metadata": {},
   "outputs": [
    {
     "data": {
      "text/plain": [
       "SiteCode               0\n",
       "FacilityName         138\n",
       "Region              1888\n",
       "Gender                 0\n",
       "LastVisit              0\n",
       "EducationLevel    239495\n",
       "Occupation        286900\n",
       "MaritalStatus      83911\n",
       "Patient_uid            0\n",
       "dtype: int64"
      ]
     },
     "execution_count": 14,
     "metadata": {},
     "output_type": "execute_result"
    }
   ],
   "source": [
    "# Checking for the proportion of null values in the features of the dataset.\n",
    "ct_patients.isna().sum()"
   ]
  },
  {
   "cell_type": "markdown",
   "id": "4c1c2c05",
   "metadata": {},
   "source": [
    "From the results, ```EducationLevel``` and ```Occupation``` columns have the highest number of missing values but since they are relevant to our analysis, we will drop only the rows with the missing values."
   ]
  },
  {
   "cell_type": "code",
   "execution_count": 15,
   "id": "426a87aa",
   "metadata": {},
   "outputs": [
    {
     "data": {
      "text/html": [
       "<div>\n",
       "<style scoped>\n",
       "    .dataframe tbody tr th:only-of-type {\n",
       "        vertical-align: middle;\n",
       "    }\n",
       "\n",
       "    .dataframe tbody tr th {\n",
       "        vertical-align: top;\n",
       "    }\n",
       "\n",
       "    .dataframe thead th {\n",
       "        text-align: right;\n",
       "    }\n",
       "</style>\n",
       "<table border=\"1\" class=\"dataframe\">\n",
       "  <thead>\n",
       "    <tr style=\"text-align: right;\">\n",
       "      <th></th>\n",
       "      <th>SiteCode</th>\n",
       "      <th>FacilityName</th>\n",
       "      <th>Region</th>\n",
       "      <th>Gender</th>\n",
       "      <th>LastVisit</th>\n",
       "      <th>EducationLevel</th>\n",
       "      <th>Occupation</th>\n",
       "      <th>MaritalStatus</th>\n",
       "      <th>Patient_uid</th>\n",
       "    </tr>\n",
       "  </thead>\n",
       "  <tbody>\n",
       "    <tr>\n",
       "      <th>754</th>\n",
       "      <td>11094</td>\n",
       "      <td>Thika Level 5 Hospital</td>\n",
       "      <td>Kiambu</td>\n",
       "      <td>Female</td>\n",
       "      <td>2022-08-23</td>\n",
       "      <td>PRIMARY</td>\n",
       "      <td>OTHER NON-CODED</td>\n",
       "      <td>Single</td>\n",
       "      <td>221B44364E0DD50C9FE08E53A409345216D6E44523644A...</td>\n",
       "    </tr>\n",
       "    <tr>\n",
       "      <th>755</th>\n",
       "      <td>11395</td>\n",
       "      <td>Shimo-La Tewa Health Centre (GK Prison)</td>\n",
       "      <td>Mombasa</td>\n",
       "      <td>Female</td>\n",
       "      <td>2022-05-25</td>\n",
       "      <td>PRIMARY</td>\n",
       "      <td>OTHER NON-CODED</td>\n",
       "      <td>DIVORCED</td>\n",
       "      <td>C02DFA860440198A658E188E0D9FE0E3BB8DE1EC2695D5...</td>\n",
       "    </tr>\n",
       "    <tr>\n",
       "      <th>757</th>\n",
       "      <td>14872</td>\n",
       "      <td>Kiminini Cottage Hospital</td>\n",
       "      <td>Trans Nzoia</td>\n",
       "      <td>Male</td>\n",
       "      <td>2022-09-12</td>\n",
       "      <td>PRIMARY</td>\n",
       "      <td>OTHER NON-CODED</td>\n",
       "      <td>MARRIED POLYGAMOUS</td>\n",
       "      <td>89FF302CC4C87B3BE564F50018F3C813E1D62AA208F925...</td>\n",
       "    </tr>\n",
       "    <tr>\n",
       "      <th>759</th>\n",
       "      <td>10602</td>\n",
       "      <td>Kijabe (AIC) Hospital</td>\n",
       "      <td>Kiambu</td>\n",
       "      <td>Female</td>\n",
       "      <td>2022-03-28</td>\n",
       "      <td>PRIMARY</td>\n",
       "      <td>Farmer</td>\n",
       "      <td>WIDOWED</td>\n",
       "      <td>DE56185F5A830983CD17C905E2A458F6B24816F093FA02...</td>\n",
       "    </tr>\n",
       "    <tr>\n",
       "      <th>761</th>\n",
       "      <td>10602</td>\n",
       "      <td>Kijabe (AIC) Hospital</td>\n",
       "      <td>Kiambu</td>\n",
       "      <td>Female</td>\n",
       "      <td>2022-10-31</td>\n",
       "      <td>COLLEGE</td>\n",
       "      <td>Employee</td>\n",
       "      <td>MARRIED MONOGAMOUS</td>\n",
       "      <td>29209A223A1EB657237D40A9DEBC9F6CEEAA82E01C7EB9...</td>\n",
       "    </tr>\n",
       "  </tbody>\n",
       "</table>\n",
       "</div>"
      ],
      "text/plain": [
       "     SiteCode                             FacilityName       Region  Gender  \\\n",
       "754     11094                   Thika Level 5 Hospital       Kiambu  Female   \n",
       "755     11395  Shimo-La Tewa Health Centre (GK Prison)      Mombasa  Female   \n",
       "757     14872                Kiminini Cottage Hospital  Trans Nzoia    Male   \n",
       "759     10602                    Kijabe (AIC) Hospital       Kiambu  Female   \n",
       "761     10602                    Kijabe (AIC) Hospital       Kiambu  Female   \n",
       "\n",
       "      LastVisit EducationLevel       Occupation       MaritalStatus  \\\n",
       "754  2022-08-23        PRIMARY  OTHER NON-CODED              Single   \n",
       "755  2022-05-25        PRIMARY  OTHER NON-CODED            DIVORCED   \n",
       "757  2022-09-12        PRIMARY  OTHER NON-CODED  MARRIED POLYGAMOUS   \n",
       "759  2022-03-28        PRIMARY           Farmer             WIDOWED   \n",
       "761  2022-10-31        COLLEGE         Employee  MARRIED MONOGAMOUS   \n",
       "\n",
       "                                           Patient_uid  \n",
       "754  221B44364E0DD50C9FE08E53A409345216D6E44523644A...  \n",
       "755  C02DFA860440198A658E188E0D9FE0E3BB8DE1EC2695D5...  \n",
       "757  89FF302CC4C87B3BE564F50018F3C813E1D62AA208F925...  \n",
       "759  DE56185F5A830983CD17C905E2A458F6B24816F093FA02...  \n",
       "761  29209A223A1EB657237D40A9DEBC9F6CEEAA82E01C7EB9...  "
      ]
     },
     "execution_count": 15,
     "metadata": {},
     "output_type": "execute_result"
    }
   ],
   "source": [
    "# Dropping the rows with na values \n",
    "clean_ct_patients = ct_patients.dropna(axis = 0)\n",
    "\n",
    "#Drop any duplicated rows\n",
    "clean_ct_patients.drop_duplicates()\n",
    "\n",
    "# view the cleaned dataset\n",
    "clean_ct_patients.head()"
   ]
  },
  {
   "cell_type": "markdown",
   "id": "733802c2",
   "metadata": {},
   "source": [
    "###### 2. art_patients"
   ]
  },
  {
   "cell_type": "code",
   "execution_count": 16,
   "id": "08dcb688",
   "metadata": {},
   "outputs": [
    {
     "name": "stdout",
     "output_type": "stream",
     "text": [
      "<class 'pandas.core.frame.DataFrame'>\n",
      "RangeIndex: 2416660 entries, 0 to 2416659\n",
      "Data columns (total 9 columns):\n",
      " #   Column         Dtype  \n",
      "---  ------         -----  \n",
      " 0   SiteCode       int64  \n",
      " 1   ExitReason     object \n",
      " 2   AgeEnrollment  float64\n",
      " 3   StartARTDate   object \n",
      " 4   AgeLastVisit   float64\n",
      " 5   AgeARTStart    float64\n",
      " 6   StartRegimen   object \n",
      " 7   LastRegimen    object \n",
      " 8   Patient_uid    object \n",
      "dtypes: float64(3), int64(1), object(5)\n",
      "memory usage: 165.9+ MB\n"
     ]
    }
   ],
   "source": [
    "art_patients.info()"
   ]
  },
  {
   "cell_type": "code",
   "execution_count": 17,
   "id": "aae39c06",
   "metadata": {},
   "outputs": [
    {
     "name": "stdout",
     "output_type": "stream",
     "text": [
      "SiteCode               0\n",
      "ExitReason       1529179\n",
      "AgeEnrollment      65171\n",
      "StartARTDate       14801\n",
      "AgeLastVisit       84190\n",
      "AgeARTStart        65361\n",
      "StartRegimen      124973\n",
      "LastRegimen        78615\n",
      "Patient_uid          260\n",
      "dtype: int64\n"
     ]
    }
   ],
   "source": [
    "# Check for the na values in the dataframe\n",
    "print(art_patients.isna().sum())"
   ]
  },
  {
   "cell_type": "code",
   "execution_count": 18,
   "id": "7684607f",
   "metadata": {},
   "outputs": [
    {
     "name": "stdout",
     "output_type": "stream",
     "text": [
      "The ExitReason column is missing 63.27654696978475 % of the datapoints\n"
     ]
    }
   ],
   "source": [
    "print(f\"The ExitReason column is missing {art_patients['ExitReason'].isna().sum() * 100/len(art_patients)} % of the datapoints\")"
   ]
  },
  {
   "cell_type": "markdown",
   "id": "2c2316af",
   "metadata": {},
   "source": [
    "We make an assumption that all of the patients with na values are in treatment and thus fill in the missing values in order to minimize the datapoints lost in the process."
   ]
  },
  {
   "cell_type": "code",
   "execution_count": 19,
   "id": "05056369",
   "metadata": {},
   "outputs": [
    {
     "name": "stdout",
     "output_type": "stream",
     "text": [
      "<class 'pandas.core.frame.DataFrame'>\n",
      "Index: 2185968 entries, 0 to 2416659\n",
      "Data columns (total 9 columns):\n",
      " #   Column         Dtype  \n",
      "---  ------         -----  \n",
      " 0   SiteCode       int64  \n",
      " 1   ExitReason     object \n",
      " 2   AgeEnrollment  float64\n",
      " 3   StartARTDate   object \n",
      " 4   AgeLastVisit   float64\n",
      " 5   AgeARTStart    float64\n",
      " 6   StartRegimen   object \n",
      " 7   LastRegimen    object \n",
      " 8   Patient_uid    object \n",
      "dtypes: float64(3), int64(1), object(5)\n",
      "memory usage: 166.8+ MB\n"
     ]
    }
   ],
   "source": [
    "# Fill missing values in the ExitReason column with 'In Treatment' \n",
    "art_patients['ExitReason'].fillna('IN TREATMENT', inplace=True)\n",
    "\n",
    "# We then drop the datapoints with the na values\n",
    "art_patients.dropna(inplace=True)\n",
    "\n",
    "# Confirm changes\n",
    "art_patients.info()"
   ]
  },
  {
   "cell_type": "code",
   "execution_count": 20,
   "id": "2e0ceba8",
   "metadata": {},
   "outputs": [
    {
     "data": {
      "text/plain": [
       "array(['IN TREATMENT', 'TRANSFER OUT', 'DEAD', 'LTFU',\n",
       "       'COMPLETED TREATMENT', 'OTHERS', 'STOPPED TREATMENT'], dtype=object)"
      ]
     },
     "execution_count": 20,
     "metadata": {},
     "output_type": "execute_result"
    }
   ],
   "source": [
    "# Checking for the distinct values in the modified column\n",
    "art_patients['ExitReason'].unique()"
   ]
  },
  {
   "cell_type": "markdown",
   "id": "f10f0fbf",
   "metadata": {},
   "source": [
    "###### 3. patient_visits"
   ]
  },
  {
   "cell_type": "code",
   "execution_count": 21,
   "id": "cbffe7a6",
   "metadata": {},
   "outputs": [
    {
     "name": "stdout",
     "output_type": "stream",
     "text": [
      "<class 'pandas.core.frame.DataFrame'>\n",
      "RangeIndex: 10784630 entries, 0 to 10784629\n",
      "Data columns (total 5 columns):\n",
      " #   Column             Dtype \n",
      "---  ------             ----- \n",
      " 0   SiteCode           int64 \n",
      " 1   Adherence          object\n",
      " 2   VisitDate          object\n",
      " 3   AdherenceCategory  object\n",
      " 4   Patient_uid        object\n",
      "dtypes: int64(1), object(4)\n",
      "memory usage: 411.4+ MB\n"
     ]
    }
   ],
   "source": [
    "# Viewing the information about the visits dataset\n",
    "patient_visits.info()"
   ]
  },
  {
   "cell_type": "code",
   "execution_count": 22,
   "id": "5af6acc7",
   "metadata": {},
   "outputs": [
    {
     "data": {
      "text/plain": [
       "SiteCode                   0\n",
       "Adherence            2386316\n",
       "VisitDate                  0\n",
       "AdherenceCategory     349930\n",
       "Patient_uid                0\n",
       "dtype: int64"
      ]
     },
     "execution_count": 22,
     "metadata": {},
     "output_type": "execute_result"
    }
   ],
   "source": [
    "# Checking for na values\n",
    "patient_visits.isna().sum()"
   ]
  },
  {
   "cell_type": "markdown",
   "id": "c8476dd6",
   "metadata": {},
   "source": [
    "Since only a small portion of the data is missing we'll drop the missing data points from the visits dataset."
   ]
  },
  {
   "cell_type": "code",
   "execution_count": 23,
   "id": "1509e975",
   "metadata": {},
   "outputs": [],
   "source": [
    "# Dropping the na values\n",
    "patient_visits = patient_visits.dropna()"
   ]
  },
  {
   "cell_type": "code",
   "execution_count": 24,
   "id": "b4972efd",
   "metadata": {},
   "outputs": [
    {
     "data": {
      "text/html": [
       "<div>\n",
       "<style scoped>\n",
       "    .dataframe tbody tr th:only-of-type {\n",
       "        vertical-align: middle;\n",
       "    }\n",
       "\n",
       "    .dataframe tbody tr th {\n",
       "        vertical-align: top;\n",
       "    }\n",
       "\n",
       "    .dataframe thead th {\n",
       "        text-align: right;\n",
       "    }\n",
       "</style>\n",
       "<table border=\"1\" class=\"dataframe\">\n",
       "  <thead>\n",
       "    <tr style=\"text-align: right;\">\n",
       "      <th></th>\n",
       "      <th>SiteCode</th>\n",
       "      <th>Adherence</th>\n",
       "      <th>VisitDate</th>\n",
       "      <th>AdherenceCategory</th>\n",
       "      <th>Patient_uid</th>\n",
       "    </tr>\n",
       "  </thead>\n",
       "  <tbody>\n",
       "    <tr>\n",
       "      <th>0</th>\n",
       "      <td>15204</td>\n",
       "      <td>GOOD</td>\n",
       "      <td>2022-07-04</td>\n",
       "      <td>GOOD</td>\n",
       "      <td>F099AA757FCAF0709211D33D7E2FA4CE9A23652C13CAB4...</td>\n",
       "    </tr>\n",
       "    <tr>\n",
       "      <th>1</th>\n",
       "      <td>15204</td>\n",
       "      <td>GOOD</td>\n",
       "      <td>2023-05-19</td>\n",
       "      <td>GOOD</td>\n",
       "      <td>3D5061D636B5B454C739195AA7B28692AAECAA098D3E29...</td>\n",
       "    </tr>\n",
       "    <tr>\n",
       "      <th>2</th>\n",
       "      <td>15204</td>\n",
       "      <td>GOOD</td>\n",
       "      <td>2023-01-13</td>\n",
       "      <td>GOOD</td>\n",
       "      <td>7BDF500F749AB18900F48C8A30B03EA880AFEBD5F5B176...</td>\n",
       "    </tr>\n",
       "    <tr>\n",
       "      <th>3</th>\n",
       "      <td>15204</td>\n",
       "      <td>GOOD</td>\n",
       "      <td>2023-01-13</td>\n",
       "      <td>GOOD</td>\n",
       "      <td>30D8984113ECA227531EC4770A7A4A5929C97FF21A0EFF...</td>\n",
       "    </tr>\n",
       "    <tr>\n",
       "      <th>4</th>\n",
       "      <td>15204</td>\n",
       "      <td>GOOD</td>\n",
       "      <td>2023-12-11</td>\n",
       "      <td>GOOD</td>\n",
       "      <td>BB453C54C31C091099809613E80D74EDE582D89FCF9376...</td>\n",
       "    </tr>\n",
       "  </tbody>\n",
       "</table>\n",
       "</div>"
      ],
      "text/plain": [
       "   SiteCode Adherence   VisitDate AdherenceCategory  \\\n",
       "0     15204      GOOD  2022-07-04              GOOD   \n",
       "1     15204      GOOD  2023-05-19              GOOD   \n",
       "2     15204      GOOD  2023-01-13              GOOD   \n",
       "3     15204      GOOD  2023-01-13              GOOD   \n",
       "4     15204      GOOD  2023-12-11              GOOD   \n",
       "\n",
       "                                         Patient_uid  \n",
       "0  F099AA757FCAF0709211D33D7E2FA4CE9A23652C13CAB4...  \n",
       "1  3D5061D636B5B454C739195AA7B28692AAECAA098D3E29...  \n",
       "2  7BDF500F749AB18900F48C8A30B03EA880AFEBD5F5B176...  \n",
       "3  30D8984113ECA227531EC4770A7A4A5929C97FF21A0EFF...  \n",
       "4  BB453C54C31C091099809613E80D74EDE582D89FCF9376...  "
      ]
     },
     "execution_count": 24,
     "metadata": {},
     "output_type": "execute_result"
    }
   ],
   "source": [
    "patient_visits.head()"
   ]
  },
  {
   "cell_type": "code",
   "execution_count": 25,
   "id": "05b92a2f",
   "metadata": {},
   "outputs": [
    {
     "data": {
      "text/plain": [
       "array(['GOOD', 'FAIR', 'POOR', 'ARV', 'ART|CTX'], dtype=object)"
      ]
     },
     "execution_count": 25,
     "metadata": {},
     "output_type": "execute_result"
    }
   ],
   "source": [
    "# View the various categories of Adherence of patients to ARV\n",
    "patient_visits['AdherenceCategory'].unique()"
   ]
  },
  {
   "cell_type": "code",
   "execution_count": 26,
   "id": "0f462c34",
   "metadata": {},
   "outputs": [
    {
     "data": {
      "image/png": "[encoded data removed]",
      "text/plain": [
       "<Figure size 1000x600 with 1 Axes>"
      ]
     },
     "metadata": {},
     "output_type": "display_data"
    }
   ],
   "source": [
    "# Plotting a bar plot to view the distribution of the patients in terms of adherence\n",
    "# Set the style of the seaborn plots\n",
    "sns.set_style(\"darkgrid\")\n",
    "\n",
    "# Plot the categorical bar plot\n",
    "plt.figure(figsize=(10, 6)) \n",
    "sns.countplot(data=patient_visits, x='AdherenceCategory')\n",
    "plt.title('Bar Plot of Adherence Category')\n",
    "plt.xlabel('Adherence Category')\n",
    "plt.ylabel('Count')\n",
    "plt.xticks(rotation=45)  # Rotate x-axis labels for better readability\n",
    "plt.show()"
   ]
  },
  {
   "cell_type": "markdown",
   "id": "6db58aff",
   "metadata": {},
   "source": [
    "###### 4. patient_status"
   ]
  },
  {
   "cell_type": "code",
   "execution_count": 27,
   "id": "193067ff",
   "metadata": {},
   "outputs": [
    {
     "name": "stdout",
     "output_type": "stream",
     "text": [
      "<class 'pandas.core.frame.DataFrame'>\n",
      "RangeIndex: 172468 entries, 0 to 172467\n",
      "Data columns (total 4 columns):\n",
      " #   Column       Non-Null Count   Dtype \n",
      "---  ------       --------------   ----- \n",
      " 0   SiteCode     172468 non-null  int64 \n",
      " 1   ExitDate     172468 non-null  object\n",
      " 2   ExitReason   164075 non-null  object\n",
      " 3   Patient_uid  172468 non-null  object\n",
      "dtypes: int64(1), object(3)\n",
      "memory usage: 5.3+ MB\n"
     ]
    }
   ],
   "source": [
    "patient_status.info()"
   ]
  },
  {
   "cell_type": "code",
   "execution_count": 28,
   "id": "6b15d913",
   "metadata": {},
   "outputs": [
    {
     "data": {
      "text/plain": [
       "SiteCode          0\n",
       "ExitDate          0\n",
       "ExitReason     8393\n",
       "Patient_uid       0\n",
       "dtype: int64"
      ]
     },
     "execution_count": 28,
     "metadata": {},
     "output_type": "execute_result"
    }
   ],
   "source": [
    "# Check for na values\n",
    "patient_status.isna().sum()"
   ]
  },
  {
   "cell_type": "code",
   "execution_count": 29,
   "id": "c0117417",
   "metadata": {},
   "outputs": [
    {
     "data": {
      "text/html": [
       "<div>\n",
       "<style scoped>\n",
       "    .dataframe tbody tr th:only-of-type {\n",
       "        vertical-align: middle;\n",
       "    }\n",
       "\n",
       "    .dataframe tbody tr th {\n",
       "        vertical-align: top;\n",
       "    }\n",
       "\n",
       "    .dataframe thead th {\n",
       "        text-align: right;\n",
       "    }\n",
       "</style>\n",
       "<table border=\"1\" class=\"dataframe\">\n",
       "  <thead>\n",
       "    <tr style=\"text-align: right;\">\n",
       "      <th></th>\n",
       "      <th>SiteCode</th>\n",
       "      <th>ExitDate</th>\n",
       "      <th>ExitReason</th>\n",
       "      <th>Patient_uid</th>\n",
       "    </tr>\n",
       "  </thead>\n",
       "  <tbody>\n",
       "    <tr>\n",
       "      <th>0</th>\n",
       "      <td>13089</td>\n",
       "      <td>2022-02-03</td>\n",
       "      <td>Transfer Out</td>\n",
       "      <td>C8B6E7C50A1530F4130D101A64940A1E8E02F8154C41AA...</td>\n",
       "    </tr>\n",
       "    <tr>\n",
       "      <th>1</th>\n",
       "      <td>10786</td>\n",
       "      <td>2022-01-07</td>\n",
       "      <td>Transfer Out</td>\n",
       "      <td>0E41F33A53596B218FA47D6F17D6413D33E44FC159EF5C...</td>\n",
       "    </tr>\n",
       "    <tr>\n",
       "      <th>2</th>\n",
       "      <td>12871</td>\n",
       "      <td>2022-01-19</td>\n",
       "      <td>Transfer Out</td>\n",
       "      <td>8AF1826B4A1C2115D3A0AB7C48480F22787FAF1C316BF7...</td>\n",
       "    </tr>\n",
       "    <tr>\n",
       "      <th>3</th>\n",
       "      <td>12871</td>\n",
       "      <td>2022-01-24</td>\n",
       "      <td>Transfer Out</td>\n",
       "      <td>AFF5E6C33C8499EAAF755947E27F8DBDA5E9C0B65A9FFC...</td>\n",
       "    </tr>\n",
       "    <tr>\n",
       "      <th>4</th>\n",
       "      <td>14749</td>\n",
       "      <td>2023-07-13</td>\n",
       "      <td>Transfer Out</td>\n",
       "      <td>0921593922E55C539DD4872C55C180FEE6A97B680F96F9...</td>\n",
       "    </tr>\n",
       "  </tbody>\n",
       "</table>\n",
       "</div>"
      ],
      "text/plain": [
       "   SiteCode    ExitDate    ExitReason  \\\n",
       "0     13089  2022-02-03  Transfer Out   \n",
       "1     10786  2022-01-07  Transfer Out   \n",
       "2     12871  2022-01-19  Transfer Out   \n",
       "3     12871  2022-01-24  Transfer Out   \n",
       "4     14749  2023-07-13  Transfer Out   \n",
       "\n",
       "                                         Patient_uid  \n",
       "0  C8B6E7C50A1530F4130D101A64940A1E8E02F8154C41AA...  \n",
       "1  0E41F33A53596B218FA47D6F17D6413D33E44FC159EF5C...  \n",
       "2  8AF1826B4A1C2115D3A0AB7C48480F22787FAF1C316BF7...  \n",
       "3  AFF5E6C33C8499EAAF755947E27F8DBDA5E9C0B65A9FFC...  \n",
       "4  0921593922E55C539DD4872C55C180FEE6A97B680F96F9...  "
      ]
     },
     "execution_count": 29,
     "metadata": {},
     "output_type": "execute_result"
    }
   ],
   "source": [
    "# Drop the data points with na values\n",
    "patient_status.dropna(inplace=True)\n",
    "patient_status.head()"
   ]
  },
  {
   "cell_type": "code",
   "execution_count": 30,
   "id": "d585c6bb",
   "metadata": {},
   "outputs": [],
   "source": [
    "# Modify the ExitReason column in the art_patients dataframe to avoid confusion\n",
    "\n",
    "# Rename the column ExitReason to ArtExitReason\n",
    "art_patients.rename(columns={'ExitReason': 'ArtExitReason'}, inplace=True)"
   ]
  },
  {
   "cell_type": "markdown",
   "id": "18ff4f22",
   "metadata": {},
   "source": [
    "###### 5. Patient_labs"
   ]
  },
  {
   "cell_type": "code",
   "execution_count": 31,
   "id": "10dc753b",
   "metadata": {},
   "outputs": [
    {
     "name": "stdout",
     "output_type": "stream",
     "text": [
      "<class 'pandas.core.frame.DataFrame'>\n",
      "RangeIndex: 2798983 entries, 0 to 2798982\n",
      "Data columns (total 5 columns):\n",
      " #   Column         Dtype \n",
      "---  ------         ----- \n",
      " 0   SiteCode       int64 \n",
      " 1   OrderedbyDate  object\n",
      " 2   TestName       object\n",
      " 3   TestResult     object\n",
      " 4   Patient_uid    object\n",
      "dtypes: int64(1), object(4)\n",
      "memory usage: 106.8+ MB\n"
     ]
    }
   ],
   "source": [
    "patient_labs.info()"
   ]
  },
  {
   "cell_type": "code",
   "execution_count": 32,
   "id": "6bafc882",
   "metadata": {},
   "outputs": [
    {
     "data": {
      "text/plain": [
       "SiteCode             0\n",
       "OrderedbyDate        0\n",
       "TestName         61074\n",
       "TestResult       24570\n",
       "Patient_uid          6\n",
       "dtype: int64"
      ]
     },
     "execution_count": 32,
     "metadata": {},
     "output_type": "execute_result"
    }
   ],
   "source": [
    "# check for na values\n",
    "patient_labs.isna().sum()"
   ]
  },
  {
   "cell_type": "code",
   "execution_count": 33,
   "id": "d8f74f5d",
   "metadata": {},
   "outputs": [],
   "source": [
    "# Drop the missing values from the dataset\n",
    "patient_labs.dropna(inplace=True)"
   ]
  },
  {
   "cell_type": "code",
   "execution_count": 34,
   "id": "a7d25e22",
   "metadata": {},
   "outputs": [
    {
     "data": {
      "text/html": [
       "<div>\n",
       "<style scoped>\n",
       "    .dataframe tbody tr th:only-of-type {\n",
       "        vertical-align: middle;\n",
       "    }\n",
       "\n",
       "    .dataframe tbody tr th {\n",
       "        vertical-align: top;\n",
       "    }\n",
       "\n",
       "    .dataframe thead th {\n",
       "        text-align: right;\n",
       "    }\n",
       "</style>\n",
       "<table border=\"1\" class=\"dataframe\">\n",
       "  <thead>\n",
       "    <tr style=\"text-align: right;\">\n",
       "      <th></th>\n",
       "      <th>SiteCode</th>\n",
       "      <th>OrderedbyDate</th>\n",
       "      <th>TestName</th>\n",
       "      <th>TestResult</th>\n",
       "      <th>Patient_uid</th>\n",
       "    </tr>\n",
       "  </thead>\n",
       "  <tbody>\n",
       "    <tr>\n",
       "      <th>0</th>\n",
       "      <td>14027</td>\n",
       "      <td>2022-08-25</td>\n",
       "      <td>Viral Load</td>\n",
       "      <td>0</td>\n",
       "      <td>3F11BDE0D8DA0B6D8FFCC20FAA79FF0CA3C188B41459C0...</td>\n",
       "    </tr>\n",
       "    <tr>\n",
       "      <th>1</th>\n",
       "      <td>13076</td>\n",
       "      <td>2023-02-15</td>\n",
       "      <td>Viral Load</td>\n",
       "      <td>87</td>\n",
       "      <td>4EE8F1817816ACA31EC31BF3970A707F941A41241319A8...</td>\n",
       "    </tr>\n",
       "    <tr>\n",
       "      <th>2</th>\n",
       "      <td>12929</td>\n",
       "      <td>2022-11-19</td>\n",
       "      <td>CHGM</td>\n",
       "      <td>33.5</td>\n",
       "      <td>32D913ED2228CC04150FAA7BEC23034183C7147F54A955...</td>\n",
       "    </tr>\n",
       "    <tr>\n",
       "      <th>3</th>\n",
       "      <td>14124</td>\n",
       "      <td>2023-05-16</td>\n",
       "      <td>Viral Load</td>\n",
       "      <td>184</td>\n",
       "      <td>7B73C8E14681A416E4A899B18BFAAEC4F22E31BADFAFA1...</td>\n",
       "    </tr>\n",
       "    <tr>\n",
       "      <th>4</th>\n",
       "      <td>14020</td>\n",
       "      <td>2023-08-24</td>\n",
       "      <td>Viral Load</td>\n",
       "      <td>LDL</td>\n",
       "      <td>B856DD3933C4A89C78CB9AE675F9943C16B9D3DC8ED7DF...</td>\n",
       "    </tr>\n",
       "  </tbody>\n",
       "</table>\n",
       "</div>"
      ],
      "text/plain": [
       "   SiteCode OrderedbyDate    TestName TestResult  \\\n",
       "0     14027    2022-08-25  Viral Load          0   \n",
       "1     13076    2023-02-15  Viral Load         87   \n",
       "2     12929    2022-11-19        CHGM       33.5   \n",
       "3     14124    2023-05-16  Viral Load        184   \n",
       "4     14020    2023-08-24  Viral Load        LDL   \n",
       "\n",
       "                                         Patient_uid  \n",
       "0  3F11BDE0D8DA0B6D8FFCC20FAA79FF0CA3C188B41459C0...  \n",
       "1  4EE8F1817816ACA31EC31BF3970A707F941A41241319A8...  \n",
       "2  32D913ED2228CC04150FAA7BEC23034183C7147F54A955...  \n",
       "3  7B73C8E14681A416E4A899B18BFAAEC4F22E31BADFAFA1...  \n",
       "4  B856DD3933C4A89C78CB9AE675F9943C16B9D3DC8ED7DF...  "
      ]
     },
     "execution_count": 34,
     "metadata": {},
     "output_type": "execute_result"
    }
   ],
   "source": [
    "patient_labs.head()"
   ]
  },
  {
   "cell_type": "code",
   "execution_count": 35,
   "id": "52cdbbf4",
   "metadata": {},
   "outputs": [
    {
     "data": {
      "text/plain": [
       "array(['Viral Load', 'CHGM', 'CD4 Count', 'Hemo', 'LYM2',\n",
       "       'Serum Cryptococcal Ag', 'FLDEX4 -MON2 %', 'CD4 Percentage',\n",
       "       'GeneXpert', 'LYM', 'Glycemia', 'Hepatitis B Surface Antigen Test',\n",
       "       'Sputum for Acid Fast Bacilli', 'VDRL Titre',\n",
       "       'Serum creatinine (umol/L)', 'PDW', 'ColHDL', 'RVGM', 'NEUT2',\n",
       "       'Hema', 'Tryglicerid', 'HGM', 'FLDEX1 - MON', 'PCRq', 'Creatinine',\n",
       "       'GPT', 'GOT', 'PCT', 'ColTot', 'Eritro', 'Tuberculosis', 'Leuco',\n",
       "       'mpv', 'RDWCV', 'ALT', 'SERUM GLUTAMIC-PYRUVIC TRANSAMINASE',\n",
       "       'Rifampicin (R)', 'SPUTUM FOR ACID FAST BACILLI',\n",
       "       'Rapid Plasma Reagin', 'sputum for acid fast bacilli', 'MXD2',\n",
       "       'UREA', 'RAPID PLASMA REAGIN', 'URINE PREGNANCY TEST',\n",
       "       'serum cryptococcal ag', 'MXD', 'K', 'HBA1C', 'BILD', 'TB LAM',\n",
       "       'BLT', 'HIV DNA POLYMERASE CHAIN REACTION, QUALITATIVE',\n",
       "       'serum creatinine (umol/l)',\n",
       "       'Hepatitis B surface antigen spot test', 'genexpert',\n",
       "       'Treponema Pallidum Hemagglutination Assay, Qualitative',\n",
       "       'rapid plasma reagin', 'ALBU', 'tb lam',\n",
       "       'Tuberculosis polymerase chain reaction with rifampin resistance checking',\n",
       "       'Serum cryptococcal antigen status',\n",
       "       'HEPATITIS C TEST - QUALITATIVE', 'CL', 'Determine rapid test',\n",
       "       'VDRL TITRE', 'vdrl titre', 'Isoniazid (H)', 'IRON', 'PCR', 'NEUT',\n",
       "       'AlfaAmilasi', 'PLRC', 'CD4 count result (qualitative)',\n",
       "       'Ferritin', 'alt', 'CD8', 'Unigold ', 'PLAQ',\n",
       "       'Treponema Pallidum Hemagglutination Assay', 'Plasmodium',\n",
       "       'FLDEX3 - BAS', 'PROTEINURIA',\n",
       "       'treponema pallidum hemagglutination assay, qualitative',\n",
       "       'FLDEX5 - EOS2 %', 'PT', 'CD4/CD8', 'Oraquick',\n",
       "       'TREPONEMA PALLIDUM HEMAGGLUTINATION ASSAY, QUALITATIVE',\n",
       "       'FLDEX2 - MON2 %', 'CA'], dtype=object)"
      ]
     },
     "execution_count": 35,
     "metadata": {},
     "output_type": "execute_result"
    }
   ],
   "source": [
    "# Check the number of tests run on eaxh patient\n",
    "patient_labs['TestName'].unique()"
   ]
  },
  {
   "cell_type": "markdown",
   "id": "739704a7",
   "metadata": {},
   "source": [
    "From the tests above, we are only interested in the results for ```Viral Load```, ```CD4 Count``` and ```CD4 Percentage``` tests for our analysis."
   ]
  },
  {
   "cell_type": "code",
   "execution_count": 36,
   "id": "a531f51c",
   "metadata": {},
   "outputs": [
    {
     "data": {
      "text/html": [
       "<div>\n",
       "<style scoped>\n",
       "    .dataframe tbody tr th:only-of-type {\n",
       "        vertical-align: middle;\n",
       "    }\n",
       "\n",
       "    .dataframe tbody tr th {\n",
       "        vertical-align: top;\n",
       "    }\n",
       "\n",
       "    .dataframe thead th {\n",
       "        text-align: right;\n",
       "    }\n",
       "</style>\n",
       "<table border=\"1\" class=\"dataframe\">\n",
       "  <thead>\n",
       "    <tr style=\"text-align: right;\">\n",
       "      <th></th>\n",
       "      <th>SiteCode</th>\n",
       "      <th>OrderedbyDate</th>\n",
       "      <th>TestName</th>\n",
       "      <th>TestResult</th>\n",
       "      <th>Patient_uid</th>\n",
       "    </tr>\n",
       "  </thead>\n",
       "  <tbody>\n",
       "    <tr>\n",
       "      <th>0</th>\n",
       "      <td>14027</td>\n",
       "      <td>2022-08-25</td>\n",
       "      <td>Viral Load</td>\n",
       "      <td>0</td>\n",
       "      <td>3F11BDE0D8DA0B6D8FFCC20FAA79FF0CA3C188B41459C0...</td>\n",
       "    </tr>\n",
       "    <tr>\n",
       "      <th>1</th>\n",
       "      <td>13076</td>\n",
       "      <td>2023-02-15</td>\n",
       "      <td>Viral Load</td>\n",
       "      <td>87</td>\n",
       "      <td>4EE8F1817816ACA31EC31BF3970A707F941A41241319A8...</td>\n",
       "    </tr>\n",
       "    <tr>\n",
       "      <th>3</th>\n",
       "      <td>14124</td>\n",
       "      <td>2023-05-16</td>\n",
       "      <td>Viral Load</td>\n",
       "      <td>184</td>\n",
       "      <td>7B73C8E14681A416E4A899B18BFAAEC4F22E31BADFAFA1...</td>\n",
       "    </tr>\n",
       "    <tr>\n",
       "      <th>4</th>\n",
       "      <td>14020</td>\n",
       "      <td>2023-08-24</td>\n",
       "      <td>Viral Load</td>\n",
       "      <td>LDL</td>\n",
       "      <td>B856DD3933C4A89C78CB9AE675F9943C16B9D3DC8ED7DF...</td>\n",
       "    </tr>\n",
       "    <tr>\n",
       "      <th>5</th>\n",
       "      <td>12988</td>\n",
       "      <td>2022-11-28</td>\n",
       "      <td>CD4 Count</td>\n",
       "      <td>1151</td>\n",
       "      <td>A859972B110C134BE9113DC0465AACA9AC0C3CE7E98C4E...</td>\n",
       "    </tr>\n",
       "    <tr>\n",
       "      <th>...</th>\n",
       "      <td>...</td>\n",
       "      <td>...</td>\n",
       "      <td>...</td>\n",
       "      <td>...</td>\n",
       "      <td>...</td>\n",
       "    </tr>\n",
       "    <tr>\n",
       "      <th>2798978</th>\n",
       "      <td>12492</td>\n",
       "      <td>2023-09-29</td>\n",
       "      <td>Viral Load</td>\n",
       "      <td>LDL</td>\n",
       "      <td>1F805BE57F8AAEDA962EAEE73A1A226201CDCB1DA7C713...</td>\n",
       "    </tr>\n",
       "    <tr>\n",
       "      <th>2798979</th>\n",
       "      <td>15662</td>\n",
       "      <td>2023-04-21</td>\n",
       "      <td>Viral Load</td>\n",
       "      <td>LDL</td>\n",
       "      <td>8CF7AA69FF9194F128BB847DF3CFBCA78633C3C656654E...</td>\n",
       "    </tr>\n",
       "    <tr>\n",
       "      <th>2798980</th>\n",
       "      <td>16018</td>\n",
       "      <td>2023-06-06</td>\n",
       "      <td>Viral Load</td>\n",
       "      <td>205</td>\n",
       "      <td>BD02C6C5D1593BD12DEBD51D7FBAD406499833813DCF2C...</td>\n",
       "    </tr>\n",
       "    <tr>\n",
       "      <th>2798981</th>\n",
       "      <td>13687</td>\n",
       "      <td>2023-10-25</td>\n",
       "      <td>Viral Load</td>\n",
       "      <td>155</td>\n",
       "      <td>F4B3C28C5FB7EA7871787AC9E4FABC4FFED91642840609...</td>\n",
       "    </tr>\n",
       "    <tr>\n",
       "      <th>2798982</th>\n",
       "      <td>14947</td>\n",
       "      <td>2022-08-16</td>\n",
       "      <td>Viral Load</td>\n",
       "      <td>0</td>\n",
       "      <td>6B68EC6A14794FFD7EF223985A2824E9473F47FB607F08...</td>\n",
       "    </tr>\n",
       "  </tbody>\n",
       "</table>\n",
       "<p>2503758 rows × 5 columns</p>\n",
       "</div>"
      ],
      "text/plain": [
       "         SiteCode OrderedbyDate    TestName TestResult  \\\n",
       "0           14027    2022-08-25  Viral Load          0   \n",
       "1           13076    2023-02-15  Viral Load         87   \n",
       "3           14124    2023-05-16  Viral Load        184   \n",
       "4           14020    2023-08-24  Viral Load        LDL   \n",
       "5           12988    2022-11-28   CD4 Count       1151   \n",
       "...           ...           ...         ...        ...   \n",
       "2798978     12492    2023-09-29  Viral Load        LDL   \n",
       "2798979     15662    2023-04-21  Viral Load        LDL   \n",
       "2798980     16018    2023-06-06  Viral Load        205   \n",
       "2798981     13687    2023-10-25  Viral Load        155   \n",
       "2798982     14947    2022-08-16  Viral Load          0   \n",
       "\n",
       "                                               Patient_uid  \n",
       "0        3F11BDE0D8DA0B6D8FFCC20FAA79FF0CA3C188B41459C0...  \n",
       "1        4EE8F1817816ACA31EC31BF3970A707F941A41241319A8...  \n",
       "3        7B73C8E14681A416E4A899B18BFAAEC4F22E31BADFAFA1...  \n",
       "4        B856DD3933C4A89C78CB9AE675F9943C16B9D3DC8ED7DF...  \n",
       "5        A859972B110C134BE9113DC0465AACA9AC0C3CE7E98C4E...  \n",
       "...                                                    ...  \n",
       "2798978  1F805BE57F8AAEDA962EAEE73A1A226201CDCB1DA7C713...  \n",
       "2798979  8CF7AA69FF9194F128BB847DF3CFBCA78633C3C656654E...  \n",
       "2798980  BD02C6C5D1593BD12DEBD51D7FBAD406499833813DCF2C...  \n",
       "2798981  F4B3C28C5FB7EA7871787AC9E4FABC4FFED91642840609...  \n",
       "2798982  6B68EC6A14794FFD7EF223985A2824E9473F47FB607F08...  \n",
       "\n",
       "[2503758 rows x 5 columns]"
      ]
     },
     "execution_count": 36,
     "metadata": {},
     "output_type": "execute_result"
    }
   ],
   "source": [
    "# Filter the DataFrame\n",
    "filtered_patient_labs = patient_labs[patient_labs['TestName'].isin(['Viral Load', 'CD4 Count', 'CD4 Percentage'])]\n",
    "\n",
    "# Show the filtered DataFrame\n",
    "filtered_patient_labs"
   ]
  },
  {
   "cell_type": "code",
   "execution_count": 40,
   "id": "c665411f",
   "metadata": {},
   "outputs": [
    {
     "data": {
      "text/plain": [
       "149878"
      ]
     },
     "execution_count": 40,
     "metadata": {},
     "output_type": "execute_result"
    }
   ],
   "source": [
    "filtered_patient_labs['Patient_uid'].nunique()"
   ]
  },
  {
   "cell_type": "code",
   "execution_count": null,
   "id": "4cdb79c6",
   "metadata": {},
   "outputs": [],
   "source": []
  },
  {
   "cell_type": "code",
   "execution_count": 38,
   "id": "a0848e3a",
   "metadata": {},
   "outputs": [],
   "source": [
    "# distribution of LTFU patients\n",
    "# distribution of transfered out patients by region\n",
    "# distribution of LTFU patients by region\n",
    "# distribution of LTFU patients by occupation\n",
    "# distribution of LTFU patients by gender\n",
    "# distribution of patients by ExitReason (establish portion in each category)\n",
    "# use the patient_labs and patient_visits"
   ]
  },
  {
   "cell_type": "code",
   "execution_count": null,
   "id": "2dd5be20",
   "metadata": {},
   "outputs": [],
   "source": []
  }
 ],
 "metadata": {
  "kernelspec": {
   "display_name": "Python 3 (ipykernel)",
   "language": "python",
   "name": "python3"
  },
  "language_info": {
   "codemirror_mode": {
    "name": "ipython",
    "version": 3
   },
   "file_extension": ".py",
   "mimetype": "text/x-python",
   "name": "python",
   "nbconvert_exporter": "python",
   "pygments_lexer": "ipython3",
   "version": "3.8.5"
  }
 },
 "nbformat": 4,
 "nbformat_minor": 5
}
