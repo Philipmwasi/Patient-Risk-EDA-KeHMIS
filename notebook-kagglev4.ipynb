{
 "cells": [
  {
   "cell_type": "code",
   "execution_count": 1,
   "metadata": {
    "execution": {
     "iopub.execute_input": "2024-05-21T15:18:38.690314Z",
     "iopub.status.busy": "2024-05-21T15:18:38.689964Z",
     "iopub.status.idle": "2024-05-21T15:18:38.697734Z",
     "shell.execute_reply": "2024-05-21T15:18:38.696486Z",
     "shell.execute_reply.started": "2024-05-21T15:18:38.690288Z"
    },
    "executionInfo": {
     "elapsed": 1871,
     "status": "ok",
     "timestamp": 1716050627679,
     "user": {
      "displayName": "Philip Mwasi",
      "userId": "09091040523095534976"
     },
     "user_tz": -180
    },
    "id": "5231b696"
   },
   "outputs": [],
   "source": [
    "# Importing the necessary packages\n",
    "import pandas as pd\n",
    "import numpy as np\n",
    "import seaborn as sns\n",
    "import matplotlib.pyplot as plt\n",
    "%matplotlib inline\n",
    "import warnings\n",
    "warnings.filterwarnings('ignore')"
   ]
  },
  {
   "cell_type": "markdown",
   "metadata": {
    "id": "2c33d37a"
   },
   "source": [
    "IMPORTING THE DATASETS"
   ]
  },
  {
   "cell_type": "code",
   "execution_count": 2,
   "metadata": {
    "execution": {
     "iopub.execute_input": "2024-05-21T15:18:38.699604Z",
     "iopub.status.busy": "2024-05-21T15:18:38.699275Z",
     "iopub.status.idle": "2024-05-21T15:19:09.236501Z",
     "shell.execute_reply": "2024-05-21T15:19:09.235650Z",
     "shell.execute_reply.started": "2024-05-21T15:18:38.699574Z"
    },
    "executionInfo": {
     "elapsed": 34683,
     "status": "ok",
     "timestamp": 1716050665056,
     "user": {
      "displayName": "Philip Mwasi",
      "userId": "09091040523095534976"
     },
     "user_tz": -180
    },
    "id": "38717b75",
    "outputId": "e61aea91-f4ad-4cf4-dfd0-31310657ec8b",
    "scrolled": true
   },
   "outputs": [],
   "source": [
    "# Read the CSV files into Pandas DataFrames\n",
    "ct_patients = pd.read_csv('CT_patients.csv')\n",
    "art_patients = pd.read_csv(\"ct_art_patients.csv\")\n",
    "patient_visits = pd.read_csv(\"CT_PatientVisits.csv\")\n",
    "patient_labs = pd.read_csv(\"ct_patient_labs.csv\")\n",
    "patient_depression_scr = pd.read_csv(\"CT_depressionscreening.csv\")"
   ]
  },
  {
   "cell_type": "markdown",
   "metadata": {
    "id": "a88ffa7b"
   },
   "source": [
    "Now that we have imported all the datasets we need, we will now merge them into one dataset, clean and do exploratory data analysis on it."
   ]
  },
  {
   "cell_type": "markdown",
   "metadata": {
    "id": "39b51674"
   },
   "source": [
    "## EXPLORATORY DATA  ANALYSIS"
   ]
  },
  {
   "cell_type": "markdown",
   "metadata": {
    "id": "8d6678c3"
   },
   "source": [
    "### DATA CLEANING"
   ]
  },
  {
   "cell_type": "markdown",
   "metadata": {
    "id": "5cfceaf4"
   },
   "source": [
    "The data cleaning process will be done on individual datasets before merging them into one dataset that will be used for the rest of the exploratory data analysis to avoid merging issues."
   ]
  },
  {
   "cell_type": "code",
   "execution_count": 3,
   "metadata": {
    "execution": {
     "iopub.execute_input": "2024-05-21T15:19:09.238797Z",
     "iopub.status.busy": "2024-05-21T15:19:09.238433Z",
     "iopub.status.idle": "2024-05-21T15:19:09.252703Z",
     "shell.execute_reply": "2024-05-21T15:19:09.251772Z",
     "shell.execute_reply.started": "2024-05-21T15:19:09.238765Z"
    },
    "executionInfo": {
     "elapsed": 44,
     "status": "ok",
     "timestamp": 1716050665057,
     "user": {
      "displayName": "Philip Mwasi",
      "userId": "09091040523095534976"
     },
     "user_tz": -180
    },
    "id": "bc37e7b8",
    "outputId": "4f0c956a-3ce4-45ad-f47c-7be98f823643"
   },
   "outputs": [
    {
     "data": {
      "text/html": [
       "<div>\n",
       "<style scoped>\n",
       "    .dataframe tbody tr th:only-of-type {\n",
       "        vertical-align: middle;\n",
       "    }\n",
       "\n",
       "    .dataframe tbody tr th {\n",
       "        vertical-align: top;\n",
       "    }\n",
       "\n",
       "    .dataframe thead th {\n",
       "        text-align: right;\n",
       "    }\n",
       "</style>\n",
       "<table border=\"1\" class=\"dataframe\">\n",
       "  <thead>\n",
       "    <tr style=\"text-align: right;\">\n",
       "      <th></th>\n",
       "      <th>Unnamed: 0</th>\n",
       "      <th>PatientPKHash</th>\n",
       "      <th>SiteCode</th>\n",
       "      <th>FacilityName</th>\n",
       "      <th>Region</th>\n",
       "      <th>Gender</th>\n",
       "      <th>LastVisit</th>\n",
       "      <th>EducationLevel</th>\n",
       "      <th>Occupation</th>\n",
       "      <th>MaritalStatus</th>\n",
       "    </tr>\n",
       "  </thead>\n",
       "  <tbody>\n",
       "    <tr>\n",
       "      <th>0</th>\n",
       "      <td>1</td>\n",
       "      <td>78F96823AC7AD6E060E8D69DF686760669A4CCFD34EE70...</td>\n",
       "      <td>16800</td>\n",
       "      <td>Lea Toto Clinic (Westlands)</td>\n",
       "      <td>Nairobi</td>\n",
       "      <td>Female</td>\n",
       "      <td>2022-01-19</td>\n",
       "      <td>NaN</td>\n",
       "      <td>NaN</td>\n",
       "      <td>NaN</td>\n",
       "    </tr>\n",
       "    <tr>\n",
       "      <th>1</th>\n",
       "      <td>2</td>\n",
       "      <td>FE9A28A6208798FCA425FB02E28B30ACF4DAAAD5E7D2F3...</td>\n",
       "      <td>18828</td>\n",
       "      <td>Lea Toto Zimmerman</td>\n",
       "      <td>Nairobi</td>\n",
       "      <td>Female</td>\n",
       "      <td>2022-01-10</td>\n",
       "      <td>NaN</td>\n",
       "      <td>NaN</td>\n",
       "      <td>NaN</td>\n",
       "    </tr>\n",
       "    <tr>\n",
       "      <th>2</th>\n",
       "      <td>3</td>\n",
       "      <td>A38CB015A0BA15BAC709E502AD9A68632EF7D63C45575F...</td>\n",
       "      <td>12965</td>\n",
       "      <td>Guru Nanak Hospital</td>\n",
       "      <td>Nairobi</td>\n",
       "      <td>Female</td>\n",
       "      <td>2023-11-08</td>\n",
       "      <td>NaN</td>\n",
       "      <td>NaN</td>\n",
       "      <td>Single</td>\n",
       "    </tr>\n",
       "    <tr>\n",
       "      <th>3</th>\n",
       "      <td>4</td>\n",
       "      <td>DC628EEC29CD06711202042DB171BB4053CFB1B7D3C57C...</td>\n",
       "      <td>12965</td>\n",
       "      <td>Guru Nanak Hospital</td>\n",
       "      <td>Nairobi</td>\n",
       "      <td>Female</td>\n",
       "      <td>2023-12-07</td>\n",
       "      <td>NaN</td>\n",
       "      <td>NaN</td>\n",
       "      <td>Single</td>\n",
       "    </tr>\n",
       "    <tr>\n",
       "      <th>4</th>\n",
       "      <td>5</td>\n",
       "      <td>7B9AFEBB3092D6229690F152A77507B931EB4AA1A7E4D1...</td>\n",
       "      <td>18828</td>\n",
       "      <td>Lea Toto Zimmerman</td>\n",
       "      <td>Nairobi</td>\n",
       "      <td>Female</td>\n",
       "      <td>2022-01-13</td>\n",
       "      <td>NaN</td>\n",
       "      <td>NaN</td>\n",
       "      <td>NaN</td>\n",
       "    </tr>\n",
       "  </tbody>\n",
       "</table>\n",
       "</div>"
      ],
      "text/plain": [
       "   Unnamed: 0                                      PatientPKHash  SiteCode  \\\n",
       "0           1  78F96823AC7AD6E060E8D69DF686760669A4CCFD34EE70...     16800   \n",
       "1           2  FE9A28A6208798FCA425FB02E28B30ACF4DAAAD5E7D2F3...     18828   \n",
       "2           3  A38CB015A0BA15BAC709E502AD9A68632EF7D63C45575F...     12965   \n",
       "3           4  DC628EEC29CD06711202042DB171BB4053CFB1B7D3C57C...     12965   \n",
       "4           5  7B9AFEBB3092D6229690F152A77507B931EB4AA1A7E4D1...     18828   \n",
       "\n",
       "                  FacilityName   Region  Gender   LastVisit EducationLevel  \\\n",
       "0  Lea Toto Clinic (Westlands)  Nairobi  Female  2022-01-19            NaN   \n",
       "1           Lea Toto Zimmerman  Nairobi  Female  2022-01-10            NaN   \n",
       "2          Guru Nanak Hospital  Nairobi  Female  2023-11-08            NaN   \n",
       "3          Guru Nanak Hospital  Nairobi  Female  2023-12-07            NaN   \n",
       "4           Lea Toto Zimmerman  Nairobi  Female  2022-01-13            NaN   \n",
       "\n",
       "  Occupation MaritalStatus  \n",
       "0        NaN           NaN  \n",
       "1        NaN           NaN  \n",
       "2        NaN        Single  \n",
       "3        NaN        Single  \n",
       "4        NaN           NaN  "
      ]
     },
     "execution_count": 3,
     "metadata": {},
     "output_type": "execute_result"
    }
   ],
   "source": [
    "ct_patients.head()"
   ]
  },
  {
   "cell_type": "code",
   "execution_count": 4,
   "metadata": {
    "execution": {
     "iopub.execute_input": "2024-05-21T15:19:09.254265Z",
     "iopub.status.busy": "2024-05-21T15:19:09.253939Z",
     "iopub.status.idle": "2024-05-21T15:19:09.271870Z",
     "shell.execute_reply": "2024-05-21T15:19:09.270946Z",
     "shell.execute_reply.started": "2024-05-21T15:19:09.254234Z"
    },
    "executionInfo": {
     "elapsed": 26,
     "status": "ok",
     "timestamp": 1716050665057,
     "user": {
      "displayName": "Philip Mwasi",
      "userId": "09091040523095534976"
     },
     "user_tz": -180
    },
    "id": "f2dc2536",
    "outputId": "1e5d2293-e1d3-4836-8f1e-fefe34cead7a"
   },
   "outputs": [
    {
     "data": {
      "text/html": [
       "<div>\n",
       "<style scoped>\n",
       "    .dataframe tbody tr th:only-of-type {\n",
       "        vertical-align: middle;\n",
       "    }\n",
       "\n",
       "    .dataframe tbody tr th {\n",
       "        vertical-align: top;\n",
       "    }\n",
       "\n",
       "    .dataframe thead th {\n",
       "        text-align: right;\n",
       "    }\n",
       "</style>\n",
       "<table border=\"1\" class=\"dataframe\">\n",
       "  <thead>\n",
       "    <tr style=\"text-align: right;\">\n",
       "      <th></th>\n",
       "      <th>Unnamed: 0</th>\n",
       "      <th>PatientPKHash</th>\n",
       "      <th>SiteCode</th>\n",
       "      <th>ExitReason</th>\n",
       "      <th>AgeEnrollment</th>\n",
       "      <th>StartARTDate</th>\n",
       "      <th>AgeLastVisit</th>\n",
       "      <th>AgeARTStart</th>\n",
       "      <th>StartRegimen</th>\n",
       "      <th>LastRegimen</th>\n",
       "    </tr>\n",
       "  </thead>\n",
       "  <tbody>\n",
       "    <tr>\n",
       "      <th>0</th>\n",
       "      <td>1</td>\n",
       "      <td>FFF1D919002BAFBC0E2E547F358A2AF56EBE61525DF6EE...</td>\n",
       "      <td>14947</td>\n",
       "      <td>NaN</td>\n",
       "      <td>26.0</td>\n",
       "      <td>2009-02-24</td>\n",
       "      <td>41.0</td>\n",
       "      <td>29.0</td>\n",
       "      <td>3TC + EFV + TDF</td>\n",
       "      <td>3TC + RTV + AZT + ATV</td>\n",
       "    </tr>\n",
       "    <tr>\n",
       "      <th>1</th>\n",
       "      <td>2</td>\n",
       "      <td>F3FE5E7023FECF8776ED0ED6187AF0DB4DB26719AF79E0...</td>\n",
       "      <td>13492</td>\n",
       "      <td>NaN</td>\n",
       "      <td>55.0</td>\n",
       "      <td>2008-10-03</td>\n",
       "      <td>55.0</td>\n",
       "      <td>47.0</td>\n",
       "      <td>3TC+D4T+NVP</td>\n",
       "      <td>3TC+AZT+NVP</td>\n",
       "    </tr>\n",
       "    <tr>\n",
       "      <th>2</th>\n",
       "      <td>3</td>\n",
       "      <td>D95DBAB700E9EBB48E62C6D662951961CFCFE492C37410...</td>\n",
       "      <td>14110</td>\n",
       "      <td>NaN</td>\n",
       "      <td>34.0</td>\n",
       "      <td>2011-10-26</td>\n",
       "      <td>46.0</td>\n",
       "      <td>34.0</td>\n",
       "      <td>3TC+AZT+NVP</td>\n",
       "      <td>3TC+DTG+TDF</td>\n",
       "    </tr>\n",
       "    <tr>\n",
       "      <th>3</th>\n",
       "      <td>4</td>\n",
       "      <td>030A0046095BDECF76ADC5621D6FE03B9C6570A3432AB9...</td>\n",
       "      <td>15049</td>\n",
       "      <td>NaN</td>\n",
       "      <td>23.0</td>\n",
       "      <td>2014-07-18</td>\n",
       "      <td>25.0</td>\n",
       "      <td>24.0</td>\n",
       "      <td>3TC+AZT+LPV/r</td>\n",
       "      <td>3TC+AZT+LPV/r</td>\n",
       "    </tr>\n",
       "    <tr>\n",
       "      <th>4</th>\n",
       "      <td>5</td>\n",
       "      <td>26D6A8AD97C75FFC548F6873E5E93CE475479E3E1A1097...</td>\n",
       "      <td>11476</td>\n",
       "      <td>NaN</td>\n",
       "      <td>37.0</td>\n",
       "      <td>2021-06-02</td>\n",
       "      <td>43.0</td>\n",
       "      <td>40.0</td>\n",
       "      <td>3TC+EFV+TDF</td>\n",
       "      <td>3TC+DTG+TDF</td>\n",
       "    </tr>\n",
       "  </tbody>\n",
       "</table>\n",
       "</div>"
      ],
      "text/plain": [
       "   Unnamed: 0                                      PatientPKHash  SiteCode  \\\n",
       "0           1  FFF1D919002BAFBC0E2E547F358A2AF56EBE61525DF6EE...     14947   \n",
       "1           2  F3FE5E7023FECF8776ED0ED6187AF0DB4DB26719AF79E0...     13492   \n",
       "2           3  D95DBAB700E9EBB48E62C6D662951961CFCFE492C37410...     14110   \n",
       "3           4  030A0046095BDECF76ADC5621D6FE03B9C6570A3432AB9...     15049   \n",
       "4           5  26D6A8AD97C75FFC548F6873E5E93CE475479E3E1A1097...     11476   \n",
       "\n",
       "  ExitReason  AgeEnrollment StartARTDate  AgeLastVisit  AgeARTStart  \\\n",
       "0        NaN           26.0   2009-02-24          41.0         29.0   \n",
       "1        NaN           55.0   2008-10-03          55.0         47.0   \n",
       "2        NaN           34.0   2011-10-26          46.0         34.0   \n",
       "3        NaN           23.0   2014-07-18          25.0         24.0   \n",
       "4        NaN           37.0   2021-06-02          43.0         40.0   \n",
       "\n",
       "      StartRegimen            LastRegimen  \n",
       "0  3TC + EFV + TDF  3TC + RTV + AZT + ATV  \n",
       "1      3TC+D4T+NVP            3TC+AZT+NVP  \n",
       "2      3TC+AZT+NVP            3TC+DTG+TDF  \n",
       "3    3TC+AZT+LPV/r          3TC+AZT+LPV/r  \n",
       "4      3TC+EFV+TDF            3TC+DTG+TDF  "
      ]
     },
     "execution_count": 4,
     "metadata": {},
     "output_type": "execute_result"
    }
   ],
   "source": [
    "art_patients.head()  "
   ]
  },
  {
   "cell_type": "code",
   "execution_count": 5,
   "metadata": {
    "execution": {
     "iopub.execute_input": "2024-05-21T15:19:09.274849Z",
     "iopub.status.busy": "2024-05-21T15:19:09.274520Z",
     "iopub.status.idle": "2024-05-21T15:19:09.287497Z",
     "shell.execute_reply": "2024-05-21T15:19:09.286538Z",
     "shell.execute_reply.started": "2024-05-21T15:19:09.274817Z"
    },
    "executionInfo": {
     "elapsed": 24,
     "status": "ok",
     "timestamp": 1716050665057,
     "user": {
      "displayName": "Philip Mwasi",
      "userId": "09091040523095534976"
     },
     "user_tz": -180
    },
    "id": "e8c7bd33",
    "outputId": "631a8628-79f4-40fd-d36c-dfff470b8f33"
   },
   "outputs": [
    {
     "data": {
      "text/html": [
       "<div>\n",
       "<style scoped>\n",
       "    .dataframe tbody tr th:only-of-type {\n",
       "        vertical-align: middle;\n",
       "    }\n",
       "\n",
       "    .dataframe tbody tr th {\n",
       "        vertical-align: top;\n",
       "    }\n",
       "\n",
       "    .dataframe thead th {\n",
       "        text-align: right;\n",
       "    }\n",
       "</style>\n",
       "<table border=\"1\" class=\"dataframe\">\n",
       "  <thead>\n",
       "    <tr style=\"text-align: right;\">\n",
       "      <th></th>\n",
       "      <th>Unnamed: 0</th>\n",
       "      <th>PatientPKHash</th>\n",
       "      <th>SiteCode</th>\n",
       "      <th>Adherence</th>\n",
       "      <th>VisitDate</th>\n",
       "      <th>AdherenceCategory</th>\n",
       "      <th>NextAppointmentDate</th>\n",
       "    </tr>\n",
       "  </thead>\n",
       "  <tbody>\n",
       "    <tr>\n",
       "      <th>0</th>\n",
       "      <td>1</td>\n",
       "      <td>F099AA757FCAF0709211D33D7E2FA4CE9A23652C13CAB4...</td>\n",
       "      <td>15204</td>\n",
       "      <td>GOOD</td>\n",
       "      <td>2022-07-04</td>\n",
       "      <td>GOOD</td>\n",
       "      <td>2022-11-01</td>\n",
       "    </tr>\n",
       "    <tr>\n",
       "      <th>1</th>\n",
       "      <td>2</td>\n",
       "      <td>3D5061D636B5B454C739195AA7B28692AAECAA098D3E29...</td>\n",
       "      <td>15204</td>\n",
       "      <td>GOOD</td>\n",
       "      <td>2023-05-19</td>\n",
       "      <td>GOOD</td>\n",
       "      <td>2023-08-17</td>\n",
       "    </tr>\n",
       "    <tr>\n",
       "      <th>2</th>\n",
       "      <td>3</td>\n",
       "      <td>7BDF500F749AB18900F48C8A30B03EA880AFEBD5F5B176...</td>\n",
       "      <td>15204</td>\n",
       "      <td>GOOD</td>\n",
       "      <td>2023-01-13</td>\n",
       "      <td>GOOD</td>\n",
       "      <td>2023-02-13</td>\n",
       "    </tr>\n",
       "    <tr>\n",
       "      <th>3</th>\n",
       "      <td>4</td>\n",
       "      <td>30D8984113ECA227531EC4770A7A4A5929C97FF21A0EFF...</td>\n",
       "      <td>15204</td>\n",
       "      <td>GOOD</td>\n",
       "      <td>2023-01-13</td>\n",
       "      <td>GOOD</td>\n",
       "      <td>2023-05-02</td>\n",
       "    </tr>\n",
       "    <tr>\n",
       "      <th>4</th>\n",
       "      <td>5</td>\n",
       "      <td>BB453C54C31C091099809613E80D74EDE582D89FCF9376...</td>\n",
       "      <td>15204</td>\n",
       "      <td>GOOD</td>\n",
       "      <td>2023-12-11</td>\n",
       "      <td>GOOD</td>\n",
       "      <td>2024-03-11</td>\n",
       "    </tr>\n",
       "  </tbody>\n",
       "</table>\n",
       "</div>"
      ],
      "text/plain": [
       "   Unnamed: 0                                      PatientPKHash  SiteCode  \\\n",
       "0           1  F099AA757FCAF0709211D33D7E2FA4CE9A23652C13CAB4...     15204   \n",
       "1           2  3D5061D636B5B454C739195AA7B28692AAECAA098D3E29...     15204   \n",
       "2           3  7BDF500F749AB18900F48C8A30B03EA880AFEBD5F5B176...     15204   \n",
       "3           4  30D8984113ECA227531EC4770A7A4A5929C97FF21A0EFF...     15204   \n",
       "4           5  BB453C54C31C091099809613E80D74EDE582D89FCF9376...     15204   \n",
       "\n",
       "  Adherence   VisitDate AdherenceCategory NextAppointmentDate  \n",
       "0      GOOD  2022-07-04              GOOD          2022-11-01  \n",
       "1      GOOD  2023-05-19              GOOD          2023-08-17  \n",
       "2      GOOD  2023-01-13              GOOD          2023-02-13  \n",
       "3      GOOD  2023-01-13              GOOD          2023-05-02  \n",
       "4      GOOD  2023-12-11              GOOD          2024-03-11  "
      ]
     },
     "execution_count": 5,
     "metadata": {},
     "output_type": "execute_result"
    }
   ],
   "source": [
    "patient_visits.head() "
   ]
  },
  {
   "cell_type": "code",
   "execution_count": 6,
   "metadata": {
    "execution": {
     "iopub.execute_input": "2024-05-21T15:19:09.288913Z",
     "iopub.status.busy": "2024-05-21T15:19:09.288646Z",
     "iopub.status.idle": "2024-05-21T15:19:09.302180Z",
     "shell.execute_reply": "2024-05-21T15:19:09.301365Z",
     "shell.execute_reply.started": "2024-05-21T15:19:09.288885Z"
    },
    "executionInfo": {
     "elapsed": 24,
     "status": "ok",
     "timestamp": 1716050665058,
     "user": {
      "displayName": "Philip Mwasi",
      "userId": "09091040523095534976"
     },
     "user_tz": -180
    },
    "id": "04088584",
    "outputId": "64b430c9-b72f-455d-dd55-d45a30b1ed99"
   },
   "outputs": [
    {
     "data": {
      "text/html": [
       "<div>\n",
       "<style scoped>\n",
       "    .dataframe tbody tr th:only-of-type {\n",
       "        vertical-align: middle;\n",
       "    }\n",
       "\n",
       "    .dataframe tbody tr th {\n",
       "        vertical-align: top;\n",
       "    }\n",
       "\n",
       "    .dataframe thead th {\n",
       "        text-align: right;\n",
       "    }\n",
       "</style>\n",
       "<table border=\"1\" class=\"dataframe\">\n",
       "  <thead>\n",
       "    <tr style=\"text-align: right;\">\n",
       "      <th></th>\n",
       "      <th>Unnamed: 0</th>\n",
       "      <th>PatientPKHash</th>\n",
       "      <th>SiteCode</th>\n",
       "      <th>OrderedbyDate</th>\n",
       "      <th>TestName</th>\n",
       "      <th>TestResult</th>\n",
       "    </tr>\n",
       "  </thead>\n",
       "  <tbody>\n",
       "    <tr>\n",
       "      <th>0</th>\n",
       "      <td>1</td>\n",
       "      <td>3F11BDE0D8DA0B6D8FFCC20FAA79FF0CA3C188B41459C0...</td>\n",
       "      <td>14027</td>\n",
       "      <td>2022-08-25</td>\n",
       "      <td>Viral Load</td>\n",
       "      <td>0</td>\n",
       "    </tr>\n",
       "    <tr>\n",
       "      <th>1</th>\n",
       "      <td>2</td>\n",
       "      <td>4EE8F1817816ACA31EC31BF3970A707F941A41241319A8...</td>\n",
       "      <td>13076</td>\n",
       "      <td>2023-02-15</td>\n",
       "      <td>Viral Load</td>\n",
       "      <td>87</td>\n",
       "    </tr>\n",
       "    <tr>\n",
       "      <th>2</th>\n",
       "      <td>3</td>\n",
       "      <td>32D913ED2228CC04150FAA7BEC23034183C7147F54A955...</td>\n",
       "      <td>12929</td>\n",
       "      <td>2022-11-19</td>\n",
       "      <td>CHGM</td>\n",
       "      <td>33.5</td>\n",
       "    </tr>\n",
       "    <tr>\n",
       "      <th>3</th>\n",
       "      <td>4</td>\n",
       "      <td>7B73C8E14681A416E4A899B18BFAAEC4F22E31BADFAFA1...</td>\n",
       "      <td>14124</td>\n",
       "      <td>2023-05-16</td>\n",
       "      <td>Viral Load</td>\n",
       "      <td>184</td>\n",
       "    </tr>\n",
       "    <tr>\n",
       "      <th>4</th>\n",
       "      <td>5</td>\n",
       "      <td>B856DD3933C4A89C78CB9AE675F9943C16B9D3DC8ED7DF...</td>\n",
       "      <td>14020</td>\n",
       "      <td>2023-08-24</td>\n",
       "      <td>Viral Load</td>\n",
       "      <td>LDL</td>\n",
       "    </tr>\n",
       "  </tbody>\n",
       "</table>\n",
       "</div>"
      ],
      "text/plain": [
       "   Unnamed: 0                                      PatientPKHash  SiteCode  \\\n",
       "0           1  3F11BDE0D8DA0B6D8FFCC20FAA79FF0CA3C188B41459C0...     14027   \n",
       "1           2  4EE8F1817816ACA31EC31BF3970A707F941A41241319A8...     13076   \n",
       "2           3  32D913ED2228CC04150FAA7BEC23034183C7147F54A955...     12929   \n",
       "3           4  7B73C8E14681A416E4A899B18BFAAEC4F22E31BADFAFA1...     14124   \n",
       "4           5  B856DD3933C4A89C78CB9AE675F9943C16B9D3DC8ED7DF...     14020   \n",
       "\n",
       "  OrderedbyDate    TestName TestResult  \n",
       "0    2022-08-25  Viral Load          0  \n",
       "1    2023-02-15  Viral Load         87  \n",
       "2    2022-11-19        CHGM       33.5  \n",
       "3    2023-05-16  Viral Load        184  \n",
       "4    2023-08-24  Viral Load        LDL  "
      ]
     },
     "execution_count": 6,
     "metadata": {},
     "output_type": "execute_result"
    }
   ],
   "source": [
    "patient_labs.head()  "
   ]
  },
  {
   "cell_type": "code",
   "execution_count": 7,
   "metadata": {
    "execution": {
     "iopub.execute_input": "2024-05-21T15:19:09.303600Z",
     "iopub.status.busy": "2024-05-21T15:19:09.303315Z",
     "iopub.status.idle": "2024-05-21T15:19:09.317460Z",
     "shell.execute_reply": "2024-05-21T15:19:09.316466Z",
     "shell.execute_reply.started": "2024-05-21T15:19:09.303576Z"
    },
    "executionInfo": {
     "elapsed": 22,
     "status": "ok",
     "timestamp": 1716050665058,
     "user": {
      "displayName": "Philip Mwasi",
      "userId": "09091040523095534976"
     },
     "user_tz": -180
    },
    "id": "90a31356",
    "outputId": "92ad171f-4966-45b8-915c-30e80845dc4f"
   },
   "outputs": [
    {
     "data": {
      "text/html": [
       "<div>\n",
       "<style scoped>\n",
       "    .dataframe tbody tr th:only-of-type {\n",
       "        vertical-align: middle;\n",
       "    }\n",
       "\n",
       "    .dataframe tbody tr th {\n",
       "        vertical-align: top;\n",
       "    }\n",
       "\n",
       "    .dataframe thead th {\n",
       "        text-align: right;\n",
       "    }\n",
       "</style>\n",
       "<table border=\"1\" class=\"dataframe\">\n",
       "  <thead>\n",
       "    <tr style=\"text-align: right;\">\n",
       "      <th></th>\n",
       "      <th>Unnamed: 0</th>\n",
       "      <th>PatientPKHash</th>\n",
       "      <th>SiteCode</th>\n",
       "      <th>VisitDate</th>\n",
       "      <th>PHQ_9_rating</th>\n",
       "      <th>DepressionAssesmentScore</th>\n",
       "    </tr>\n",
       "  </thead>\n",
       "  <tbody>\n",
       "    <tr>\n",
       "      <th>0</th>\n",
       "      <td>1</td>\n",
       "      <td>13624525CB0A1E56E39C5DBEA36CA40F75C0DDFBB0719F...</td>\n",
       "      <td>16141</td>\n",
       "      <td>2023-01-05</td>\n",
       "      <td>Depression unlikely</td>\n",
       "      <td>NaN</td>\n",
       "    </tr>\n",
       "    <tr>\n",
       "      <th>1</th>\n",
       "      <td>2</td>\n",
       "      <td>8AE5AEF927CEFEC4DA2D5C598E737464DA531CCF70DB3C...</td>\n",
       "      <td>13705</td>\n",
       "      <td>2022-11-17</td>\n",
       "      <td>Depression unlikely</td>\n",
       "      <td>NaN</td>\n",
       "    </tr>\n",
       "    <tr>\n",
       "      <th>2</th>\n",
       "      <td>3</td>\n",
       "      <td>79A587C5AD7F0876D3F005D5755A3A4FAE841CDFEDEDC7...</td>\n",
       "      <td>19863</td>\n",
       "      <td>2023-10-11</td>\n",
       "      <td>Depression unlikely</td>\n",
       "      <td>NaN</td>\n",
       "    </tr>\n",
       "    <tr>\n",
       "      <th>3</th>\n",
       "      <td>4</td>\n",
       "      <td>7D60135BDE9770841CA447E5602841D7E8C2AE735D2390...</td>\n",
       "      <td>14950</td>\n",
       "      <td>2022-07-04</td>\n",
       "      <td>Depression unlikely</td>\n",
       "      <td>NaN</td>\n",
       "    </tr>\n",
       "    <tr>\n",
       "      <th>4</th>\n",
       "      <td>5</td>\n",
       "      <td>24795814776BF00333ABB04C43C6983153050A63772E52...</td>\n",
       "      <td>13600</td>\n",
       "      <td>2022-09-20</td>\n",
       "      <td>Depression unlikely</td>\n",
       "      <td>NaN</td>\n",
       "    </tr>\n",
       "  </tbody>\n",
       "</table>\n",
       "</div>"
      ],
      "text/plain": [
       "   Unnamed: 0                                      PatientPKHash  SiteCode  \\\n",
       "0           1  13624525CB0A1E56E39C5DBEA36CA40F75C0DDFBB0719F...     16141   \n",
       "1           2  8AE5AEF927CEFEC4DA2D5C598E737464DA531CCF70DB3C...     13705   \n",
       "2           3  79A587C5AD7F0876D3F005D5755A3A4FAE841CDFEDEDC7...     19863   \n",
       "3           4  7D60135BDE9770841CA447E5602841D7E8C2AE735D2390...     14950   \n",
       "4           5  24795814776BF00333ABB04C43C6983153050A63772E52...     13600   \n",
       "\n",
       "    VisitDate         PHQ_9_rating  DepressionAssesmentScore  \n",
       "0  2023-01-05  Depression unlikely                       NaN  \n",
       "1  2022-11-17  Depression unlikely                       NaN  \n",
       "2  2023-10-11  Depression unlikely                       NaN  \n",
       "3  2022-07-04  Depression unlikely                       NaN  \n",
       "4  2022-09-20  Depression unlikely                       NaN  "
      ]
     },
     "execution_count": 7,
     "metadata": {},
     "output_type": "execute_result"
    }
   ],
   "source": [
    "patient_depression_scr.head()"
   ]
  },
  {
   "cell_type": "markdown",
   "metadata": {
    "id": "90d4fef2"
   },
   "source": [
    "###### In merging we use the combination of PatientPK and site code. The combination of both as the unique identifier."
   ]
  },
  {
   "cell_type": "code",
   "execution_count": 8,
   "metadata": {
    "execution": {
     "iopub.execute_input": "2024-05-21T15:19:09.319076Z",
     "iopub.status.busy": "2024-05-21T15:19:09.318803Z",
     "iopub.status.idle": "2024-05-21T15:19:10.454835Z",
     "shell.execute_reply": "2024-05-21T15:19:10.454047Z",
     "shell.execute_reply.started": "2024-05-21T15:19:09.319045Z"
    },
    "executionInfo": {
     "elapsed": 1118,
     "status": "ok",
     "timestamp": 1716050666156,
     "user": {
      "displayName": "Philip Mwasi",
      "userId": "09091040523095534976"
     },
     "user_tz": -180
    },
    "id": "e5f7abeb"
   },
   "outputs": [],
   "source": [
    "# drop the Unnamed column occurring in all the dataframes\n",
    "dataframes = [ct_patients, art_patients, patient_labs, patient_visits, patient_depression_scr]\n",
    "\n",
    "for df in dataframes:\n",
    "    # Check if the column exists\n",
    "    if 'Unnamed: 0' in df.columns:\n",
    "        # Drop the column\n",
    "        df.drop(columns='Unnamed: 0', inplace=True)"
   ]
  },
  {
   "cell_type": "markdown",
   "metadata": {
    "id": "ebc9af60"
   },
   "source": [
    "We have dropped the ```Unnamed``` column from the all the dataframes. Since all the dataframes share the column ```PatientPKHash``` and ```SiteCode```, we will concatenate the two columns to come up with a unique identifier (```Patient_uid```) and then merge them based on this column. In the next section we will now focus on the individual datasets one at a time for further cleaning."
   ]
  },
  {
   "cell_type": "code",
   "execution_count": 9,
   "metadata": {
    "execution": {
     "iopub.execute_input": "2024-05-21T15:19:10.456280Z",
     "iopub.status.busy": "2024-05-21T15:19:10.456003Z",
     "iopub.status.idle": "2024-05-21T15:19:25.050819Z",
     "shell.execute_reply": "2024-05-21T15:19:25.049924Z",
     "shell.execute_reply.started": "2024-05-21T15:19:10.456256Z"
    },
    "executionInfo": {
     "elapsed": 14390,
     "status": "ok",
     "timestamp": 1716050680543,
     "user": {
      "displayName": "Philip Mwasi",
      "userId": "09091040523095534976"
     },
     "user_tz": -180
    },
    "id": "8e377897",
    "outputId": "0b19027d-9b38-42a5-9452-dc937fc493f3"
   },
   "outputs": [
    {
     "data": {
      "text/html": [
       "<div>\n",
       "<style scoped>\n",
       "    .dataframe tbody tr th:only-of-type {\n",
       "        vertical-align: middle;\n",
       "    }\n",
       "\n",
       "    .dataframe tbody tr th {\n",
       "        vertical-align: top;\n",
       "    }\n",
       "\n",
       "    .dataframe thead th {\n",
       "        text-align: right;\n",
       "    }\n",
       "</style>\n",
       "<table border=\"1\" class=\"dataframe\">\n",
       "  <thead>\n",
       "    <tr style=\"text-align: right;\">\n",
       "      <th></th>\n",
       "      <th>Patient_uid</th>\n",
       "      <th>SiteCode</th>\n",
       "      <th>Adherence</th>\n",
       "      <th>VisitDate</th>\n",
       "      <th>AdherenceCategory</th>\n",
       "      <th>NextAppointmentDate</th>\n",
       "    </tr>\n",
       "  </thead>\n",
       "  <tbody>\n",
       "    <tr>\n",
       "      <th>0</th>\n",
       "      <td>F099AA757FCAF0709211D33D7E2FA4CE9A23652C13CAB4...</td>\n",
       "      <td>15204</td>\n",
       "      <td>GOOD</td>\n",
       "      <td>2022-07-04</td>\n",
       "      <td>GOOD</td>\n",
       "      <td>2022-11-01</td>\n",
       "    </tr>\n",
       "    <tr>\n",
       "      <th>1</th>\n",
       "      <td>3D5061D636B5B454C739195AA7B28692AAECAA098D3E29...</td>\n",
       "      <td>15204</td>\n",
       "      <td>GOOD</td>\n",
       "      <td>2023-05-19</td>\n",
       "      <td>GOOD</td>\n",
       "      <td>2023-08-17</td>\n",
       "    </tr>\n",
       "    <tr>\n",
       "      <th>2</th>\n",
       "      <td>7BDF500F749AB18900F48C8A30B03EA880AFEBD5F5B176...</td>\n",
       "      <td>15204</td>\n",
       "      <td>GOOD</td>\n",
       "      <td>2023-01-13</td>\n",
       "      <td>GOOD</td>\n",
       "      <td>2023-02-13</td>\n",
       "    </tr>\n",
       "    <tr>\n",
       "      <th>3</th>\n",
       "      <td>30D8984113ECA227531EC4770A7A4A5929C97FF21A0EFF...</td>\n",
       "      <td>15204</td>\n",
       "      <td>GOOD</td>\n",
       "      <td>2023-01-13</td>\n",
       "      <td>GOOD</td>\n",
       "      <td>2023-05-02</td>\n",
       "    </tr>\n",
       "    <tr>\n",
       "      <th>4</th>\n",
       "      <td>BB453C54C31C091099809613E80D74EDE582D89FCF9376...</td>\n",
       "      <td>15204</td>\n",
       "      <td>GOOD</td>\n",
       "      <td>2023-12-11</td>\n",
       "      <td>GOOD</td>\n",
       "      <td>2024-03-11</td>\n",
       "    </tr>\n",
       "  </tbody>\n",
       "</table>\n",
       "</div>"
      ],
      "text/plain": [
       "                                         Patient_uid  SiteCode Adherence  \\\n",
       "0  F099AA757FCAF0709211D33D7E2FA4CE9A23652C13CAB4...     15204      GOOD   \n",
       "1  3D5061D636B5B454C739195AA7B28692AAECAA098D3E29...     15204      GOOD   \n",
       "2  7BDF500F749AB18900F48C8A30B03EA880AFEBD5F5B176...     15204      GOOD   \n",
       "3  30D8984113ECA227531EC4770A7A4A5929C97FF21A0EFF...     15204      GOOD   \n",
       "4  BB453C54C31C091099809613E80D74EDE582D89FCF9376...     15204      GOOD   \n",
       "\n",
       "    VisitDate AdherenceCategory NextAppointmentDate  \n",
       "0  2022-07-04              GOOD          2022-11-01  \n",
       "1  2023-05-19              GOOD          2023-08-17  \n",
       "2  2023-01-13              GOOD          2023-02-13  \n",
       "3  2023-01-13              GOOD          2023-05-02  \n",
       "4  2023-12-11              GOOD          2024-03-11  "
      ]
     },
     "execution_count": 9,
     "metadata": {},
     "output_type": "execute_result"
    }
   ],
   "source": [
    "'''\n",
    "Concatenate the PatientPKHash and  the SiteCode to form a\n",
    "unique patient identifier for each patient-facility combination.\n",
    "This is done for all the imported datasets for uniformity\n",
    "'''\n",
    "\n",
    "for df in dataframes:\n",
    "    # Concatenate the first two columns to form a new column called Patient_uid\n",
    "    # make the new column appear as the first one\n",
    "    df.insert(0, 'Patient_uid', df['PatientPKHash'] + df['SiteCode'].astype(str))\n",
    "\n",
    "    # Drop PatientPKHash column\n",
    "    df.drop(columns=['PatientPKHash'], inplace=True)\n",
    "\n",
    "# Confirming the changes\n",
    "patient_visits.head()"
   ]
  },
  {
   "cell_type": "code",
   "execution_count": 10,
   "metadata": {
    "execution": {
     "iopub.execute_input": "2024-05-21T15:19:25.052366Z",
     "iopub.status.busy": "2024-05-21T15:19:25.052049Z",
     "iopub.status.idle": "2024-05-21T15:19:26.263530Z",
     "shell.execute_reply": "2024-05-21T15:19:26.262529Z",
     "shell.execute_reply.started": "2024-05-21T15:19:25.052340Z"
    },
    "executionInfo": {
     "elapsed": 1128,
     "status": "ok",
     "timestamp": 1716050681667,
     "user": {
      "displayName": "Philip Mwasi",
      "userId": "09091040523095534976"
     },
     "user_tz": -180
    },
    "id": "423eaa35"
   },
   "outputs": [],
   "source": [
    "# Drop the SiteCode column from all the datasets except from the ct_patients dataset\n",
    "\n",
    "# update the list of dataframes\n",
    "dataframes = [art_patients, patient_labs, patient_visits, patient_depression_scr]\n",
    "\n",
    "for df in dataframes:\n",
    "    df.drop(columns = ['SiteCode'], inplace = True)\n"
   ]
  },
  {
   "cell_type": "markdown",
   "metadata": {
    "id": "99b5ac28"
   },
   "source": [
    "#### 1. ct_patients"
   ]
  },
  {
   "cell_type": "code",
   "execution_count": 11,
   "metadata": {
    "execution": {
     "iopub.execute_input": "2024-05-21T15:19:26.268148Z",
     "iopub.status.busy": "2024-05-21T15:19:26.267806Z",
     "iopub.status.idle": "2024-05-21T15:19:26.694438Z",
     "shell.execute_reply": "2024-05-21T15:19:26.693547Z",
     "shell.execute_reply.started": "2024-05-21T15:19:26.268124Z"
    },
    "executionInfo": {
     "elapsed": 12,
     "status": "ok",
     "timestamp": 1716050681668,
     "user": {
      "displayName": "Philip Mwasi",
      "userId": "09091040523095534976"
     },
     "user_tz": -180
    },
    "id": "fd29946e",
    "outputId": "ee21adba-52be-4d8a-afce-382a6caec876"
   },
   "outputs": [
    {
     "name": "stdout",
     "output_type": "stream",
     "text": [
      "<class 'pandas.core.frame.DataFrame'>\n",
      "RangeIndex: 601947 entries, 0 to 601946\n",
      "Data columns (total 9 columns):\n",
      " #   Column          Non-Null Count   Dtype \n",
      "---  ------          --------------   ----- \n",
      " 0   Patient_uid     601947 non-null  object\n",
      " 1   SiteCode        601947 non-null  int64 \n",
      " 2   FacilityName    601809 non-null  object\n",
      " 3   Region          600059 non-null  object\n",
      " 4   Gender          601947 non-null  object\n",
      " 5   LastVisit       601947 non-null  object\n",
      " 6   EducationLevel  362452 non-null  object\n",
      " 7   Occupation      315047 non-null  object\n",
      " 8   MaritalStatus   518036 non-null  object\n",
      "dtypes: int64(1), object(8)\n",
      "memory usage: 41.3+ MB\n"
     ]
    }
   ],
   "source": [
    "ct_patients.info()"
   ]
  },
  {
   "cell_type": "code",
   "execution_count": 12,
   "metadata": {
    "execution": {
     "iopub.execute_input": "2024-05-21T15:19:26.696101Z",
     "iopub.status.busy": "2024-05-21T15:19:26.695674Z",
     "iopub.status.idle": "2024-05-21T15:19:27.039608Z",
     "shell.execute_reply": "2024-05-21T15:19:27.038678Z",
     "shell.execute_reply.started": "2024-05-21T15:19:26.696067Z"
    },
    "executionInfo": {
     "elapsed": 561,
     "status": "ok",
     "timestamp": 1716050682223,
     "user": {
      "displayName": "Philip Mwasi",
      "userId": "09091040523095534976"
     },
     "user_tz": -180
    },
    "id": "4f42605e",
    "outputId": "f17b8151-979f-4807-c7f4-f6ab5367aa8c"
   },
   "outputs": [
    {
     "data": {
      "text/plain": [
       "601947"
      ]
     },
     "execution_count": 12,
     "metadata": {},
     "output_type": "execute_result"
    }
   ],
   "source": [
    "ct_patients['Patient_uid'].nunique() # Checking the number of unique patients contained in the dataset."
   ]
  },
  {
   "cell_type": "markdown",
   "metadata": {},
   "source": [
    "The data cleaning phase started with 601947 patients under care treatment as indicated in the output of the cell above."
   ]
  },
  {
   "cell_type": "code",
   "execution_count": 13,
   "metadata": {
    "execution": {
     "iopub.execute_input": "2024-05-21T15:19:27.041104Z",
     "iopub.status.busy": "2024-05-21T15:19:27.040816Z",
     "iopub.status.idle": "2024-05-21T15:19:27.464595Z",
     "shell.execute_reply": "2024-05-21T15:19:27.463694Z",
     "shell.execute_reply.started": "2024-05-21T15:19:27.041078Z"
    },
    "executionInfo": {
     "elapsed": 17,
     "status": "ok",
     "timestamp": 1716050682224,
     "user": {
      "displayName": "Philip Mwasi",
      "userId": "09091040523095534976"
     },
     "user_tz": -180
    },
    "id": "9f26142d",
    "outputId": "af451b8f-6867-44db-e78c-b361e31e1eb5"
   },
   "outputs": [
    {
     "data": {
      "text/plain": [
       "Patient_uid            0\n",
       "SiteCode               0\n",
       "FacilityName         138\n",
       "Region              1888\n",
       "Gender                 0\n",
       "LastVisit              0\n",
       "EducationLevel    239495\n",
       "Occupation        286900\n",
       "MaritalStatus      83911\n",
       "dtype: int64"
      ]
     },
     "execution_count": 13,
     "metadata": {},
     "output_type": "execute_result"
    }
   ],
   "source": [
    "# Checking for the proportion of null values in the features of the dataset.\n",
    "ct_patients.isna().sum()"
   ]
  },
  {
   "cell_type": "markdown",
   "metadata": {
    "id": "4c1c2c05"
   },
   "source": [
    "From the results, ```EducationLevel``` and ```Occupation``` columns have the highest number of missing values but since they are relevant to our analysis, we will fill the null values in these columns with ```Unknown```\n"
   ]
  },
  {
   "cell_type": "code",
   "execution_count": 14,
   "metadata": {
    "execution": {
     "iopub.execute_input": "2024-05-21T15:19:27.466177Z",
     "iopub.status.busy": "2024-05-21T15:19:27.465918Z",
     "iopub.status.idle": "2024-05-21T15:19:28.600875Z",
     "shell.execute_reply": "2024-05-21T15:19:28.599975Z",
     "shell.execute_reply.started": "2024-05-21T15:19:27.466154Z"
    },
    "executionInfo": {
     "elapsed": 465,
     "status": "ok",
     "timestamp": 1716050682678,
     "user": {
      "displayName": "Philip Mwasi",
      "userId": "09091040523095534976"
     },
     "user_tz": -180
    },
    "id": "426a87aa",
    "outputId": "cf50dfd2-c2fa-4b2c-ff76-1ef04bdb6e32",
    "scrolled": true
   },
   "outputs": [
    {
     "data": {
      "text/html": [
       "<div>\n",
       "<style scoped>\n",
       "    .dataframe tbody tr th:only-of-type {\n",
       "        vertical-align: middle;\n",
       "    }\n",
       "\n",
       "    .dataframe tbody tr th {\n",
       "        vertical-align: top;\n",
       "    }\n",
       "\n",
       "    .dataframe thead th {\n",
       "        text-align: right;\n",
       "    }\n",
       "</style>\n",
       "<table border=\"1\" class=\"dataframe\">\n",
       "  <thead>\n",
       "    <tr style=\"text-align: right;\">\n",
       "      <th></th>\n",
       "      <th>Patient_uid</th>\n",
       "      <th>SiteCode</th>\n",
       "      <th>FacilityName</th>\n",
       "      <th>Region</th>\n",
       "      <th>Gender</th>\n",
       "      <th>LastVisit</th>\n",
       "      <th>EducationLevel</th>\n",
       "      <th>Occupation</th>\n",
       "      <th>MaritalStatus</th>\n",
       "    </tr>\n",
       "  </thead>\n",
       "  <tbody>\n",
       "    <tr>\n",
       "      <th>0</th>\n",
       "      <td>78F96823AC7AD6E060E8D69DF686760669A4CCFD34EE70...</td>\n",
       "      <td>16800</td>\n",
       "      <td>Lea Toto Clinic (Westlands)</td>\n",
       "      <td>Nairobi</td>\n",
       "      <td>Female</td>\n",
       "      <td>2022-01-19</td>\n",
       "      <td>Unknown</td>\n",
       "      <td>OTHER</td>\n",
       "      <td>Unknown</td>\n",
       "    </tr>\n",
       "    <tr>\n",
       "      <th>1</th>\n",
       "      <td>FE9A28A6208798FCA425FB02E28B30ACF4DAAAD5E7D2F3...</td>\n",
       "      <td>18828</td>\n",
       "      <td>Lea Toto Zimmerman</td>\n",
       "      <td>Nairobi</td>\n",
       "      <td>Female</td>\n",
       "      <td>2022-01-10</td>\n",
       "      <td>Unknown</td>\n",
       "      <td>OTHER</td>\n",
       "      <td>Unknown</td>\n",
       "    </tr>\n",
       "    <tr>\n",
       "      <th>2</th>\n",
       "      <td>A38CB015A0BA15BAC709E502AD9A68632EF7D63C45575F...</td>\n",
       "      <td>12965</td>\n",
       "      <td>Guru Nanak Hospital</td>\n",
       "      <td>Nairobi</td>\n",
       "      <td>Female</td>\n",
       "      <td>2023-11-08</td>\n",
       "      <td>Unknown</td>\n",
       "      <td>OTHER</td>\n",
       "      <td>Single</td>\n",
       "    </tr>\n",
       "    <tr>\n",
       "      <th>3</th>\n",
       "      <td>DC628EEC29CD06711202042DB171BB4053CFB1B7D3C57C...</td>\n",
       "      <td>12965</td>\n",
       "      <td>Guru Nanak Hospital</td>\n",
       "      <td>Nairobi</td>\n",
       "      <td>Female</td>\n",
       "      <td>2023-12-07</td>\n",
       "      <td>Unknown</td>\n",
       "      <td>OTHER</td>\n",
       "      <td>Single</td>\n",
       "    </tr>\n",
       "    <tr>\n",
       "      <th>4</th>\n",
       "      <td>7B9AFEBB3092D6229690F152A77507B931EB4AA1A7E4D1...</td>\n",
       "      <td>18828</td>\n",
       "      <td>Lea Toto Zimmerman</td>\n",
       "      <td>Nairobi</td>\n",
       "      <td>Female</td>\n",
       "      <td>2022-01-13</td>\n",
       "      <td>Unknown</td>\n",
       "      <td>OTHER</td>\n",
       "      <td>Unknown</td>\n",
       "    </tr>\n",
       "  </tbody>\n",
       "</table>\n",
       "</div>"
      ],
      "text/plain": [
       "                                         Patient_uid  SiteCode  \\\n",
       "0  78F96823AC7AD6E060E8D69DF686760669A4CCFD34EE70...     16800   \n",
       "1  FE9A28A6208798FCA425FB02E28B30ACF4DAAAD5E7D2F3...     18828   \n",
       "2  A38CB015A0BA15BAC709E502AD9A68632EF7D63C45575F...     12965   \n",
       "3  DC628EEC29CD06711202042DB171BB4053CFB1B7D3C57C...     12965   \n",
       "4  7B9AFEBB3092D6229690F152A77507B931EB4AA1A7E4D1...     18828   \n",
       "\n",
       "                  FacilityName   Region  Gender  LastVisit EducationLevel  \\\n",
       "0  Lea Toto Clinic (Westlands)  Nairobi  Female 2022-01-19        Unknown   \n",
       "1           Lea Toto Zimmerman  Nairobi  Female 2022-01-10        Unknown   \n",
       "2          Guru Nanak Hospital  Nairobi  Female 2023-11-08        Unknown   \n",
       "3          Guru Nanak Hospital  Nairobi  Female 2023-12-07        Unknown   \n",
       "4           Lea Toto Zimmerman  Nairobi  Female 2022-01-13        Unknown   \n",
       "\n",
       "  Occupation MaritalStatus  \n",
       "0      OTHER       Unknown  \n",
       "1      OTHER       Unknown  \n",
       "2      OTHER        Single  \n",
       "3      OTHER        Single  \n",
       "4      OTHER       Unknown  "
      ]
     },
     "execution_count": 14,
     "metadata": {},
     "output_type": "execute_result"
    }
   ],
   "source": [
    "# Convert LastVisit column to datetime data type\n",
    "ct_patients['LastVisit'] = pd.to_datetime(ct_patients['LastVisit'])\n",
    "\n",
    "# Fill NaN values in 'Occupation' with 'OTHER'\n",
    "ct_patients['Occupation'].fillna('OTHER', inplace=True)\n",
    "\n",
    "# Fill NaN values in 'EducationLevel', 'Region', and 'MaritalStatus' with 'Unknown'\n",
    "ct_patients['EducationLevel'].fillna('Unknown', inplace=True)\n",
    "ct_patients['Region'].fillna('Unknown', inplace=True)\n",
    "ct_patients['MaritalStatus'].fillna('Unknown', inplace=True)\n",
    "ct_patients['FacilityName'].fillna('Missing', inplace=True)\n",
    "\n",
    "# Drop any duplicated rows\n",
    "ct_patients.drop_duplicates(inplace = True)\n",
    "\n",
    "# view the cleaned dataset\n",
    "ct_patients.head()"
   ]
  },
  {
   "cell_type": "markdown",
   "metadata": {
    "id": "jQAMb7X5Pwdv"
   },
   "source": [
    "In the imputation of the NaN values, the missing values in the columns EducationLevel, Region and MaritalStatus are unknown and fill them with ```Unknown```, since some patients prefer not to disclose this information.\n",
    "\n",
    "However in the Occupation column we fill it with ```OTHER``` because they most certainly have a source of livelihood whether formal or informal. The FacilityName column is accounted for by the SiteCode featuring in the Patient_uid and thus we filled the NaN values with ```'Missing'```.\n",
    "\n",
    "In this analysis and henceforth, we are going to focus on the patients in the ct_patients dataset ie. this dataset is going to be denominator for all the analysis conducted in this notebook."
   ]
  },
  {
   "cell_type": "code",
   "execution_count": 15,
   "metadata": {
    "execution": {
     "iopub.execute_input": "2024-05-21T15:19:28.602122Z",
     "iopub.status.busy": "2024-05-21T15:19:28.601845Z",
     "iopub.status.idle": "2024-05-21T15:19:39.623293Z",
     "shell.execute_reply": "2024-05-21T15:19:39.622348Z",
     "shell.execute_reply.started": "2024-05-21T15:19:28.602099Z"
    },
    "executionInfo": {
     "elapsed": 7495,
     "status": "ok",
     "timestamp": 1716050690164,
     "user": {
      "displayName": "Philip Mwasi",
      "userId": "09091040523095534976"
     },
     "user_tz": -180
    },
    "id": "zPCDsUtCX65w"
   },
   "outputs": [
    {
     "name": "stdout",
     "output_type": "stream",
     "text": [
      "art_patients unique Patient_uid count:           596972\n",
      "patient_labs unique Patient_uid count:           481676\n",
      "patient_visits unique Patient_uid count:         596737\n",
      "patient_depression_scr unique Patient_uid count: 244150\n",
      "ct_patients unique Patient_uid count:            601947\n"
     ]
    }
   ],
   "source": [
    "# List of DataFrames to be filtered\n",
    "dataframes = [art_patients, patient_labs, patient_visits, patient_depression_scr]\n",
    "\n",
    "# Reference DataFrame (ct_patients) with Patient_uid\n",
    "ct_patients_uid = ct_patients['Patient_uid']\n",
    "\n",
    "# Filter each DataFrame in the list and reassign the filtered DataFrame back to the list\n",
    "for i in range(len(dataframes)):\n",
    "    dataframes[i] = dataframes[i][dataframes[i]['Patient_uid'].isin(ct_patients_uid)]\n",
    "\n",
    "# Assign filtered DataFrames back to their original variables if needed\n",
    "art_patients, patient_labs, patient_visits, patient_depression_scr = dataframes\n",
    "\n",
    "# Confirm changes by checking the unique Patient_uid counts in each DataFrame\n",
    "print(\"art_patients unique Patient_uid count:          \", art_patients['Patient_uid'].nunique())\n",
    "print(\"patient_labs unique Patient_uid count:          \", patient_labs['Patient_uid'].nunique())\n",
    "print(\"patient_visits unique Patient_uid count:        \", patient_visits['Patient_uid'].nunique())\n",
    "print(\"patient_depression_scr unique Patient_uid count:\", patient_depression_scr['Patient_uid'].nunique())\n",
    "print(\"ct_patients unique Patient_uid count:           \", ct_patients_uid.nunique())\n"
   ]
  },
  {
   "cell_type": "markdown",
   "metadata": {},
   "source": [
    "From the filtered datasets, the patient_depression screening dataset has the lowest count (244150) of patients under care treatment because the data on this variable started being collected recently; according to the data warehouse."
   ]
  },
  {
   "cell_type": "markdown",
   "metadata": {
    "id": "733802c2"
   },
   "source": [
    "#### 2. art_patients"
   ]
  },
  {
   "cell_type": "code",
   "execution_count": 16,
   "metadata": {
    "execution": {
     "iopub.execute_input": "2024-05-21T15:19:39.625018Z",
     "iopub.status.busy": "2024-05-21T15:19:39.624667Z",
     "iopub.status.idle": "2024-05-21T15:19:39.907195Z",
     "shell.execute_reply": "2024-05-21T15:19:39.906132Z",
     "shell.execute_reply.started": "2024-05-21T15:19:39.624985Z"
    },
    "executionInfo": {
     "elapsed": 25,
     "status": "ok",
     "timestamp": 1716050690165,
     "user": {
      "displayName": "Philip Mwasi",
      "userId": "09091040523095534976"
     },
     "user_tz": -180
    },
    "id": "08dcb688",
    "outputId": "7190fcf5-4641-46ef-d7f2-87a1797d1b8a"
   },
   "outputs": [
    {
     "name": "stdout",
     "output_type": "stream",
     "text": [
      "<class 'pandas.core.frame.DataFrame'>\n",
      "Index: 596972 entries, 2 to 2416658\n",
      "Data columns (total 8 columns):\n",
      " #   Column         Non-Null Count   Dtype  \n",
      "---  ------         --------------   -----  \n",
      " 0   Patient_uid    596972 non-null  object \n",
      " 1   ExitReason     149725 non-null  object \n",
      " 2   AgeEnrollment  585745 non-null  float64\n",
      " 3   StartARTDate   594569 non-null  object \n",
      " 4   AgeLastVisit   584942 non-null  float64\n",
      " 5   AgeARTStart    585744 non-null  float64\n",
      " 6   StartRegimen   587368 non-null  object \n",
      " 7   LastRegimen    594646 non-null  object \n",
      "dtypes: float64(3), object(5)\n",
      "memory usage: 41.0+ MB\n"
     ]
    }
   ],
   "source": [
    "art_patients.info()"
   ]
  },
  {
   "cell_type": "code",
   "execution_count": 17,
   "metadata": {
    "execution": {
     "iopub.execute_input": "2024-05-21T15:19:39.909091Z",
     "iopub.status.busy": "2024-05-21T15:19:39.908788Z",
     "iopub.status.idle": "2024-05-21T15:19:40.185909Z",
     "shell.execute_reply": "2024-05-21T15:19:40.185039Z",
     "shell.execute_reply.started": "2024-05-21T15:19:39.909064Z"
    },
    "executionInfo": {
     "elapsed": 539,
     "status": "ok",
     "timestamp": 1716050690681,
     "user": {
      "displayName": "Philip Mwasi",
      "userId": "09091040523095534976"
     },
     "user_tz": -180
    },
    "id": "aae39c06",
    "outputId": "471f9288-d5c6-4ca0-dd8d-d43c7bb44762"
   },
   "outputs": [
    {
     "name": "stdout",
     "output_type": "stream",
     "text": [
      "Patient_uid           0\n",
      "ExitReason       447247\n",
      "AgeEnrollment     11227\n",
      "StartARTDate       2403\n",
      "AgeLastVisit      12030\n",
      "AgeARTStart       11228\n",
      "StartRegimen       9604\n",
      "LastRegimen        2326\n",
      "dtype: int64\n"
     ]
    }
   ],
   "source": [
    "# Check for the na values in the dataframe\n",
    "print(art_patients.isna().sum())"
   ]
  },
  {
   "cell_type": "code",
   "execution_count": 18,
   "metadata": {
    "execution": {
     "iopub.execute_input": "2024-05-21T15:19:40.187732Z",
     "iopub.status.busy": "2024-05-21T15:19:40.187357Z",
     "iopub.status.idle": "2024-05-21T15:19:40.223742Z",
     "shell.execute_reply": "2024-05-21T15:19:40.222809Z",
     "shell.execute_reply.started": "2024-05-21T15:19:40.187696Z"
    },
    "executionInfo": {
     "elapsed": 6,
     "status": "ok",
     "timestamp": 1716050690681,
     "user": {
      "displayName": "Philip Mwasi",
      "userId": "09091040523095534976"
     },
     "user_tz": -180
    },
    "id": "7684607f",
    "outputId": "a7218ce5-7aa6-435d-fd58-1b54220810b5"
   },
   "outputs": [
    {
     "name": "stdout",
     "output_type": "stream",
     "text": [
      "The ExitReason column is missing 74.9192591947361 % of the datapoints\n"
     ]
    }
   ],
   "source": [
    "print(f\"The ExitReason column is missing {art_patients['ExitReason'].isna().sum() * 100/len(art_patients)} % of the datapoints\")"
   ]
  },
  {
   "cell_type": "markdown",
   "metadata": {
    "id": "2c2316af"
   },
   "source": [
    "Since we are missing 75% of the ExitReason data, we will drop the column.Other variables that are not relevant to modelling will be consequently dropped off at this point to make processing the data easier.In addition, the ExitReason will be dealt with in the Visits dataset.\n",
    "\n",
    "To minimize data loss, we are going to assume the missing values in the Regimen columns as unknown since they were not filled in during data collection."
   ]
  },
  {
   "cell_type": "code",
   "execution_count": 19,
   "metadata": {
    "execution": {
     "iopub.execute_input": "2024-05-21T15:19:40.225159Z",
     "iopub.status.busy": "2024-05-21T15:19:40.224901Z",
     "iopub.status.idle": "2024-05-21T15:19:40.591817Z",
     "shell.execute_reply": "2024-05-21T15:19:40.590826Z",
     "shell.execute_reply.started": "2024-05-21T15:19:40.225137Z"
    },
    "executionInfo": {
     "elapsed": 1171,
     "status": "ok",
     "timestamp": 1716050691849,
     "user": {
      "displayName": "Philip Mwasi",
      "userId": "09091040523095534976"
     },
     "user_tz": -180
    },
    "id": "05056369",
    "outputId": "5a9d50ec-aeab-4311-85a1-2d4158cc25bf"
   },
   "outputs": [
    {
     "name": "stdout",
     "output_type": "stream",
     "text": [
      "<class 'pandas.core.frame.DataFrame'>\n",
      "Index: 596972 entries, 2 to 2416658\n",
      "Data columns (total 5 columns):\n",
      " #   Column        Non-Null Count   Dtype  \n",
      "---  ------        --------------   -----  \n",
      " 0   Patient_uid   596972 non-null  object \n",
      " 1   AgeLastVisit  584942 non-null  float64\n",
      " 2   AgeARTStart   585744 non-null  float64\n",
      " 3   StartRegimen  596972 non-null  object \n",
      " 4   LastRegimen   596972 non-null  object \n",
      "dtypes: float64(2), object(3)\n",
      "memory usage: 27.3+ MB\n"
     ]
    }
   ],
   "source": [
    "# drop the ExitReason column\n",
    "art_patients.drop(columns = ['ExitReason', 'StartARTDate', 'AgeEnrollment'], inplace=True)\n",
    "\n",
    "# Fill missing values in the 'StartRegimen' and 'LastRegimen' columns with 'unknown'\n",
    "art_patients['StartRegimen'].fillna('unknown', inplace=True)\n",
    "art_patients['LastRegimen'].fillna('unknown', inplace=True)\n",
    "\n",
    "# Confirm changes\n",
    "art_patients.info()"
   ]
  },
  {
   "cell_type": "code",
   "execution_count": 20,
   "metadata": {
    "execution": {
     "iopub.execute_input": "2024-05-21T15:19:40.593273Z",
     "iopub.status.busy": "2024-05-21T15:19:40.592959Z",
     "iopub.status.idle": "2024-05-21T15:19:42.649058Z",
     "shell.execute_reply": "2024-05-21T15:19:42.648183Z",
     "shell.execute_reply.started": "2024-05-21T15:19:40.593248Z"
    },
    "executionInfo": {
     "elapsed": 2096,
     "status": "ok",
     "timestamp": 1716050693937,
     "user": {
      "displayName": "Philip Mwasi",
      "userId": "09091040523095534976"
     },
     "user_tz": -180
    },
    "id": "dea13396",
    "outputId": "4418e5b8-1c3e-4e3f-9cb2-9c39540a089a"
   },
   "outputs": [
    {
     "data": {
      "text/html": [
       "<div>\n",
       "<style scoped>\n",
       "    .dataframe tbody tr th:only-of-type {\n",
       "        vertical-align: middle;\n",
       "    }\n",
       "\n",
       "    .dataframe tbody tr th {\n",
       "        vertical-align: top;\n",
       "    }\n",
       "\n",
       "    .dataframe thead th {\n",
       "        text-align: right;\n",
       "    }\n",
       "</style>\n",
       "<table border=\"1\" class=\"dataframe\">\n",
       "  <thead>\n",
       "    <tr style=\"text-align: right;\">\n",
       "      <th></th>\n",
       "      <th>Patient_uid</th>\n",
       "      <th>AgeLastVisit</th>\n",
       "      <th>AgeARTStart</th>\n",
       "      <th>StartRegimen</th>\n",
       "      <th>LastRegimen</th>\n",
       "    </tr>\n",
       "  </thead>\n",
       "  <tbody>\n",
       "    <tr>\n",
       "      <th>0</th>\n",
       "      <td>000114516EC31395403FA7C4CC5E7FE8EC7E10D0EC457F...</td>\n",
       "      <td>52.0</td>\n",
       "      <td>47.0</td>\n",
       "      <td>3TC+EFV+TDF</td>\n",
       "      <td>3TC+DTG+TDF</td>\n",
       "    </tr>\n",
       "    <tr>\n",
       "      <th>1</th>\n",
       "      <td>00024CAFCC9014E3F0A15887E2467B31037C5741B4E049...</td>\n",
       "      <td>28.0</td>\n",
       "      <td>24.0</td>\n",
       "      <td>3TC+DTG+TDF</td>\n",
       "      <td>3TC+DTG+TDF</td>\n",
       "    </tr>\n",
       "    <tr>\n",
       "      <th>2</th>\n",
       "      <td>00024CAFCC9014E3F0A15887E2467B31037C5741B4E049...</td>\n",
       "      <td>65.0</td>\n",
       "      <td>58.0</td>\n",
       "      <td>3TC+AZT+NVP</td>\n",
       "      <td>3TC+DTG+TDF</td>\n",
       "    </tr>\n",
       "    <tr>\n",
       "      <th>3</th>\n",
       "      <td>00024CAFCC9014E3F0A15887E2467B31037C5741B4E049...</td>\n",
       "      <td>59.0</td>\n",
       "      <td>55.0</td>\n",
       "      <td>3TC+DTG+TDF</td>\n",
       "      <td>3TC+DTG+TDF</td>\n",
       "    </tr>\n",
       "    <tr>\n",
       "      <th>4</th>\n",
       "      <td>00063D813081C740CA5AE358FCCD0A599DCDF651D3281A...</td>\n",
       "      <td>34.0</td>\n",
       "      <td>21.0</td>\n",
       "      <td>3TC+EFV+TDF</td>\n",
       "      <td>3TC+DTG+TDF</td>\n",
       "    </tr>\n",
       "  </tbody>\n",
       "</table>\n",
       "</div>"
      ],
      "text/plain": [
       "                                         Patient_uid  AgeLastVisit  \\\n",
       "0  000114516EC31395403FA7C4CC5E7FE8EC7E10D0EC457F...          52.0   \n",
       "1  00024CAFCC9014E3F0A15887E2467B31037C5741B4E049...          28.0   \n",
       "2  00024CAFCC9014E3F0A15887E2467B31037C5741B4E049...          65.0   \n",
       "3  00024CAFCC9014E3F0A15887E2467B31037C5741B4E049...          59.0   \n",
       "4  00063D813081C740CA5AE358FCCD0A599DCDF651D3281A...          34.0   \n",
       "\n",
       "   AgeARTStart StartRegimen  LastRegimen  \n",
       "0         47.0  3TC+EFV+TDF  3TC+DTG+TDF  \n",
       "1         24.0  3TC+DTG+TDF  3TC+DTG+TDF  \n",
       "2         58.0  3TC+AZT+NVP  3TC+DTG+TDF  \n",
       "3         55.0  3TC+DTG+TDF  3TC+DTG+TDF  \n",
       "4         21.0  3TC+EFV+TDF  3TC+DTG+TDF  "
      ]
     },
     "execution_count": 20,
     "metadata": {},
     "output_type": "execute_result"
    }
   ],
   "source": [
    "# Group by 'Patient_uid', select the last record in each group, reset the index, and view the head of the result\n",
    "clean_art_patients = art_patients.groupby('Patient_uid').last().reset_index()\n",
    "\n",
    "# View the first few rows of the resulting DataFrame\n",
    "clean_art_patients.head()\n"
   ]
  },
  {
   "cell_type": "markdown",
   "metadata": {},
   "source": [
    "For the patients whose ```AgeLastVisit``` is missing, it will be computed later after merging the datasets."
   ]
  },
  {
   "cell_type": "markdown",
   "metadata": {
    "id": "f10f0fbf"
   },
   "source": [
    "#### 3. patient_visits"
   ]
  },
  {
   "cell_type": "code",
   "execution_count": 21,
   "metadata": {
    "execution": {
     "iopub.execute_input": "2024-05-21T15:19:42.650415Z",
     "iopub.status.busy": "2024-05-21T15:19:42.650144Z",
     "iopub.status.idle": "2024-05-21T15:19:42.658854Z",
     "shell.execute_reply": "2024-05-21T15:19:42.657813Z",
     "shell.execute_reply.started": "2024-05-21T15:19:42.650391Z"
    },
    "executionInfo": {
     "elapsed": 10,
     "status": "ok",
     "timestamp": 1716050693937,
     "user": {
      "displayName": "Philip Mwasi",
      "userId": "09091040523095534976"
     },
     "user_tz": -180
    },
    "id": "cbffe7a6",
    "outputId": "73400c7b-3695-4ad4-a5f9-fba709b73ac6"
   },
   "outputs": [
    {
     "name": "stdout",
     "output_type": "stream",
     "text": [
      "<class 'pandas.core.frame.DataFrame'>\n",
      "Index: 3722876 entries, 0 to 10784629\n",
      "Data columns (total 5 columns):\n",
      " #   Column               Dtype \n",
      "---  ------               ----- \n",
      " 0   Patient_uid          object\n",
      " 1   Adherence            object\n",
      " 2   VisitDate            object\n",
      " 3   AdherenceCategory    object\n",
      " 4   NextAppointmentDate  object\n",
      "dtypes: object(5)\n",
      "memory usage: 170.4+ MB\n"
     ]
    }
   ],
   "source": [
    "# Viewing the information about the visits dataset\n",
    "patient_visits.info()"
   ]
  },
  {
   "cell_type": "code",
   "execution_count": 22,
   "metadata": {
    "execution": {
     "iopub.execute_input": "2024-05-21T15:19:42.660499Z",
     "iopub.status.busy": "2024-05-21T15:19:42.660180Z",
     "iopub.status.idle": "2024-05-21T15:19:44.021880Z",
     "shell.execute_reply": "2024-05-21T15:19:44.020994Z",
     "shell.execute_reply.started": "2024-05-21T15:19:42.660452Z"
    },
    "executionInfo": {
     "elapsed": 2449,
     "status": "ok",
     "timestamp": 1716050696381,
     "user": {
      "displayName": "Philip Mwasi",
      "userId": "09091040523095534976"
     },
     "user_tz": -180
    },
    "id": "895eb61d",
    "outputId": "2f332ce8-9226-4371-e34c-32741b622fc2"
   },
   "outputs": [
    {
     "data": {
      "text/html": [
       "<div>\n",
       "<style scoped>\n",
       "    .dataframe tbody tr th:only-of-type {\n",
       "        vertical-align: middle;\n",
       "    }\n",
       "\n",
       "    .dataframe tbody tr th {\n",
       "        vertical-align: top;\n",
       "    }\n",
       "\n",
       "    .dataframe thead th {\n",
       "        text-align: right;\n",
       "    }\n",
       "</style>\n",
       "<table border=\"1\" class=\"dataframe\">\n",
       "  <thead>\n",
       "    <tr style=\"text-align: right;\">\n",
       "      <th></th>\n",
       "      <th>Patient_uid</th>\n",
       "      <th>Adherence</th>\n",
       "      <th>VisitDate</th>\n",
       "      <th>AdherenceCategory</th>\n",
       "      <th>NextAppointmentDate</th>\n",
       "    </tr>\n",
       "  </thead>\n",
       "  <tbody>\n",
       "    <tr>\n",
       "      <th>0</th>\n",
       "      <td>F099AA757FCAF0709211D33D7E2FA4CE9A23652C13CAB4...</td>\n",
       "      <td>GOOD</td>\n",
       "      <td>2022-07-04</td>\n",
       "      <td>GOOD</td>\n",
       "      <td>2022-11-01</td>\n",
       "    </tr>\n",
       "    <tr>\n",
       "      <th>8</th>\n",
       "      <td>E27226B68AD18480FA9F8675885B5DA938F45D3A5FDCFE...</td>\n",
       "      <td>GOOD</td>\n",
       "      <td>2023-02-08</td>\n",
       "      <td>GOOD</td>\n",
       "      <td>2023-05-03</td>\n",
       "    </tr>\n",
       "    <tr>\n",
       "      <th>15</th>\n",
       "      <td>B124D27F7ECBA56A6D0ECF541A3255D3317FA12338DDB1...</td>\n",
       "      <td>GOOD</td>\n",
       "      <td>2023-11-28</td>\n",
       "      <td>GOOD</td>\n",
       "      <td>2024-04-10</td>\n",
       "    </tr>\n",
       "    <tr>\n",
       "      <th>16</th>\n",
       "      <td>08D874D29AA0A7B61F7C03DCCAEC6E497F47656A3ACB15...</td>\n",
       "      <td>GOOD</td>\n",
       "      <td>2023-01-24</td>\n",
       "      <td>GOOD</td>\n",
       "      <td>2023-04-20</td>\n",
       "    </tr>\n",
       "    <tr>\n",
       "      <th>22</th>\n",
       "      <td>7CF5CEAE94221403D5CBD27D25CF6D548F772CA06A445A...</td>\n",
       "      <td>GOOD</td>\n",
       "      <td>2022-05-12</td>\n",
       "      <td>GOOD</td>\n",
       "      <td>2022-09-06</td>\n",
       "    </tr>\n",
       "  </tbody>\n",
       "</table>\n",
       "</div>"
      ],
      "text/plain": [
       "                                          Patient_uid Adherence  VisitDate  \\\n",
       "0   F099AA757FCAF0709211D33D7E2FA4CE9A23652C13CAB4...      GOOD 2022-07-04   \n",
       "8   E27226B68AD18480FA9F8675885B5DA938F45D3A5FDCFE...      GOOD 2023-02-08   \n",
       "15  B124D27F7ECBA56A6D0ECF541A3255D3317FA12338DDB1...      GOOD 2023-11-28   \n",
       "16  08D874D29AA0A7B61F7C03DCCAEC6E497F47656A3ACB15...      GOOD 2023-01-24   \n",
       "22  7CF5CEAE94221403D5CBD27D25CF6D548F772CA06A445A...      GOOD 2022-05-12   \n",
       "\n",
       "   AdherenceCategory NextAppointmentDate  \n",
       "0               GOOD          2022-11-01  \n",
       "8               GOOD          2023-05-03  \n",
       "15              GOOD          2024-04-10  \n",
       "16              GOOD          2023-04-20  \n",
       "22              GOOD          2022-09-06  "
      ]
     },
     "execution_count": 22,
     "metadata": {},
     "output_type": "execute_result"
    }
   ],
   "source": [
    "# Convert VisitDate column to datetime data type\n",
    "patient_visits['VisitDate'] = pd.to_datetime(patient_visits['VisitDate'])\n",
    "\n",
    "# Convert NextAppointmentDate column to datetime data type\n",
    "patient_visits['NextAppointmentDate'] = pd.to_datetime(patient_visits['NextAppointmentDate'])\n",
    "\n",
    "patient_visits.head()"
   ]
  },
  {
   "cell_type": "markdown",
   "metadata": {
    "id": "a323fbe7"
   },
   "source": [
    "We need to create the ```NextVisit``` column that will be used to determine if the patient is ```IIT``` or not (ie. if the patient interrupted in treatment) by lagging the ```VisitDate``` column and comparing it with the ```NextAppointmentDate``` column."
   ]
  },
  {
   "cell_type": "markdown",
   "metadata": {},
   "source": [
    "The dataset under consideration should not go later than 30 November 2023 to allow room for us to ascertain if the patients interrupted in treatment within the next 30 days following the appointment."
   ]
  },
  {
   "cell_type": "code",
   "execution_count": 23,
   "metadata": {
    "execution": {
     "iopub.execute_input": "2024-05-21T16:17:53.927415Z",
     "iopub.status.busy": "2024-05-21T16:17:53.926586Z",
     "iopub.status.idle": "2024-05-21T16:18:00.997601Z",
     "shell.execute_reply": "2024-05-21T16:18:00.996745Z",
     "shell.execute_reply.started": "2024-05-21T16:17:53.927382Z"
    },
    "id": "925cf7dc"
   },
   "outputs": [
    {
     "data": {
      "text/html": [
       "<div>\n",
       "<style scoped>\n",
       "    .dataframe tbody tr th:only-of-type {\n",
       "        vertical-align: middle;\n",
       "    }\n",
       "\n",
       "    .dataframe tbody tr th {\n",
       "        vertical-align: top;\n",
       "    }\n",
       "\n",
       "    .dataframe thead th {\n",
       "        text-align: right;\n",
       "    }\n",
       "</style>\n",
       "<table border=\"1\" class=\"dataframe\">\n",
       "  <thead>\n",
       "    <tr style=\"text-align: right;\">\n",
       "      <th></th>\n",
       "      <th>Patient_uid</th>\n",
       "      <th>Adherence</th>\n",
       "      <th>VisitDate</th>\n",
       "      <th>AdherenceCategory</th>\n",
       "      <th>NextAppointmentDate</th>\n",
       "      <th>NextVisit</th>\n",
       "    </tr>\n",
       "  </thead>\n",
       "  <tbody>\n",
       "    <tr>\n",
       "      <th>0</th>\n",
       "      <td>00024CAFCC9014E3F0A15887E2467B31037C5741B4E049...</td>\n",
       "      <td>NaN</td>\n",
       "      <td>2022-01-21</td>\n",
       "      <td>ART|CTX</td>\n",
       "      <td>2022-05-21</td>\n",
       "      <td>2022-05-20</td>\n",
       "    </tr>\n",
       "    <tr>\n",
       "      <th>1</th>\n",
       "      <td>00024CAFCC9014E3F0A15887E2467B31037C5741B4E049...</td>\n",
       "      <td>NaN</td>\n",
       "      <td>2022-05-20</td>\n",
       "      <td>ART|CTX</td>\n",
       "      <td>2022-10-20</td>\n",
       "      <td>2022-10-20</td>\n",
       "    </tr>\n",
       "    <tr>\n",
       "      <th>2</th>\n",
       "      <td>00024CAFCC9014E3F0A15887E2467B31037C5741B4E049...</td>\n",
       "      <td>Good|Good</td>\n",
       "      <td>2022-10-20</td>\n",
       "      <td>ART|CTX</td>\n",
       "      <td>2023-02-17</td>\n",
       "      <td>2023-02-17</td>\n",
       "    </tr>\n",
       "    <tr>\n",
       "      <th>3</th>\n",
       "      <td>00024CAFCC9014E3F0A15887E2467B31037C5741B4E049...</td>\n",
       "      <td>Good|Good</td>\n",
       "      <td>2023-02-17</td>\n",
       "      <td>ART|CTX</td>\n",
       "      <td>2023-05-17</td>\n",
       "      <td>2023-05-17</td>\n",
       "    </tr>\n",
       "    <tr>\n",
       "      <th>4</th>\n",
       "      <td>00024CAFCC9014E3F0A15887E2467B31037C5741B4E049...</td>\n",
       "      <td>NaN</td>\n",
       "      <td>2023-05-17</td>\n",
       "      <td>ART|CTX</td>\n",
       "      <td>2023-08-17</td>\n",
       "      <td>2023-08-19</td>\n",
       "    </tr>\n",
       "  </tbody>\n",
       "</table>\n",
       "</div>"
      ],
      "text/plain": [
       "                                         Patient_uid  Adherence  VisitDate  \\\n",
       "0  00024CAFCC9014E3F0A15887E2467B31037C5741B4E049...        NaN 2022-01-21   \n",
       "1  00024CAFCC9014E3F0A15887E2467B31037C5741B4E049...        NaN 2022-05-20   \n",
       "2  00024CAFCC9014E3F0A15887E2467B31037C5741B4E049...  Good|Good 2022-10-20   \n",
       "3  00024CAFCC9014E3F0A15887E2467B31037C5741B4E049...  Good|Good 2023-02-17   \n",
       "4  00024CAFCC9014E3F0A15887E2467B31037C5741B4E049...        NaN 2023-05-17   \n",
       "\n",
       "  AdherenceCategory NextAppointmentDate  NextVisit  \n",
       "0           ART|CTX          2022-05-21 2022-05-20  \n",
       "1           ART|CTX          2022-10-20 2022-10-20  \n",
       "2           ART|CTX          2023-02-17 2023-02-17  \n",
       "3           ART|CTX          2023-05-17 2023-05-17  \n",
       "4           ART|CTX          2023-08-17 2023-08-19  "
      ]
     },
     "execution_count": 23,
     "metadata": {},
     "output_type": "execute_result"
    }
   ],
   "source": [
    "# Select records where 'NextAppointmentDate' is before November 30, 2023\n",
    "filtered_visits = patient_visits[patient_visits['NextAppointmentDate'] < '2023-11-30']\n",
    "\n",
    "# Group by 'Patient_uid' and sort by 'VisitDate' in ascending order\n",
    "filtered_visits = filtered_visits.sort_values(by=['Patient_uid', 'VisitDate'], ascending=[True, True])\n",
    "\n",
    "# Shift 'VisitDate' to get 'NextVisit' within each group\n",
    "filtered_visits['NextVisit'] = filtered_visits.groupby('Patient_uid')['VisitDate'].shift(-1)\n",
    "\n",
    "# Drop the last records whose 'NextVisit' values are missing\n",
    "filtered_visits = filtered_visits.dropna(subset=['NextVisit'])\n",
    "\n",
    "# Drop the grouping index to ungroup the DataFrame\n",
    "filtered_visits.reset_index(drop=True, inplace=True)\n",
    "\n",
    "# View head\n",
    "filtered_visits.head()\n"
   ]
  },
  {
   "cell_type": "markdown",
   "metadata": {},
   "source": [
    "After engineering the NextVisit column by lagging the VisitDate column, we drop the records for the most recent Visit for each patient before we proceed since we cannot have their NextVisit date (due to lagging).\n",
    "More to the point, this is the sole purpose of our predictive analysis which aims at predicting if the patient will come to the facility in the next visit or they will interrupt in treatment."
   ]
  },
  {
   "cell_type": "code",
   "execution_count": 24,
   "metadata": {
    "execution": {
     "iopub.execute_input": "2024-05-21T16:33:10.870090Z",
     "iopub.status.busy": "2024-05-21T16:33:10.869768Z",
     "iopub.status.idle": "2024-05-21T16:33:12.010813Z",
     "shell.execute_reply": "2024-05-21T16:33:12.009767Z",
     "shell.execute_reply.started": "2024-05-21T16:33:10.870065Z"
    }
   },
   "outputs": [
    {
     "data": {
      "text/plain": [
       "Patient_uid                 0\n",
       "Adherence              616219\n",
       "VisitDate                   0\n",
       "AdherenceCategory       81044\n",
       "NextAppointmentDate         0\n",
       "NextVisit                   0\n",
       "dtype: int64"
      ]
     },
     "execution_count": 24,
     "metadata": {},
     "output_type": "execute_result"
    }
   ],
   "source": [
    "# confirming missing values for the NextVisit column \n",
    "filtered_visits.isna().sum()"
   ]
  },
  {
   "cell_type": "markdown",
   "metadata": {},
   "source": [
    "According to the ART guidelines, a patient is said to have interrupted in treatment if they do not meet the appointment given within the next 30 days following the appointment date and thus we use this criteria to select those patients who might have interrupted in care treatment."
   ]
  },
  {
   "cell_type": "code",
   "execution_count": 25,
   "metadata": {
    "execution": {
     "iopub.execute_input": "2024-05-21T16:31:45.543752Z",
     "iopub.status.busy": "2024-05-21T16:31:45.543395Z",
     "iopub.status.idle": "2024-05-21T16:31:45.654901Z",
     "shell.execute_reply": "2024-05-21T16:31:45.654131Z",
     "shell.execute_reply.started": "2024-05-21T16:31:45.543725Z"
    },
    "id": "l32l7T4ttjwZ"
   },
   "outputs": [],
   "source": [
    "# create a new column called Status which will take a value \"IIT\" if the difference between NextVisit and NextAppointmentDate is more than 30days\n",
    "# else take a value \"In Treatment\"\n",
    "\n",
    "filtered_visits['Status'] = 'In Treatment'\n",
    "filtered_visits.loc[(filtered_visits['NextVisit'] - filtered_visits['NextAppointmentDate']).dt.days > 30, 'Status'] = 'IIT'\n"
   ]
  },
  {
   "cell_type": "code",
   "execution_count": 26,
   "metadata": {
    "execution": {
     "iopub.execute_input": "2024-05-21T15:48:45.791058Z",
     "iopub.status.busy": "2024-05-21T15:48:45.790460Z",
     "iopub.status.idle": "2024-05-21T15:48:47.170559Z",
     "shell.execute_reply": "2024-05-21T15:48:47.169411Z",
     "shell.execute_reply.started": "2024-05-21T15:48:45.791029Z"
    }
   },
   "outputs": [
    {
     "data": {
      "text/plain": [
       "Patient_uid                 0\n",
       "Adherence              616219\n",
       "VisitDate                   0\n",
       "AdherenceCategory       81044\n",
       "NextAppointmentDate         0\n",
       "NextVisit                   0\n",
       "Status                      0\n",
       "dtype: int64"
      ]
     },
     "execution_count": 26,
     "metadata": {},
     "output_type": "execute_result"
    }
   ],
   "source": [
    "# checking for missing values\n",
    "filtered_visits.isna().sum()"
   ]
  },
  {
   "cell_type": "markdown",
   "metadata": {
    "id": "c75cdc7e"
   },
   "source": [
    "We will now filter out to remain with the records for the most recent visits for each patient."
   ]
  },
  {
   "cell_type": "code",
   "execution_count": 27,
   "metadata": {
    "execution": {
     "iopub.execute_input": "2024-05-21T16:47:34.332566Z",
     "iopub.status.busy": "2024-05-21T16:47:34.332121Z",
     "iopub.status.idle": "2024-05-21T16:47:39.430508Z",
     "shell.execute_reply": "2024-05-21T16:47:39.429490Z",
     "shell.execute_reply.started": "2024-05-21T16:47:34.332538Z"
    }
   },
   "outputs": [
    {
     "data": {
      "text/html": [
       "<div>\n",
       "<style scoped>\n",
       "    .dataframe tbody tr th:only-of-type {\n",
       "        vertical-align: middle;\n",
       "    }\n",
       "\n",
       "    .dataframe tbody tr th {\n",
       "        vertical-align: top;\n",
       "    }\n",
       "\n",
       "    .dataframe thead th {\n",
       "        text-align: right;\n",
       "    }\n",
       "</style>\n",
       "<table border=\"1\" class=\"dataframe\">\n",
       "  <thead>\n",
       "    <tr style=\"text-align: right;\">\n",
       "      <th></th>\n",
       "      <th>Patient_uid</th>\n",
       "      <th>Adherence</th>\n",
       "      <th>VisitDate</th>\n",
       "      <th>AdherenceCategory</th>\n",
       "      <th>NextAppointmentDate</th>\n",
       "      <th>NextVisit</th>\n",
       "      <th>Status</th>\n",
       "    </tr>\n",
       "  </thead>\n",
       "  <tbody>\n",
       "    <tr>\n",
       "      <th>0</th>\n",
       "      <td>00024CAFCC9014E3F0A15887E2467B31037C5741B4E049...</td>\n",
       "      <td>NaN</td>\n",
       "      <td>2023-05-17</td>\n",
       "      <td>ART|CTX</td>\n",
       "      <td>2023-08-17</td>\n",
       "      <td>2023-08-19</td>\n",
       "      <td>In Treatment</td>\n",
       "    </tr>\n",
       "    <tr>\n",
       "      <th>1</th>\n",
       "      <td>00024CAFCC9014E3F0A15887E2467B31037C5741B4E049...</td>\n",
       "      <td>Good|Good</td>\n",
       "      <td>2022-12-14</td>\n",
       "      <td>ART|CTX</td>\n",
       "      <td>2023-06-15</td>\n",
       "      <td>2023-06-16</td>\n",
       "      <td>In Treatment</td>\n",
       "    </tr>\n",
       "    <tr>\n",
       "      <th>2</th>\n",
       "      <td>00024CAFCC9014E3F0A15887E2467B31037C5741B4E049...</td>\n",
       "      <td>NaN</td>\n",
       "      <td>2023-06-23</td>\n",
       "      <td>ART|CTX</td>\n",
       "      <td>2023-07-20</td>\n",
       "      <td>2023-06-26</td>\n",
       "      <td>In Treatment</td>\n",
       "    </tr>\n",
       "    <tr>\n",
       "      <th>3</th>\n",
       "      <td>00063D813081C740CA5AE358FCCD0A599DCDF651D3281A...</td>\n",
       "      <td>good|</td>\n",
       "      <td>2023-07-21</td>\n",
       "      <td>ART|CTX</td>\n",
       "      <td>2023-09-29</td>\n",
       "      <td>2023-09-29</td>\n",
       "      <td>In Treatment</td>\n",
       "    </tr>\n",
       "    <tr>\n",
       "      <th>4</th>\n",
       "      <td>00063D813081C740CA5AE358FCCD0A599DCDF651D3281A...</td>\n",
       "      <td>good|</td>\n",
       "      <td>2022-11-14</td>\n",
       "      <td>ART|CTX</td>\n",
       "      <td>2023-02-20</td>\n",
       "      <td>2023-02-20</td>\n",
       "      <td>In Treatment</td>\n",
       "    </tr>\n",
       "  </tbody>\n",
       "</table>\n",
       "</div>"
      ],
      "text/plain": [
       "                                         Patient_uid  Adherence  VisitDate  \\\n",
       "0  00024CAFCC9014E3F0A15887E2467B31037C5741B4E049...        NaN 2023-05-17   \n",
       "1  00024CAFCC9014E3F0A15887E2467B31037C5741B4E049...  Good|Good 2022-12-14   \n",
       "2  00024CAFCC9014E3F0A15887E2467B31037C5741B4E049...        NaN 2023-06-23   \n",
       "3  00063D813081C740CA5AE358FCCD0A599DCDF651D3281A...      good| 2023-07-21   \n",
       "4  00063D813081C740CA5AE358FCCD0A599DCDF651D3281A...      good| 2022-11-14   \n",
       "\n",
       "  AdherenceCategory NextAppointmentDate  NextVisit        Status  \n",
       "0           ART|CTX          2023-08-17 2023-08-19  In Treatment  \n",
       "1           ART|CTX          2023-06-15 2023-06-16  In Treatment  \n",
       "2           ART|CTX          2023-07-20 2023-06-26  In Treatment  \n",
       "3           ART|CTX          2023-09-29 2023-09-29  In Treatment  \n",
       "4           ART|CTX          2023-02-20 2023-02-20  In Treatment  "
      ]
     },
     "execution_count": 27,
     "metadata": {},
     "output_type": "execute_result"
    }
   ],
   "source": [
    "# sort by 'Patient_uid' and 'VisitDate'\n",
    "filtered_visits = filtered_visits.sort_values(by=['Patient_uid', 'VisitDate'], ascending=[True, True])\n",
    "\n",
    "# Group by 'Patient_uid' and get the index of the most recent 'VisitDate' within each group\n",
    "most_recent_visits_idx = filtered_visits.groupby('Patient_uid')['VisitDate'].idxmax()\n",
    "\n",
    "# Select the most recent records based on the indices\n",
    "most_recent_visits = filtered_visits.loc[most_recent_visits_idx]\n",
    "\n",
    "# Reset index for the resulting DataFrame\n",
    "most_recent_visits.reset_index(drop=True, inplace=True)\n",
    "\n",
    "# View head\n",
    "most_recent_visits.head()\n"
   ]
  },
  {
   "cell_type": "code",
   "execution_count": 28,
   "metadata": {
    "execution": {
     "iopub.execute_input": "2024-05-21T16:47:55.135901Z",
     "iopub.status.busy": "2024-05-21T16:47:55.135418Z",
     "iopub.status.idle": "2024-05-21T16:47:55.401115Z",
     "shell.execute_reply": "2024-05-21T16:47:55.400106Z",
     "shell.execute_reply.started": "2024-05-21T16:47:55.135868Z"
    }
   },
   "outputs": [
    {
     "name": "stdout",
     "output_type": "stream",
     "text": [
      "<class 'pandas.core.frame.DataFrame'>\n",
      "RangeIndex: 551590 entries, 0 to 551589\n",
      "Data columns (total 7 columns):\n",
      " #   Column               Non-Null Count   Dtype         \n",
      "---  ------               --------------   -----         \n",
      " 0   Patient_uid          551590 non-null  object        \n",
      " 1   Adherence            425623 non-null  object        \n",
      " 2   VisitDate            551590 non-null  datetime64[ns]\n",
      " 3   AdherenceCategory    541701 non-null  object        \n",
      " 4   NextAppointmentDate  551590 non-null  datetime64[ns]\n",
      " 5   NextVisit            551590 non-null  datetime64[ns]\n",
      " 6   Status               551590 non-null  object        \n",
      "dtypes: datetime64[ns](3), object(4)\n",
      "memory usage: 29.5+ MB\n"
     ]
    }
   ],
   "source": [
    "# overview of the new dataframe\n",
    "most_recent_visits.info()"
   ]
  },
  {
   "cell_type": "code",
   "execution_count": 29,
   "metadata": {
    "execution": {
     "iopub.execute_input": "2024-05-21T16:55:32.583843Z",
     "iopub.status.busy": "2024-05-21T16:55:32.583500Z",
     "iopub.status.idle": "2024-05-21T16:55:32.669272Z",
     "shell.execute_reply": "2024-05-21T16:55:32.668397Z",
     "shell.execute_reply.started": "2024-05-21T16:55:32.583817Z"
    },
    "id": "98f7eae7"
   },
   "outputs": [
    {
     "name": "stdout",
     "output_type": "stream",
     "text": [
      "[nan 'Good|Good' 'good|' 'GOOD' 'Good|Poor' 'Poor|Poor' 'FAIR' 'POOR'\n",
      " 'Poor|Good' '0' 'poor|' 'Good|Fair']\n",
      "['ART|CTX' nan 'ARV' 'GOOD' 'FAIR' 'POOR']\n"
     ]
    }
   ],
   "source": [
    "# checking for the unique values of the adherence categories\n",
    "print(most_recent_visits['Adherence'].unique())\n",
    "print(most_recent_visits['AdherenceCategory'].unique())"
   ]
  },
  {
   "cell_type": "markdown",
   "metadata": {
    "id": "c8476dd6"
   },
   "source": [
    "Since only a small portion of the data is missing in the ```NextAppointmet``` column we'll drop the missing data points from the visits dataset."
   ]
  },
  {
   "cell_type": "code",
   "execution_count": 30,
   "metadata": {
    "execution": {
     "iopub.execute_input": "2024-05-21T16:56:26.206104Z",
     "iopub.status.busy": "2024-05-21T16:56:26.205772Z",
     "iopub.status.idle": "2024-05-21T16:56:26.482414Z",
     "shell.execute_reply": "2024-05-21T16:56:26.481536Z",
     "shell.execute_reply.started": "2024-05-21T16:56:26.206078Z"
    }
   },
   "outputs": [
    {
     "data": {
      "text/plain": [
       "Patient_uid                 0\n",
       "Adherence              125967\n",
       "VisitDate                   0\n",
       "AdherenceCategory        9889\n",
       "NextAppointmentDate         0\n",
       "NextVisit                   0\n",
       "Status                      0\n",
       "dtype: int64"
      ]
     },
     "execution_count": 30,
     "metadata": {},
     "output_type": "execute_result"
    }
   ],
   "source": [
    "# Drop the datapoints with the missing values in this column\n",
    "most_recent_visits.dropna(subset=['NextAppointmentDate'], inplace=True)\n",
    "\n",
    "# confirm the changes\n",
    "most_recent_visits.isna().sum()"
   ]
  },
  {
   "cell_type": "code",
   "execution_count": 31,
   "metadata": {
    "execution": {
     "iopub.execute_input": "2024-05-21T16:56:48.717150Z",
     "iopub.status.busy": "2024-05-21T16:56:48.716807Z",
     "iopub.status.idle": "2024-05-21T16:56:49.310233Z",
     "shell.execute_reply": "2024-05-21T16:56:49.309286Z",
     "shell.execute_reply.started": "2024-05-21T16:56:48.717121Z"
    },
    "id": "0bdd323a"
   },
   "outputs": [
    {
     "data": {
      "text/plain": [
       "array([nan, 'Good', 'good', 'GOOD', 'Poor', 'FAIR', 'POOR', '0', 'poor'],\n",
       "      dtype=object)"
      ]
     },
     "execution_count": 31,
     "metadata": {},
     "output_type": "execute_result"
    }
   ],
   "source": [
    "# Extracting the first part of the values in the Adherence column\n",
    "most_recent_visits['Adherence'] = most_recent_visits['Adherence'].str.split('|').str[0]\n",
    "\n",
    "# view modifications\n",
    "most_recent_visits['Adherence'].unique()"
   ]
  },
  {
   "cell_type": "code",
   "execution_count": 32,
   "metadata": {
    "execution": {
     "iopub.execute_input": "2024-05-21T16:57:18.042041Z",
     "iopub.status.busy": "2024-05-21T16:57:18.041426Z",
     "iopub.status.idle": "2024-05-21T16:57:18.275102Z",
     "shell.execute_reply": "2024-05-21T16:57:18.274240Z",
     "shell.execute_reply.started": "2024-05-21T16:57:18.042013Z"
    },
    "id": "2caee52c"
   },
   "outputs": [
    {
     "data": {
      "text/html": [
       "<div>\n",
       "<style scoped>\n",
       "    .dataframe tbody tr th:only-of-type {\n",
       "        vertical-align: middle;\n",
       "    }\n",
       "\n",
       "    .dataframe tbody tr th {\n",
       "        vertical-align: top;\n",
       "    }\n",
       "\n",
       "    .dataframe thead th {\n",
       "        text-align: right;\n",
       "    }\n",
       "</style>\n",
       "<table border=\"1\" class=\"dataframe\">\n",
       "  <thead>\n",
       "    <tr style=\"text-align: right;\">\n",
       "      <th></th>\n",
       "      <th>Patient_uid</th>\n",
       "      <th>Adherence</th>\n",
       "      <th>VisitDate</th>\n",
       "      <th>AdherenceCategory</th>\n",
       "      <th>NextAppointmentDate</th>\n",
       "      <th>NextVisit</th>\n",
       "      <th>Status</th>\n",
       "    </tr>\n",
       "  </thead>\n",
       "  <tbody>\n",
       "    <tr>\n",
       "      <th>0</th>\n",
       "      <td>00024CAFCC9014E3F0A15887E2467B31037C5741B4E049...</td>\n",
       "      <td>NaN</td>\n",
       "      <td>2023-05-17</td>\n",
       "      <td>ART|CTX</td>\n",
       "      <td>2023-08-17</td>\n",
       "      <td>2023-08-19</td>\n",
       "      <td>In Treatment</td>\n",
       "    </tr>\n",
       "    <tr>\n",
       "      <th>1</th>\n",
       "      <td>00024CAFCC9014E3F0A15887E2467B31037C5741B4E049...</td>\n",
       "      <td>good</td>\n",
       "      <td>2022-12-14</td>\n",
       "      <td>ART|CTX</td>\n",
       "      <td>2023-06-15</td>\n",
       "      <td>2023-06-16</td>\n",
       "      <td>In Treatment</td>\n",
       "    </tr>\n",
       "    <tr>\n",
       "      <th>2</th>\n",
       "      <td>00024CAFCC9014E3F0A15887E2467B31037C5741B4E049...</td>\n",
       "      <td>NaN</td>\n",
       "      <td>2023-06-23</td>\n",
       "      <td>ART|CTX</td>\n",
       "      <td>2023-07-20</td>\n",
       "      <td>2023-06-26</td>\n",
       "      <td>In Treatment</td>\n",
       "    </tr>\n",
       "    <tr>\n",
       "      <th>3</th>\n",
       "      <td>00063D813081C740CA5AE358FCCD0A599DCDF651D3281A...</td>\n",
       "      <td>good</td>\n",
       "      <td>2023-07-21</td>\n",
       "      <td>ART|CTX</td>\n",
       "      <td>2023-09-29</td>\n",
       "      <td>2023-09-29</td>\n",
       "      <td>In Treatment</td>\n",
       "    </tr>\n",
       "    <tr>\n",
       "      <th>4</th>\n",
       "      <td>00063D813081C740CA5AE358FCCD0A599DCDF651D3281A...</td>\n",
       "      <td>good</td>\n",
       "      <td>2022-11-14</td>\n",
       "      <td>ART|CTX</td>\n",
       "      <td>2023-02-20</td>\n",
       "      <td>2023-02-20</td>\n",
       "      <td>In Treatment</td>\n",
       "    </tr>\n",
       "  </tbody>\n",
       "</table>\n",
       "</div>"
      ],
      "text/plain": [
       "                                         Patient_uid Adherence  VisitDate  \\\n",
       "0  00024CAFCC9014E3F0A15887E2467B31037C5741B4E049...       NaN 2023-05-17   \n",
       "1  00024CAFCC9014E3F0A15887E2467B31037C5741B4E049...      good 2022-12-14   \n",
       "2  00024CAFCC9014E3F0A15887E2467B31037C5741B4E049...       NaN 2023-06-23   \n",
       "3  00063D813081C740CA5AE358FCCD0A599DCDF651D3281A...      good 2023-07-21   \n",
       "4  00063D813081C740CA5AE358FCCD0A599DCDF651D3281A...      good 2022-11-14   \n",
       "\n",
       "  AdherenceCategory NextAppointmentDate  NextVisit        Status  \n",
       "0           ART|CTX          2023-08-17 2023-08-19  In Treatment  \n",
       "1           ART|CTX          2023-06-15 2023-06-16  In Treatment  \n",
       "2           ART|CTX          2023-07-20 2023-06-26  In Treatment  \n",
       "3           ART|CTX          2023-09-29 2023-09-29  In Treatment  \n",
       "4           ART|CTX          2023-02-20 2023-02-20  In Treatment  "
      ]
     },
     "execution_count": 32,
     "metadata": {},
     "output_type": "execute_result"
    }
   ],
   "source": [
    "# Replace \"0\" with NaN in 'Adherence' column\n",
    "most_recent_visits['Adherence'] = most_recent_visits['Adherence'].replace('0', np.nan)\n",
    "\n",
    "# Convert 'Adherence' column to lowercase\n",
    "most_recent_visits['Adherence'] = most_recent_visits['Adherence'].str.lower()\n",
    "\n",
    "# View head\n",
    "most_recent_visits.head()"
   ]
  },
  {
   "cell_type": "markdown",
   "metadata": {
    "id": "4c9b5be2"
   },
   "source": [
    "Since we are only interested on the art adherence, we'll drop the AdherenceCategory column. The CTX category indicates the level of adherence to the drug for treating opportunistic infections which is not our interest."
   ]
  },
  {
   "cell_type": "code",
   "execution_count": 33,
   "metadata": {
    "execution": {
     "iopub.execute_input": "2024-05-21T16:57:46.692769Z",
     "iopub.status.busy": "2024-05-21T16:57:46.692159Z",
     "iopub.status.idle": "2024-05-21T16:57:46.937242Z",
     "shell.execute_reply": "2024-05-21T16:57:46.936339Z",
     "shell.execute_reply.started": "2024-05-21T16:57:46.692739Z"
    },
    "id": "829ce5af"
   },
   "outputs": [
    {
     "data": {
      "text/plain": [
       "Patient_uid                 0\n",
       "ArtAdherence           126087\n",
       "VisitDate                   0\n",
       "NextAppointmentDate         0\n",
       "NextVisit                   0\n",
       "Status                      0\n",
       "dtype: int64"
      ]
     },
     "execution_count": 33,
     "metadata": {},
     "output_type": "execute_result"
    }
   ],
   "source": [
    "# Drop the AdherenceCategory\n",
    "most_recent_visits.drop(columns='AdherenceCategory', inplace=True)\n",
    "\n",
    "# Rename 'Adherence' column to 'ArtAdherence'\n",
    "most_recent_visits.rename(columns={'Adherence': 'ArtAdherence'}, inplace=True)\n",
    "\n",
    "# check for further missing values\n",
    "most_recent_visits.isna().sum()"
   ]
  },
  {
   "cell_type": "code",
   "execution_count": 34,
   "metadata": {
    "execution": {
     "iopub.execute_input": "2024-05-21T16:57:59.106544Z",
     "iopub.status.busy": "2024-05-21T16:57:59.106188Z",
     "iopub.status.idle": "2024-05-21T16:57:59.195525Z",
     "shell.execute_reply": "2024-05-21T16:57:59.194529Z",
     "shell.execute_reply.started": "2024-05-21T16:57:59.106509Z"
    }
   },
   "outputs": [
    {
     "data": {
      "text/plain": [
       "ArtAdherence\n",
       "good    423005\n",
       "poor      2253\n",
       "fair       245\n",
       "Name: count, dtype: int64"
      ]
     },
     "execution_count": 34,
     "metadata": {},
     "output_type": "execute_result"
    }
   ],
   "source": [
    "most_recent_visits['ArtAdherence'].value_counts()"
   ]
  },
  {
   "cell_type": "markdown",
   "metadata": {},
   "source": [
    "We are going to use mode imputation to fill in the missing values in the ArtAdherence column to minimize data loss.\n",
    "From the value counts the mode is clearly 'good'"
   ]
  },
  {
   "cell_type": "code",
   "execution_count": 35,
   "metadata": {
    "execution": {
     "iopub.execute_input": "2024-05-21T16:58:10.009594Z",
     "iopub.status.busy": "2024-05-21T16:58:10.009014Z",
     "iopub.status.idle": "2024-05-21T16:58:10.276501Z",
     "shell.execute_reply": "2024-05-21T16:58:10.275625Z",
     "shell.execute_reply.started": "2024-05-21T16:58:10.009564Z"
    }
   },
   "outputs": [
    {
     "data": {
      "text/plain": [
       "Patient_uid            0\n",
       "ArtAdherence           0\n",
       "VisitDate              0\n",
       "NextAppointmentDate    0\n",
       "NextVisit              0\n",
       "Status                 0\n",
       "dtype: int64"
      ]
     },
     "execution_count": 35,
     "metadata": {},
     "output_type": "execute_result"
    }
   ],
   "source": [
    "# Fill missing values in the 'ArtAdherence' column with the mode\n",
    "most_recent_visits['ArtAdherence'].fillna('good', inplace=True)\n",
    "\n",
    "# confirm the changes\n",
    "most_recent_visits.isna().sum()"
   ]
  },
  {
   "cell_type": "code",
   "execution_count": 36,
   "metadata": {
    "execution": {
     "iopub.execute_input": "2024-05-21T17:01:44.817547Z",
     "iopub.status.busy": "2024-05-21T17:01:44.816852Z",
     "iopub.status.idle": "2024-05-21T17:01:44.829141Z",
     "shell.execute_reply": "2024-05-21T17:01:44.828211Z",
     "shell.execute_reply.started": "2024-05-21T17:01:44.817517Z"
    }
   },
   "outputs": [
    {
     "data": {
      "text/html": [
       "<div>\n",
       "<style scoped>\n",
       "    .dataframe tbody tr th:only-of-type {\n",
       "        vertical-align: middle;\n",
       "    }\n",
       "\n",
       "    .dataframe tbody tr th {\n",
       "        vertical-align: top;\n",
       "    }\n",
       "\n",
       "    .dataframe thead th {\n",
       "        text-align: right;\n",
       "    }\n",
       "</style>\n",
       "<table border=\"1\" class=\"dataframe\">\n",
       "  <thead>\n",
       "    <tr style=\"text-align: right;\">\n",
       "      <th></th>\n",
       "      <th>Patient_uid</th>\n",
       "      <th>ArtAdherence</th>\n",
       "      <th>VisitDate</th>\n",
       "      <th>NextAppointmentDate</th>\n",
       "      <th>NextVisit</th>\n",
       "      <th>Status</th>\n",
       "    </tr>\n",
       "  </thead>\n",
       "  <tbody>\n",
       "    <tr>\n",
       "      <th>0</th>\n",
       "      <td>00024CAFCC9014E3F0A15887E2467B31037C5741B4E049...</td>\n",
       "      <td>good</td>\n",
       "      <td>2023-05-17</td>\n",
       "      <td>2023-08-17</td>\n",
       "      <td>2023-08-19</td>\n",
       "      <td>In Treatment</td>\n",
       "    </tr>\n",
       "    <tr>\n",
       "      <th>1</th>\n",
       "      <td>00024CAFCC9014E3F0A15887E2467B31037C5741B4E049...</td>\n",
       "      <td>good</td>\n",
       "      <td>2022-12-14</td>\n",
       "      <td>2023-06-15</td>\n",
       "      <td>2023-06-16</td>\n",
       "      <td>In Treatment</td>\n",
       "    </tr>\n",
       "    <tr>\n",
       "      <th>2</th>\n",
       "      <td>00024CAFCC9014E3F0A15887E2467B31037C5741B4E049...</td>\n",
       "      <td>good</td>\n",
       "      <td>2023-06-23</td>\n",
       "      <td>2023-07-20</td>\n",
       "      <td>2023-06-26</td>\n",
       "      <td>In Treatment</td>\n",
       "    </tr>\n",
       "    <tr>\n",
       "      <th>3</th>\n",
       "      <td>00063D813081C740CA5AE358FCCD0A599DCDF651D3281A...</td>\n",
       "      <td>good</td>\n",
       "      <td>2023-07-21</td>\n",
       "      <td>2023-09-29</td>\n",
       "      <td>2023-09-29</td>\n",
       "      <td>In Treatment</td>\n",
       "    </tr>\n",
       "    <tr>\n",
       "      <th>4</th>\n",
       "      <td>00063D813081C740CA5AE358FCCD0A599DCDF651D3281A...</td>\n",
       "      <td>good</td>\n",
       "      <td>2022-11-14</td>\n",
       "      <td>2023-02-20</td>\n",
       "      <td>2023-02-20</td>\n",
       "      <td>In Treatment</td>\n",
       "    </tr>\n",
       "  </tbody>\n",
       "</table>\n",
       "</div>"
      ],
      "text/plain": [
       "                                         Patient_uid ArtAdherence  VisitDate  \\\n",
       "0  00024CAFCC9014E3F0A15887E2467B31037C5741B4E049...         good 2023-05-17   \n",
       "1  00024CAFCC9014E3F0A15887E2467B31037C5741B4E049...         good 2022-12-14   \n",
       "2  00024CAFCC9014E3F0A15887E2467B31037C5741B4E049...         good 2023-06-23   \n",
       "3  00063D813081C740CA5AE358FCCD0A599DCDF651D3281A...         good 2023-07-21   \n",
       "4  00063D813081C740CA5AE358FCCD0A599DCDF651D3281A...         good 2022-11-14   \n",
       "\n",
       "  NextAppointmentDate  NextVisit        Status  \n",
       "0          2023-08-17 2023-08-19  In Treatment  \n",
       "1          2023-06-15 2023-06-16  In Treatment  \n",
       "2          2023-07-20 2023-06-26  In Treatment  \n",
       "3          2023-09-29 2023-09-29  In Treatment  \n",
       "4          2023-02-20 2023-02-20  In Treatment  "
      ]
     },
     "execution_count": 36,
     "metadata": {},
     "output_type": "execute_result"
    }
   ],
   "source": [
    "# rename the dataset \n",
    "clean_visits = most_recent_visits\n",
    "# view head\n",
    "clean_visits.head()"
   ]
  },
  {
   "cell_type": "markdown",
   "metadata": {
    "id": "18ff4f22"
   },
   "source": [
    "#### 5. Patient_labs"
   ]
  },
  {
   "cell_type": "code",
   "execution_count": 37,
   "metadata": {
    "execution": {
     "iopub.execute_input": "2024-05-21T17:04:47.545394Z",
     "iopub.status.busy": "2024-05-21T17:04:47.545042Z",
     "iopub.status.idle": "2024-05-21T17:04:47.921764Z",
     "shell.execute_reply": "2024-05-21T17:04:47.920732Z",
     "shell.execute_reply.started": "2024-05-21T17:04:47.545365Z"
    },
    "id": "10dc753b"
   },
   "outputs": [
    {
     "name": "stdout",
     "output_type": "stream",
     "text": [
      "<class 'pandas.core.frame.DataFrame'>\n",
      "Index: 960843 entries, 2 to 2798980\n",
      "Data columns (total 4 columns):\n",
      " #   Column         Non-Null Count   Dtype \n",
      "---  ------         --------------   ----- \n",
      " 0   Patient_uid    960843 non-null  object\n",
      " 1   OrderedbyDate  960843 non-null  object\n",
      " 2   TestName       939604 non-null  object\n",
      " 3   TestResult     952197 non-null  object\n",
      "dtypes: object(4)\n",
      "memory usage: 36.7+ MB\n"
     ]
    }
   ],
   "source": [
    "patient_labs.info()"
   ]
  },
  {
   "cell_type": "code",
   "execution_count": 38,
   "metadata": {
    "execution": {
     "iopub.execute_input": "2024-05-21T17:04:48.330136Z",
     "iopub.status.busy": "2024-05-21T17:04:48.329265Z",
     "iopub.status.idle": "2024-05-21T17:04:48.701809Z",
     "shell.execute_reply": "2024-05-21T17:04:48.700831Z",
     "shell.execute_reply.started": "2024-05-21T17:04:48.330103Z"
    },
    "id": "6bafc882"
   },
   "outputs": [
    {
     "data": {
      "text/plain": [
       "Patient_uid          0\n",
       "OrderedbyDate        0\n",
       "TestName         21239\n",
       "TestResult        8646\n",
       "dtype: int64"
      ]
     },
     "execution_count": 38,
     "metadata": {},
     "output_type": "execute_result"
    }
   ],
   "source": [
    "# check for na values\n",
    "patient_labs.isna().sum()"
   ]
  },
  {
   "cell_type": "code",
   "execution_count": 39,
   "metadata": {
    "execution": {
     "iopub.execute_input": "2024-05-21T17:04:48.802091Z",
     "iopub.status.busy": "2024-05-21T17:04:48.801427Z",
     "iopub.status.idle": "2024-05-21T17:04:48.811969Z",
     "shell.execute_reply": "2024-05-21T17:04:48.811106Z",
     "shell.execute_reply.started": "2024-05-21T17:04:48.802062Z"
    },
    "id": "a7d25e22"
   },
   "outputs": [
    {
     "data": {
      "text/html": [
       "<div>\n",
       "<style scoped>\n",
       "    .dataframe tbody tr th:only-of-type {\n",
       "        vertical-align: middle;\n",
       "    }\n",
       "\n",
       "    .dataframe tbody tr th {\n",
       "        vertical-align: top;\n",
       "    }\n",
       "\n",
       "    .dataframe thead th {\n",
       "        text-align: right;\n",
       "    }\n",
       "</style>\n",
       "<table border=\"1\" class=\"dataframe\">\n",
       "  <thead>\n",
       "    <tr style=\"text-align: right;\">\n",
       "      <th></th>\n",
       "      <th>Patient_uid</th>\n",
       "      <th>OrderedbyDate</th>\n",
       "      <th>TestName</th>\n",
       "      <th>TestResult</th>\n",
       "    </tr>\n",
       "  </thead>\n",
       "  <tbody>\n",
       "    <tr>\n",
       "      <th>2</th>\n",
       "      <td>32D913ED2228CC04150FAA7BEC23034183C7147F54A955...</td>\n",
       "      <td>2022-11-19</td>\n",
       "      <td>CHGM</td>\n",
       "      <td>33.5</td>\n",
       "    </tr>\n",
       "    <tr>\n",
       "      <th>3</th>\n",
       "      <td>7B73C8E14681A416E4A899B18BFAAEC4F22E31BADFAFA1...</td>\n",
       "      <td>2023-05-16</td>\n",
       "      <td>Viral Load</td>\n",
       "      <td>184</td>\n",
       "    </tr>\n",
       "    <tr>\n",
       "      <th>4</th>\n",
       "      <td>B856DD3933C4A89C78CB9AE675F9943C16B9D3DC8ED7DF...</td>\n",
       "      <td>2023-08-24</td>\n",
       "      <td>Viral Load</td>\n",
       "      <td>LDL</td>\n",
       "    </tr>\n",
       "    <tr>\n",
       "      <th>8</th>\n",
       "      <td>3E95E21174ABA132640AE817EEA6CB841D928D036D775A...</td>\n",
       "      <td>2022-09-15</td>\n",
       "      <td>Viral Load</td>\n",
       "      <td>LDL</td>\n",
       "    </tr>\n",
       "    <tr>\n",
       "      <th>12</th>\n",
       "      <td>48295DE0AF8BE5C7902170AC88297D091CEFAEE0E14E3D...</td>\n",
       "      <td>2022-06-14</td>\n",
       "      <td>Viral Load</td>\n",
       "      <td>396</td>\n",
       "    </tr>\n",
       "  </tbody>\n",
       "</table>\n",
       "</div>"
      ],
      "text/plain": [
       "                                          Patient_uid OrderedbyDate  \\\n",
       "2   32D913ED2228CC04150FAA7BEC23034183C7147F54A955...    2022-11-19   \n",
       "3   7B73C8E14681A416E4A899B18BFAAEC4F22E31BADFAFA1...    2023-05-16   \n",
       "4   B856DD3933C4A89C78CB9AE675F9943C16B9D3DC8ED7DF...    2023-08-24   \n",
       "8   3E95E21174ABA132640AE817EEA6CB841D928D036D775A...    2022-09-15   \n",
       "12  48295DE0AF8BE5C7902170AC88297D091CEFAEE0E14E3D...    2022-06-14   \n",
       "\n",
       "      TestName TestResult  \n",
       "2         CHGM       33.5  \n",
       "3   Viral Load        184  \n",
       "4   Viral Load        LDL  \n",
       "8   Viral Load        LDL  \n",
       "12  Viral Load        396  "
      ]
     },
     "execution_count": 39,
     "metadata": {},
     "output_type": "execute_result"
    }
   ],
   "source": [
    "patient_labs.head()"
   ]
  },
  {
   "cell_type": "code",
   "execution_count": 40,
   "metadata": {
    "execution": {
     "iopub.execute_input": "2024-05-21T17:04:49.250533Z",
     "iopub.status.busy": "2024-05-21T17:04:49.249689Z",
     "iopub.status.idle": "2024-05-21T17:04:49.327093Z",
     "shell.execute_reply": "2024-05-21T17:04:49.326160Z",
     "shell.execute_reply.started": "2024-05-21T17:04:49.250500Z"
    },
    "id": "52cdbbf4"
   },
   "outputs": [
    {
     "data": {
      "text/plain": [
       "array(['CHGM', 'Viral Load', 'CD4 Count', 'LYM2', 'FLDEX4 -MON2 %',\n",
       "       'GeneXpert', nan, 'PCR', 'Tryglicerid', 'HGM',\n",
       "       'Determine rapid test', 'Creatinine',\n",
       "       'Hepatitis B Surface Antigen Test', 'PCRq',\n",
       "       'Serum Cryptococcal Ag', 'LYM', 'CD4 Percentage',\n",
       "       'Sputum for Acid Fast Bacilli', 'Unigold ', 'FLDEX1 - MON',\n",
       "       'Tuberculosis', 'Leuco', 'Serum creatinine (umol/L)', 'ALT',\n",
       "       'VDRL Titre', 'PCT', 'mpv', 'SERUM GLUTAMIC-PYRUVIC TRANSAMINASE',\n",
       "       'PDW', 'SPUTUM FOR ACID FAST BACILLI', 'Glycemia',\n",
       "       'Rapid Plasma Reagin', 'sputum for acid fast bacilli', 'ColTot',\n",
       "       'Hema', 'Hemo', 'GPT', 'Oraquick', 'UREA', 'GOT',\n",
       "       'URINE PREGNANCY TEST', 'MXD2', 'MXD', 'Eritro', 'K', 'ColHDL',\n",
       "       'HBA1C', 'RDWCV', 'RVGM', 'BILD', 'serum cryptococcal ag',\n",
       "       'TB LAM', 'NEUT2',\n",
       "       'HIV DNA POLYMERASE CHAIN REACTION, QUALITATIVE',\n",
       "       'Hepatitis B surface antigen spot test',\n",
       "       'Treponema Pallidum Hemagglutination Assay, Qualitative', 'ALBU',\n",
       "       'Serum cryptococcal antigen status', 'CL', 'BLT',\n",
       "       'serum creatinine (umol/l)',\n",
       "       'Tuberculosis polymerase chain reaction with rifampin resistance checking',\n",
       "       'Rifampicin (R)', 'tb lam', 'Isoniazid (H)', 'genexpert', 'NEUT',\n",
       "       'rapid plasma reagin', 'VDRL TITRE', 'vdrl titre',\n",
       "       'CD4 count result (qualitative)', 'Ferritin',\n",
       "       'RAPID PLASMA REAGIN', 'IRON', 'HEPATITIS C TEST - QUALITATIVE',\n",
       "       'Treponema Pallidum Hemagglutination Assay', 'Plasmodium', 'PLRC',\n",
       "       'alt', 'TREPONEMA PALLIDUM HEMAGGLUTINATION ASSAY, QUALITATIVE'],\n",
       "      dtype=object)"
      ]
     },
     "execution_count": 40,
     "metadata": {},
     "output_type": "execute_result"
    }
   ],
   "source": [
    "# Check the number of tests run on eaxh patient\n",
    "patient_labs['TestName'].unique()"
   ]
  },
  {
   "cell_type": "markdown",
   "metadata": {
    "id": "739704a7"
   },
   "source": [
    "From the tests above, we are only interested in the results for ```Viral Load```, ```CD4 Count``` and ```CD4 Percentage``` tests for our analysis."
   ]
  },
  {
   "cell_type": "code",
   "execution_count": 41,
   "metadata": {
    "execution": {
     "iopub.execute_input": "2024-05-21T17:05:04.422270Z",
     "iopub.status.busy": "2024-05-21T17:05:04.421911Z",
     "iopub.status.idle": "2024-05-21T17:05:04.558524Z",
     "shell.execute_reply": "2024-05-21T17:05:04.557633Z",
     "shell.execute_reply.started": "2024-05-21T17:05:04.422239Z"
    },
    "id": "a531f51c",
    "scrolled": true
   },
   "outputs": [
    {
     "data": {
      "text/html": [
       "<div>\n",
       "<style scoped>\n",
       "    .dataframe tbody tr th:only-of-type {\n",
       "        vertical-align: middle;\n",
       "    }\n",
       "\n",
       "    .dataframe tbody tr th {\n",
       "        vertical-align: top;\n",
       "    }\n",
       "\n",
       "    .dataframe thead th {\n",
       "        text-align: right;\n",
       "    }\n",
       "</style>\n",
       "<table border=\"1\" class=\"dataframe\">\n",
       "  <thead>\n",
       "    <tr style=\"text-align: right;\">\n",
       "      <th></th>\n",
       "      <th>Patient_uid</th>\n",
       "      <th>OrderedbyDate</th>\n",
       "      <th>TestName</th>\n",
       "      <th>TestResult</th>\n",
       "    </tr>\n",
       "  </thead>\n",
       "  <tbody>\n",
       "    <tr>\n",
       "      <th>3</th>\n",
       "      <td>7B73C8E14681A416E4A899B18BFAAEC4F22E31BADFAFA1...</td>\n",
       "      <td>2023-05-16</td>\n",
       "      <td>Viral Load</td>\n",
       "      <td>184</td>\n",
       "    </tr>\n",
       "    <tr>\n",
       "      <th>4</th>\n",
       "      <td>B856DD3933C4A89C78CB9AE675F9943C16B9D3DC8ED7DF...</td>\n",
       "      <td>2023-08-24</td>\n",
       "      <td>Viral Load</td>\n",
       "      <td>LDL</td>\n",
       "    </tr>\n",
       "    <tr>\n",
       "      <th>8</th>\n",
       "      <td>3E95E21174ABA132640AE817EEA6CB841D928D036D775A...</td>\n",
       "      <td>2022-09-15</td>\n",
       "      <td>Viral Load</td>\n",
       "      <td>LDL</td>\n",
       "    </tr>\n",
       "    <tr>\n",
       "      <th>12</th>\n",
       "      <td>48295DE0AF8BE5C7902170AC88297D091CEFAEE0E14E3D...</td>\n",
       "      <td>2022-06-14</td>\n",
       "      <td>Viral Load</td>\n",
       "      <td>396</td>\n",
       "    </tr>\n",
       "    <tr>\n",
       "      <th>17</th>\n",
       "      <td>EA90E1F03785E46B35FB06D8725255B26791C7D6BE7E39...</td>\n",
       "      <td>2023-02-17</td>\n",
       "      <td>Viral Load</td>\n",
       "      <td>LDL</td>\n",
       "    </tr>\n",
       "  </tbody>\n",
       "</table>\n",
       "</div>"
      ],
      "text/plain": [
       "                                          Patient_uid OrderedbyDate  \\\n",
       "3   7B73C8E14681A416E4A899B18BFAAEC4F22E31BADFAFA1...    2023-05-16   \n",
       "4   B856DD3933C4A89C78CB9AE675F9943C16B9D3DC8ED7DF...    2023-08-24   \n",
       "8   3E95E21174ABA132640AE817EEA6CB841D928D036D775A...    2022-09-15   \n",
       "12  48295DE0AF8BE5C7902170AC88297D091CEFAEE0E14E3D...    2022-06-14   \n",
       "17  EA90E1F03785E46B35FB06D8725255B26791C7D6BE7E39...    2023-02-17   \n",
       "\n",
       "      TestName TestResult  \n",
       "3   Viral Load        184  \n",
       "4   Viral Load        LDL  \n",
       "8   Viral Load        LDL  \n",
       "12  Viral Load        396  \n",
       "17  Viral Load        LDL  "
      ]
     },
     "execution_count": 41,
     "metadata": {},
     "output_type": "execute_result"
    }
   ],
   "source": [
    "# Filter the DataFrame\n",
    "patient_tests = patient_labs[patient_labs['TestName'].isin(['Viral Load', 'CD4 Count', 'CD4 Percentage'])]\n",
    "\n",
    "# Show the filtered DataFrame\n",
    "patient_tests.head()"
   ]
  },
  {
   "cell_type": "markdown",
   "metadata": {},
   "source": [
    " Suppressed VL < 200\n",
    " Unsuppressed VL > 200\n",
    " Validity based on age breakpoint 24yrs (<24 6months, >24 12 months)"
   ]
  },
  {
   "cell_type": "code",
   "execution_count": 42,
   "metadata": {
    "execution": {
     "iopub.execute_input": "2024-05-21T17:08:53.076986Z",
     "iopub.status.busy": "2024-05-21T17:08:53.076644Z",
     "iopub.status.idle": "2024-05-21T17:08:57.620769Z",
     "shell.execute_reply": "2024-05-21T17:08:57.619868Z",
     "shell.execute_reply.started": "2024-05-21T17:08:53.076953Z"
    },
    "id": "7a01a04a"
   },
   "outputs": [
    {
     "name": "stdout",
     "output_type": "stream",
     "text": [
      "<class 'pandas.core.frame.DataFrame'>\n",
      "RangeIndex: 478242 entries, 0 to 478241\n",
      "Data columns (total 4 columns):\n",
      " #   Column         Non-Null Count   Dtype         \n",
      "---  ------         --------------   -----         \n",
      " 0   Patient_uid    478242 non-null  object        \n",
      " 1   OrderedbyDate  478242 non-null  datetime64[ns]\n",
      " 2   TestName       478242 non-null  object        \n",
      " 3   TestResult     478242 non-null  float64       \n",
      "dtypes: datetime64[ns](1), float64(1), object(2)\n",
      "memory usage: 14.6+ MB\n"
     ]
    }
   ],
   "source": [
    "# Replace text values with 0 in 'TestResult' column\n",
    "patient_tests['TestResult'] = pd.to_numeric(patient_tests['TestResult'], errors='coerce').fillna(0)\n",
    "\n",
    "# Convert 'OrderedbyDate' to datetime \n",
    "patient_tests['OrderedbyDate'] = pd.to_datetime(patient_tests['OrderedbyDate'], errors='coerce')\n",
    "\n",
    "# Convert 'TestResult' column to float data type\n",
    "patient_tests['TestResult'] = patient_tests['TestResult'].astype(float)\n",
    "\n",
    "# Group by 'Patient_uid', sort by 'OrderedbyDate', and get the latest entry for each group\n",
    "recent_tests = patient_tests.sort_values('OrderedbyDate').groupby('Patient_uid').last()\n",
    "\n",
    "# Reset index to make 'Patient_uid' a column\n",
    "recent_tests.reset_index(inplace=True)\n",
    "\n",
    "# View changes\n",
    "recent_tests.info()"
   ]
  },
  {
   "cell_type": "code",
   "execution_count": 43,
   "metadata": {
    "execution": {
     "iopub.execute_input": "2024-05-21T17:08:57.622772Z",
     "iopub.status.busy": "2024-05-21T17:08:57.622508Z",
     "iopub.status.idle": "2024-05-21T17:09:00.531428Z",
     "shell.execute_reply": "2024-05-21T17:09:00.530465Z",
     "shell.execute_reply.started": "2024-05-21T17:08:57.622749Z"
    }
   },
   "outputs": [
    {
     "name": "stdout",
     "output_type": "stream",
     "text": [
      "<class 'pandas.core.frame.DataFrame'>\n",
      "RangeIndex: 478242 entries, 0 to 478241\n",
      "Data columns (total 4 columns):\n",
      " #   Column          Non-Null Count   Dtype  \n",
      "---  ------          --------------   -----  \n",
      " 0   Patient_uid     478242 non-null  object \n",
      " 1   CD4 Count       21754 non-null   float64\n",
      " 2   CD4 Percentage  1916 non-null    float64\n",
      " 3   Viral Load      454572 non-null  float64\n",
      "dtypes: float64(3), object(1)\n",
      "memory usage: 14.6+ MB\n"
     ]
    }
   ],
   "source": [
    "# Find the index of the rows with the most recent test result for each test and patient\n",
    "recent_test_indices = recent_tests.groupby(['TestName', 'Patient_uid'])['OrderedbyDate'].idxmax()\n",
    "\n",
    "# Use the indices to select the corresponding rows\n",
    "most_recent_results = recent_tests.loc[recent_test_indices]\n",
    "\n",
    "# Pivot the DataFrame to have TestName as columns and TestResult as values\n",
    "most_recent_results_pivot = most_recent_results.pivot(index='Patient_uid', columns='TestName', values='TestResult')\n",
    "\n",
    "# Reset the index to make 'Patient_uid' a regular column\n",
    "most_recent_results_pivot.reset_index(inplace=True)\n",
    "\n",
    "# Display the new dataframe with the most recent test results for each test\n",
    "most_recent_results_pivot.info()\n"
   ]
  },
  {
   "cell_type": "code",
   "execution_count": 44,
   "metadata": {
    "execution": {
     "iopub.execute_input": "2024-05-21T17:09:00.532917Z",
     "iopub.status.busy": "2024-05-21T17:09:00.532608Z",
     "iopub.status.idle": "2024-05-21T17:09:00.633571Z",
     "shell.execute_reply": "2024-05-21T17:09:00.632704Z",
     "shell.execute_reply.started": "2024-05-21T17:09:00.532882Z"
    }
   },
   "outputs": [
    {
     "data": {
      "text/plain": [
       "TestName\n",
       "Patient_uid            0\n",
       "CD4 Count         456488\n",
       "CD4 Percentage    476326\n",
       "Viral Load         23670\n",
       "dtype: int64"
      ]
     },
     "execution_count": 44,
     "metadata": {},
     "output_type": "execute_result"
    }
   ],
   "source": [
    "most_recent_results_pivot.isna().sum()"
   ]
  },
  {
   "cell_type": "markdown",
   "metadata": {},
   "source": [
    "From the results of the pivot table we notice that there are very few data points on the CD4 count and CD4 percentage and therefore we wont be able to use these columns for prediction purposes.\n",
    "\n",
    "We will however proceed with the Viral Load feature since it can be used in place of the other two features to indicate the disease progression."
   ]
  },
  {
   "cell_type": "code",
   "execution_count": 45,
   "metadata": {
    "execution": {
     "iopub.execute_input": "2024-05-21T17:09:07.129512Z",
     "iopub.status.busy": "2024-05-21T17:09:07.128878Z",
     "iopub.status.idle": "2024-05-21T17:09:07.166576Z",
     "shell.execute_reply": "2024-05-21T17:09:07.165542Z",
     "shell.execute_reply.started": "2024-05-21T17:09:07.129467Z"
    }
   },
   "outputs": [
    {
     "data": {
      "text/html": [
       "<div>\n",
       "<style scoped>\n",
       "    .dataframe tbody tr th:only-of-type {\n",
       "        vertical-align: middle;\n",
       "    }\n",
       "\n",
       "    .dataframe tbody tr th {\n",
       "        vertical-align: top;\n",
       "    }\n",
       "\n",
       "    .dataframe thead th {\n",
       "        text-align: right;\n",
       "    }\n",
       "</style>\n",
       "<table border=\"1\" class=\"dataframe\">\n",
       "  <thead>\n",
       "    <tr style=\"text-align: right;\">\n",
       "      <th>TestName</th>\n",
       "      <th>Patient_uid</th>\n",
       "      <th>Viral Load</th>\n",
       "    </tr>\n",
       "  </thead>\n",
       "  <tbody>\n",
       "    <tr>\n",
       "      <th>0</th>\n",
       "      <td>00024CAFCC9014E3F0A15887E2467B31037C5741B4E049...</td>\n",
       "      <td>0.0</td>\n",
       "    </tr>\n",
       "    <tr>\n",
       "      <th>1</th>\n",
       "      <td>00024CAFCC9014E3F0A15887E2467B31037C5741B4E049...</td>\n",
       "      <td>40.0</td>\n",
       "    </tr>\n",
       "    <tr>\n",
       "      <th>2</th>\n",
       "      <td>00024CAFCC9014E3F0A15887E2467B31037C5741B4E049...</td>\n",
       "      <td>0.0</td>\n",
       "    </tr>\n",
       "    <tr>\n",
       "      <th>3</th>\n",
       "      <td>00063D813081C740CA5AE358FCCD0A599DCDF651D3281A...</td>\n",
       "      <td>0.0</td>\n",
       "    </tr>\n",
       "    <tr>\n",
       "      <th>4</th>\n",
       "      <td>00063D813081C740CA5AE358FCCD0A599DCDF651D3281A...</td>\n",
       "      <td>0.0</td>\n",
       "    </tr>\n",
       "  </tbody>\n",
       "</table>\n",
       "</div>"
      ],
      "text/plain": [
       "TestName                                        Patient_uid  Viral Load\n",
       "0         00024CAFCC9014E3F0A15887E2467B31037C5741B4E049...         0.0\n",
       "1         00024CAFCC9014E3F0A15887E2467B31037C5741B4E049...        40.0\n",
       "2         00024CAFCC9014E3F0A15887E2467B31037C5741B4E049...         0.0\n",
       "3         00063D813081C740CA5AE358FCCD0A599DCDF651D3281A...         0.0\n",
       "4         00063D813081C740CA5AE358FCCD0A599DCDF651D3281A...         0.0"
      ]
     },
     "execution_count": 45,
     "metadata": {},
     "output_type": "execute_result"
    }
   ],
   "source": [
    "# drop the unwanted columns\n",
    "viral_load = most_recent_results_pivot.drop(columns = ['CD4 Count','CD4 Percentage'])\n",
    "viral_load.head()"
   ]
  },
  {
   "cell_type": "code",
   "execution_count": 46,
   "metadata": {},
   "outputs": [
    {
     "name": "stdout",
     "output_type": "stream",
     "text": [
      "<class 'pandas.core.frame.DataFrame'>\n",
      "RangeIndex: 478242 entries, 0 to 478241\n",
      "Data columns (total 2 columns):\n",
      " #   Column       Non-Null Count   Dtype  \n",
      "---  ------       --------------   -----  \n",
      " 0   Patient_uid  478242 non-null  object \n",
      " 1   Viral Load   454572 non-null  float64\n",
      "dtypes: float64(1), object(1)\n",
      "memory usage: 7.3+ MB\n"
     ]
    }
   ],
   "source": [
    "viral_load.info()"
   ]
  },
  {
   "cell_type": "markdown",
   "metadata": {
    "id": "accdb72b"
   },
   "source": [
    "  #### 6. patient_depression_scr"
   ]
  },
  {
   "cell_type": "code",
   "execution_count": 47,
   "metadata": {
    "execution": {
     "iopub.execute_input": "2024-05-21T17:09:13.918093Z",
     "iopub.status.busy": "2024-05-21T17:09:13.917769Z",
     "iopub.status.idle": "2024-05-21T17:09:14.105853Z",
     "shell.execute_reply": "2024-05-21T17:09:14.104811Z",
     "shell.execute_reply.started": "2024-05-21T17:09:13.918068Z"
    },
    "id": "b0ae52de"
   },
   "outputs": [
    {
     "name": "stdout",
     "output_type": "stream",
     "text": [
      "<class 'pandas.core.frame.DataFrame'>\n",
      "Index: 606357 entries, 7 to 1763283\n",
      "Data columns (total 4 columns):\n",
      " #   Column                    Non-Null Count   Dtype  \n",
      "---  ------                    --------------   -----  \n",
      " 0   Patient_uid               606357 non-null  object \n",
      " 1   VisitDate                 606357 non-null  object \n",
      " 2   PHQ_9_rating              606357 non-null  object \n",
      " 3   DepressionAssesmentScore  0 non-null       float64\n",
      "dtypes: float64(1), object(3)\n",
      "memory usage: 23.1+ MB\n"
     ]
    }
   ],
   "source": [
    "# Get the information\n",
    "patient_depression_scr.info()"
   ]
  },
  {
   "cell_type": "code",
   "execution_count": 48,
   "metadata": {
    "execution": {
     "iopub.execute_input": "2024-05-21T17:09:17.507255Z",
     "iopub.status.busy": "2024-05-21T17:09:17.506374Z",
     "iopub.status.idle": "2024-05-21T17:09:17.693329Z",
     "shell.execute_reply": "2024-05-21T17:09:17.692319Z",
     "shell.execute_reply.started": "2024-05-21T17:09:17.507221Z"
    },
    "id": "5d4d5835"
   },
   "outputs": [
    {
     "data": {
      "text/plain": [
       "Patient_uid                      0\n",
       "VisitDate                        0\n",
       "PHQ_9_rating                     0\n",
       "DepressionAssesmentScore    606357\n",
       "dtype: int64"
      ]
     },
     "execution_count": 48,
     "metadata": {},
     "output_type": "execute_result"
    }
   ],
   "source": [
    "# check for missing values\n",
    "patient_depression_scr.isna().sum()"
   ]
  },
  {
   "cell_type": "code",
   "execution_count": 49,
   "metadata": {},
   "outputs": [
    {
     "data": {
      "text/html": [
       "<div>\n",
       "<style scoped>\n",
       "    .dataframe tbody tr th:only-of-type {\n",
       "        vertical-align: middle;\n",
       "    }\n",
       "\n",
       "    .dataframe tbody tr th {\n",
       "        vertical-align: top;\n",
       "    }\n",
       "\n",
       "    .dataframe thead th {\n",
       "        text-align: right;\n",
       "    }\n",
       "</style>\n",
       "<table border=\"1\" class=\"dataframe\">\n",
       "  <thead>\n",
       "    <tr style=\"text-align: right;\">\n",
       "      <th></th>\n",
       "      <th>Patient_uid</th>\n",
       "      <th>PHQ_9_rating</th>\n",
       "    </tr>\n",
       "  </thead>\n",
       "  <tbody>\n",
       "    <tr>\n",
       "      <th>7</th>\n",
       "      <td>7A31D0A5810D6D14151D2F72C09AC936916FCECF78AE6A...</td>\n",
       "      <td>Depression unlikely</td>\n",
       "    </tr>\n",
       "    <tr>\n",
       "      <th>9</th>\n",
       "      <td>E6DA192A645AB237FC8E3AB655CD41B85856E116048415...</td>\n",
       "      <td>Depression unlikely</td>\n",
       "    </tr>\n",
       "    <tr>\n",
       "      <th>13</th>\n",
       "      <td>1A950AC8770FF4D61D0065D6F12D7A2526153A0CB42862...</td>\n",
       "      <td>Depression unlikely</td>\n",
       "    </tr>\n",
       "    <tr>\n",
       "      <th>15</th>\n",
       "      <td>9B610988E512CFC1C16CAE77EB6C0E78961E443F57C293...</td>\n",
       "      <td>Depression unlikely</td>\n",
       "    </tr>\n",
       "    <tr>\n",
       "      <th>17</th>\n",
       "      <td>DC60CC09D0B1A734061DEC59DE591AAC2B7E057503133E...</td>\n",
       "      <td>Depression unlikely</td>\n",
       "    </tr>\n",
       "  </tbody>\n",
       "</table>\n",
       "</div>"
      ],
      "text/plain": [
       "                                          Patient_uid         PHQ_9_rating\n",
       "7   7A31D0A5810D6D14151D2F72C09AC936916FCECF78AE6A...  Depression unlikely\n",
       "9   E6DA192A645AB237FC8E3AB655CD41B85856E116048415...  Depression unlikely\n",
       "13  1A950AC8770FF4D61D0065D6F12D7A2526153A0CB42862...  Depression unlikely\n",
       "15  9B610988E512CFC1C16CAE77EB6C0E78961E443F57C293...  Depression unlikely\n",
       "17  DC60CC09D0B1A734061DEC59DE591AAC2B7E057503133E...  Depression unlikely"
      ]
     },
     "execution_count": 49,
     "metadata": {},
     "output_type": "execute_result"
    }
   ],
   "source": [
    "# convert the VisitDate column into date time data type\n",
    "patient_depression_scr['VisitDate'] = pd.to_datetime(patient_depression_scr['VisitDate'])\n",
    "\n",
    "# we drop the DepressionAssesmentScore and VisitDate columns\n",
    "patient_depression_scr.drop(columns= [\"DepressionAssesmentScore\",\"VisitDate\"], inplace=True)\n",
    "\n",
    "patient_depression_scr.head()"
   ]
  },
  {
   "cell_type": "markdown",
   "metadata": {
    "id": "071c6bb0"
   },
   "source": [
    "### Merging The Datasets"
   ]
  },
  {
   "cell_type": "code",
   "execution_count": 50,
   "metadata": {
    "execution": {
     "iopub.execute_input": "2024-05-21T17:09:26.027342Z",
     "iopub.status.busy": "2024-05-21T17:09:26.027012Z",
     "iopub.status.idle": "2024-05-21T17:09:29.719293Z",
     "shell.execute_reply": "2024-05-21T17:09:29.718410Z",
     "shell.execute_reply.started": "2024-05-21T17:09:26.027317Z"
    },
    "id": "3feb5dd2"
   },
   "outputs": [
    {
     "data": {
      "text/html": [
       "<div>\n",
       "<style scoped>\n",
       "    .dataframe tbody tr th:only-of-type {\n",
       "        vertical-align: middle;\n",
       "    }\n",
       "\n",
       "    .dataframe tbody tr th {\n",
       "        vertical-align: top;\n",
       "    }\n",
       "\n",
       "    .dataframe thead th {\n",
       "        text-align: right;\n",
       "    }\n",
       "</style>\n",
       "<table border=\"1\" class=\"dataframe\">\n",
       "  <thead>\n",
       "    <tr style=\"text-align: right;\">\n",
       "      <th></th>\n",
       "      <th>Patient_uid</th>\n",
       "      <th>SiteCode</th>\n",
       "      <th>FacilityName</th>\n",
       "      <th>Region</th>\n",
       "      <th>Gender</th>\n",
       "      <th>LastVisit</th>\n",
       "      <th>EducationLevel</th>\n",
       "      <th>Occupation</th>\n",
       "      <th>MaritalStatus</th>\n",
       "      <th>AgeLastVisit</th>\n",
       "      <th>AgeARTStart</th>\n",
       "      <th>StartRegimen</th>\n",
       "      <th>LastRegimen</th>\n",
       "      <th>ArtAdherence</th>\n",
       "      <th>VisitDate</th>\n",
       "      <th>NextAppointmentDate</th>\n",
       "      <th>NextVisit</th>\n",
       "      <th>Status</th>\n",
       "      <th>Viral Load</th>\n",
       "      <th>PHQ_9_rating</th>\n",
       "    </tr>\n",
       "  </thead>\n",
       "  <tbody>\n",
       "    <tr>\n",
       "      <th>0</th>\n",
       "      <td>78F96823AC7AD6E060E8D69DF686760669A4CCFD34EE70...</td>\n",
       "      <td>16800</td>\n",
       "      <td>Lea Toto Clinic (Westlands)</td>\n",
       "      <td>Nairobi</td>\n",
       "      <td>Female</td>\n",
       "      <td>2022-01-19</td>\n",
       "      <td>Unknown</td>\n",
       "      <td>OTHER</td>\n",
       "      <td>Unknown</td>\n",
       "      <td>20.0</td>\n",
       "      <td>19.0</td>\n",
       "      <td>3TC+DTG+TDF</td>\n",
       "      <td>3TC+DTG+TDF</td>\n",
       "      <td>NaN</td>\n",
       "      <td>NaT</td>\n",
       "      <td>NaT</td>\n",
       "      <td>NaT</td>\n",
       "      <td>NaN</td>\n",
       "      <td>NaN</td>\n",
       "      <td>NaN</td>\n",
       "    </tr>\n",
       "    <tr>\n",
       "      <th>1</th>\n",
       "      <td>FE9A28A6208798FCA425FB02E28B30ACF4DAAAD5E7D2F3...</td>\n",
       "      <td>18828</td>\n",
       "      <td>Lea Toto Zimmerman</td>\n",
       "      <td>Nairobi</td>\n",
       "      <td>Female</td>\n",
       "      <td>2022-01-10</td>\n",
       "      <td>Unknown</td>\n",
       "      <td>OTHER</td>\n",
       "      <td>Unknown</td>\n",
       "      <td>16.0</td>\n",
       "      <td>14.0</td>\n",
       "      <td>3TC+DTG+TDF</td>\n",
       "      <td>3TC+DTG+TDF</td>\n",
       "      <td>NaN</td>\n",
       "      <td>NaT</td>\n",
       "      <td>NaT</td>\n",
       "      <td>NaT</td>\n",
       "      <td>NaN</td>\n",
       "      <td>NaN</td>\n",
       "      <td>NaN</td>\n",
       "    </tr>\n",
       "    <tr>\n",
       "      <th>2</th>\n",
       "      <td>A38CB015A0BA15BAC709E502AD9A68632EF7D63C45575F...</td>\n",
       "      <td>12965</td>\n",
       "      <td>Guru Nanak Hospital</td>\n",
       "      <td>Nairobi</td>\n",
       "      <td>Female</td>\n",
       "      <td>2023-11-08</td>\n",
       "      <td>Unknown</td>\n",
       "      <td>OTHER</td>\n",
       "      <td>Single</td>\n",
       "      <td>44.0</td>\n",
       "      <td>37.0</td>\n",
       "      <td>3TC+EFV+TDF</td>\n",
       "      <td>3TC+DTG+TDF</td>\n",
       "      <td>good</td>\n",
       "      <td>2022-11-03</td>\n",
       "      <td>2023-05-03</td>\n",
       "      <td>2023-04-26</td>\n",
       "      <td>In Treatment</td>\n",
       "      <td>21.0</td>\n",
       "      <td>NaN</td>\n",
       "    </tr>\n",
       "    <tr>\n",
       "      <th>3</th>\n",
       "      <td>DC628EEC29CD06711202042DB171BB4053CFB1B7D3C57C...</td>\n",
       "      <td>12965</td>\n",
       "      <td>Guru Nanak Hospital</td>\n",
       "      <td>Nairobi</td>\n",
       "      <td>Female</td>\n",
       "      <td>2023-12-07</td>\n",
       "      <td>Unknown</td>\n",
       "      <td>OTHER</td>\n",
       "      <td>Single</td>\n",
       "      <td>45.0</td>\n",
       "      <td>38.0</td>\n",
       "      <td>3TC+AZT+EFV</td>\n",
       "      <td>3TC+DTG+TDF</td>\n",
       "      <td>good</td>\n",
       "      <td>2023-01-25</td>\n",
       "      <td>2023-04-20</td>\n",
       "      <td>2023-05-08</td>\n",
       "      <td>In Treatment</td>\n",
       "      <td>59.0</td>\n",
       "      <td>NaN</td>\n",
       "    </tr>\n",
       "    <tr>\n",
       "      <th>4</th>\n",
       "      <td>7B9AFEBB3092D6229690F152A77507B931EB4AA1A7E4D1...</td>\n",
       "      <td>18828</td>\n",
       "      <td>Lea Toto Zimmerman</td>\n",
       "      <td>Nairobi</td>\n",
       "      <td>Female</td>\n",
       "      <td>2022-01-13</td>\n",
       "      <td>Unknown</td>\n",
       "      <td>OTHER</td>\n",
       "      <td>Unknown</td>\n",
       "      <td>11.0</td>\n",
       "      <td>9.0</td>\n",
       "      <td>3TC+ABC+EFV</td>\n",
       "      <td>3TC+ABC+EFV</td>\n",
       "      <td>NaN</td>\n",
       "      <td>NaT</td>\n",
       "      <td>NaT</td>\n",
       "      <td>NaT</td>\n",
       "      <td>NaN</td>\n",
       "      <td>NaN</td>\n",
       "      <td>NaN</td>\n",
       "    </tr>\n",
       "  </tbody>\n",
       "</table>\n",
       "</div>"
      ],
      "text/plain": [
       "                                         Patient_uid  SiteCode  \\\n",
       "0  78F96823AC7AD6E060E8D69DF686760669A4CCFD34EE70...     16800   \n",
       "1  FE9A28A6208798FCA425FB02E28B30ACF4DAAAD5E7D2F3...     18828   \n",
       "2  A38CB015A0BA15BAC709E502AD9A68632EF7D63C45575F...     12965   \n",
       "3  DC628EEC29CD06711202042DB171BB4053CFB1B7D3C57C...     12965   \n",
       "4  7B9AFEBB3092D6229690F152A77507B931EB4AA1A7E4D1...     18828   \n",
       "\n",
       "                  FacilityName   Region  Gender  LastVisit EducationLevel  \\\n",
       "0  Lea Toto Clinic (Westlands)  Nairobi  Female 2022-01-19        Unknown   \n",
       "1           Lea Toto Zimmerman  Nairobi  Female 2022-01-10        Unknown   \n",
       "2          Guru Nanak Hospital  Nairobi  Female 2023-11-08        Unknown   \n",
       "3          Guru Nanak Hospital  Nairobi  Female 2023-12-07        Unknown   \n",
       "4           Lea Toto Zimmerman  Nairobi  Female 2022-01-13        Unknown   \n",
       "\n",
       "  Occupation MaritalStatus  AgeLastVisit  AgeARTStart StartRegimen  \\\n",
       "0      OTHER       Unknown          20.0         19.0  3TC+DTG+TDF   \n",
       "1      OTHER       Unknown          16.0         14.0  3TC+DTG+TDF   \n",
       "2      OTHER        Single          44.0         37.0  3TC+EFV+TDF   \n",
       "3      OTHER        Single          45.0         38.0  3TC+AZT+EFV   \n",
       "4      OTHER       Unknown          11.0          9.0  3TC+ABC+EFV   \n",
       "\n",
       "   LastRegimen ArtAdherence  VisitDate NextAppointmentDate  NextVisit  \\\n",
       "0  3TC+DTG+TDF          NaN        NaT                 NaT        NaT   \n",
       "1  3TC+DTG+TDF          NaN        NaT                 NaT        NaT   \n",
       "2  3TC+DTG+TDF         good 2022-11-03          2023-05-03 2023-04-26   \n",
       "3  3TC+DTG+TDF         good 2023-01-25          2023-04-20 2023-05-08   \n",
       "4  3TC+ABC+EFV          NaN        NaT                 NaT        NaT   \n",
       "\n",
       "         Status  Viral Load PHQ_9_rating  \n",
       "0           NaN         NaN          NaN  \n",
       "1           NaN         NaN          NaN  \n",
       "2  In Treatment        21.0          NaN  \n",
       "3  In Treatment        59.0          NaN  \n",
       "4           NaN         NaN          NaN  "
      ]
     },
     "execution_count": 50,
     "metadata": {},
     "output_type": "execute_result"
    }
   ],
   "source": [
    "clean_dfs = [ct_patients, clean_art_patients, clean_visits, viral_load, patient_depression_scr]\n",
    "\n",
    "# Merge dataframes on 'Patient_uid' column\n",
    "merged_df = None\n",
    "for df in clean_dfs:\n",
    "    if merged_df is None:\n",
    "        merged_df = df\n",
    "    else:\n",
    "        merged_df = pd.merge(merged_df, df, on='Patient_uid', how='left')\n",
    "\n",
    "merged_df.head()"
   ]
  },
  {
   "cell_type": "code",
   "execution_count": 51,
   "metadata": {
    "execution": {
     "iopub.execute_input": "2024-05-21T17:09:34.132205Z",
     "iopub.status.busy": "2024-05-21T17:09:34.131861Z",
     "iopub.status.idle": "2024-05-21T17:09:35.195508Z",
     "shell.execute_reply": "2024-05-21T17:09:35.194521Z",
     "shell.execute_reply.started": "2024-05-21T17:09:34.132181Z"
    },
    "id": "e139a039"
   },
   "outputs": [
    {
     "name": "stdout",
     "output_type": "stream",
     "text": [
      "<class 'pandas.core.frame.DataFrame'>\n",
      "RangeIndex: 964154 entries, 0 to 964153\n",
      "Data columns (total 20 columns):\n",
      " #   Column               Non-Null Count   Dtype         \n",
      "---  ------               --------------   -----         \n",
      " 0   Patient_uid          964154 non-null  object        \n",
      " 1   SiteCode             964154 non-null  int64         \n",
      " 2   FacilityName         964154 non-null  object        \n",
      " 3   Region               964154 non-null  object        \n",
      " 4   Gender               964154 non-null  object        \n",
      " 5   LastVisit            964154 non-null  datetime64[ns]\n",
      " 6   EducationLevel       964154 non-null  object        \n",
      " 7   Occupation           964154 non-null  object        \n",
      " 8   MaritalStatus        964154 non-null  object        \n",
      " 9   AgeLastVisit         946844 non-null  float64       \n",
      " 10  AgeARTStart          947649 non-null  float64       \n",
      " 11  StartRegimen         959099 non-null  object        \n",
      " 12  LastRegimen          959099 non-null  object        \n",
      " 13  ArtAdherence         911694 non-null  object        \n",
      " 14  VisitDate            911694 non-null  datetime64[ns]\n",
      " 15  NextAppointmentDate  911694 non-null  datetime64[ns]\n",
      " 16  NextVisit            911694 non-null  datetime64[ns]\n",
      " 17  Status               911694 non-null  object        \n",
      " 18  Viral Load           783481 non-null  float64       \n",
      " 19  PHQ_9_rating         606357 non-null  object        \n",
      "dtypes: datetime64[ns](4), float64(3), int64(1), object(12)\n",
      "memory usage: 147.1+ MB\n"
     ]
    }
   ],
   "source": [
    "merged_df.info()"
   ]
  },
  {
   "cell_type": "code",
   "execution_count": 52,
   "metadata": {
    "execution": {
     "iopub.execute_input": "2024-05-21T17:09:46.348666Z",
     "iopub.status.busy": "2024-05-21T17:09:46.347737Z",
     "iopub.status.idle": "2024-05-21T17:09:49.249020Z",
     "shell.execute_reply": "2024-05-21T17:09:49.248063Z",
     "shell.execute_reply.started": "2024-05-21T17:09:46.348634Z"
    }
   },
   "outputs": [
    {
     "data": {
      "text/plain": [
       "Patient_uid                 0\n",
       "SiteCode                    0\n",
       "FacilityName                0\n",
       "Region                      0\n",
       "Gender                      0\n",
       "LastVisit                   0\n",
       "EducationLevel              0\n",
       "Occupation                  0\n",
       "MaritalStatus               0\n",
       "AgeLastVisit            17310\n",
       "AgeARTStart             16505\n",
       "StartRegimen             5055\n",
       "LastRegimen              5055\n",
       "ArtAdherence            52460\n",
       "VisitDate               52460\n",
       "NextAppointmentDate     52460\n",
       "NextVisit               52460\n",
       "Status                  52460\n",
       "Viral Load             180673\n",
       "PHQ_9_rating           357797\n",
       "dtype: int64"
      ]
     },
     "execution_count": 52,
     "metadata": {},
     "output_type": "execute_result"
    }
   ],
   "source": [
    "# drop any duplicate entires that might be present  and check for missing values\n",
    "merged_df.drop_duplicates()\n",
    "merged_df.isna().sum()"
   ]
  },
  {
   "cell_type": "code",
   "execution_count": 54,
   "metadata": {
    "execution": {
     "iopub.execute_input": "2024-05-21T17:10:15.745741Z",
     "iopub.status.busy": "2024-05-21T17:10:15.745031Z",
     "iopub.status.idle": "2024-05-21T17:10:16.888485Z",
     "shell.execute_reply": "2024-05-21T17:10:16.887522Z",
     "shell.execute_reply.started": "2024-05-21T17:10:15.745712Z"
    },
    "id": "95216b04"
   },
   "outputs": [
    {
     "name": "stdout",
     "output_type": "stream",
     "text": [
      "<class 'pandas.core.frame.DataFrame'>\n",
      "RangeIndex: 964154 entries, 0 to 964153\n",
      "Data columns (total 19 columns):\n",
      " #   Column               Non-Null Count   Dtype         \n",
      "---  ------               --------------   -----         \n",
      " 0   Patient_uid          964154 non-null  object        \n",
      " 1   SiteCode             964154 non-null  int64         \n",
      " 2   Region               964154 non-null  object        \n",
      " 3   Gender               964154 non-null  object        \n",
      " 4   LastVisit            964154 non-null  datetime64[ns]\n",
      " 5   EducationLevel       964154 non-null  object        \n",
      " 6   Occupation           964154 non-null  object        \n",
      " 7   MaritalStatus        964154 non-null  object        \n",
      " 8   AgeLastVisit         946844 non-null  float64       \n",
      " 9   AgeARTStart          947649 non-null  float64       \n",
      " 10  StartRegimen         959099 non-null  object        \n",
      " 11  LastRegimen          959099 non-null  object        \n",
      " 12  ArtAdherence         911694 non-null  object        \n",
      " 13  VisitDate            911694 non-null  datetime64[ns]\n",
      " 14  NextAppointmentDate  911694 non-null  datetime64[ns]\n",
      " 15  NextVisit            911694 non-null  datetime64[ns]\n",
      " 16  Status               911694 non-null  object        \n",
      " 17  Viral Load           783481 non-null  float64       \n",
      " 18  PHQ_9_rating         606357 non-null  object        \n",
      "dtypes: datetime64[ns](4), float64(3), int64(1), object(11)\n",
      "memory usage: 139.8+ MB\n"
     ]
    }
   ],
   "source": [
    "# Drop the FacilityName column \n",
    "merged_df.drop(columns=['FacilityName'], inplace=True)\n",
    "\n",
    "merged_df.info()"
   ]
  },
  {
   "cell_type": "code",
   "execution_count": 55,
   "metadata": {},
   "outputs": [
    {
     "data": {
      "text/plain": [
       "array([nan, 'Depression unlikely', 'Mild depression',\n",
       "       'Moderate depression', 'depression unlikely', 'Severe depression',\n",
       "       'Moderate severe depression', 'mild depression',\n",
       "       'moderate depression', 'moderate severe depression',\n",
       "       'severe depression', 'Moderate-Severe depression'], dtype=object)"
      ]
     },
     "execution_count": 55,
     "metadata": {},
     "output_type": "execute_result"
    }
   ],
   "source": [
    "merged_df['PHQ_9_rating'].unique()"
   ]
  },
  {
   "cell_type": "code",
   "execution_count": 56,
   "metadata": {},
   "outputs": [],
   "source": [
    "# renaming the dataframe\n",
    "final_df = merged_df.dropna()"
   ]
  },
  {
   "cell_type": "code",
   "execution_count": 57,
   "metadata": {},
   "outputs": [
    {
     "name": "stdout",
     "output_type": "stream",
     "text": [
      "<class 'pandas.core.frame.DataFrame'>\n",
      "Index: 541099 entries, 80 to 964152\n",
      "Data columns (total 19 columns):\n",
      " #   Column               Non-Null Count   Dtype         \n",
      "---  ------               --------------   -----         \n",
      " 0   Patient_uid          541099 non-null  object        \n",
      " 1   SiteCode             541099 non-null  int64         \n",
      " 2   Region               541099 non-null  object        \n",
      " 3   Gender               541099 non-null  object        \n",
      " 4   LastVisit            541099 non-null  datetime64[ns]\n",
      " 5   EducationLevel       541099 non-null  object        \n",
      " 6   Occupation           541099 non-null  object        \n",
      " 7   MaritalStatus        541099 non-null  object        \n",
      " 8   AgeLastVisit         541099 non-null  float64       \n",
      " 9   AgeARTStart          541099 non-null  float64       \n",
      " 10  StartRegimen         541099 non-null  object        \n",
      " 11  LastRegimen          541099 non-null  object        \n",
      " 12  ArtAdherence         541099 non-null  object        \n",
      " 13  VisitDate            541099 non-null  datetime64[ns]\n",
      " 14  NextAppointmentDate  541099 non-null  datetime64[ns]\n",
      " 15  NextVisit            541099 non-null  datetime64[ns]\n",
      " 16  Status               541099 non-null  object        \n",
      " 17  Viral Load           541099 non-null  float64       \n",
      " 18  PHQ_9_rating         541099 non-null  object        \n",
      "dtypes: datetime64[ns](4), float64(3), int64(1), object(11)\n",
      "memory usage: 82.6+ MB\n"
     ]
    }
   ],
   "source": [
    "final_df.info()"
   ]
  },
  {
   "cell_type": "markdown",
   "metadata": {},
   "source": [
    "Now we want to consider those patients who might have exited care treatment because they are dead or transfered out and update their status accordingly."
   ]
  },
  {
   "cell_type": "code",
   "execution_count": 58,
   "metadata": {
    "execution": {
     "iopub.execute_input": "2024-05-21T17:10:52.284663Z",
     "iopub.status.busy": "2024-05-21T17:10:52.284301Z",
     "iopub.status.idle": "2024-05-21T17:10:52.668413Z",
     "shell.execute_reply": "2024-05-21T17:10:52.667522Z",
     "shell.execute_reply.started": "2024-05-21T17:10:52.284634Z"
    }
   },
   "outputs": [
    {
     "data": {
      "text/html": [
       "<div>\n",
       "<style scoped>\n",
       "    .dataframe tbody tr th:only-of-type {\n",
       "        vertical-align: middle;\n",
       "    }\n",
       "\n",
       "    .dataframe tbody tr th {\n",
       "        vertical-align: top;\n",
       "    }\n",
       "\n",
       "    .dataframe thead th {\n",
       "        text-align: right;\n",
       "    }\n",
       "</style>\n",
       "<table border=\"1\" class=\"dataframe\">\n",
       "  <thead>\n",
       "    <tr style=\"text-align: right;\">\n",
       "      <th></th>\n",
       "      <th>Unnamed: 0</th>\n",
       "      <th>PatientPKHash</th>\n",
       "      <th>SiteCode</th>\n",
       "      <th>ExitDate</th>\n",
       "      <th>ExitReason</th>\n",
       "    </tr>\n",
       "  </thead>\n",
       "  <tbody>\n",
       "    <tr>\n",
       "      <th>0</th>\n",
       "      <td>1</td>\n",
       "      <td>C8B6E7C50A1530F4130D101A64940A1E8E02F8154C41AA...</td>\n",
       "      <td>13089</td>\n",
       "      <td>2022-02-03</td>\n",
       "      <td>Transfer Out</td>\n",
       "    </tr>\n",
       "    <tr>\n",
       "      <th>1</th>\n",
       "      <td>2</td>\n",
       "      <td>0E41F33A53596B218FA47D6F17D6413D33E44FC159EF5C...</td>\n",
       "      <td>10786</td>\n",
       "      <td>2022-01-07</td>\n",
       "      <td>Transfer Out</td>\n",
       "    </tr>\n",
       "    <tr>\n",
       "      <th>2</th>\n",
       "      <td>3</td>\n",
       "      <td>8AF1826B4A1C2115D3A0AB7C48480F22787FAF1C316BF7...</td>\n",
       "      <td>12871</td>\n",
       "      <td>2022-01-19</td>\n",
       "      <td>Transfer Out</td>\n",
       "    </tr>\n",
       "    <tr>\n",
       "      <th>3</th>\n",
       "      <td>4</td>\n",
       "      <td>AFF5E6C33C8499EAAF755947E27F8DBDA5E9C0B65A9FFC...</td>\n",
       "      <td>12871</td>\n",
       "      <td>2022-01-24</td>\n",
       "      <td>Transfer Out</td>\n",
       "    </tr>\n",
       "    <tr>\n",
       "      <th>4</th>\n",
       "      <td>5</td>\n",
       "      <td>0921593922E55C539DD4872C55C180FEE6A97B680F96F9...</td>\n",
       "      <td>14749</td>\n",
       "      <td>2023-07-13</td>\n",
       "      <td>Transfer Out</td>\n",
       "    </tr>\n",
       "  </tbody>\n",
       "</table>\n",
       "</div>"
      ],
      "text/plain": [
       "   Unnamed: 0                                      PatientPKHash  SiteCode  \\\n",
       "0           1  C8B6E7C50A1530F4130D101A64940A1E8E02F8154C41AA...     13089   \n",
       "1           2  0E41F33A53596B218FA47D6F17D6413D33E44FC159EF5C...     10786   \n",
       "2           3  8AF1826B4A1C2115D3A0AB7C48480F22787FAF1C316BF7...     12871   \n",
       "3           4  AFF5E6C33C8499EAAF755947E27F8DBDA5E9C0B65A9FFC...     12871   \n",
       "4           5  0921593922E55C539DD4872C55C180FEE6A97B680F96F9...     14749   \n",
       "\n",
       "     ExitDate    ExitReason  \n",
       "0  2022-02-03  Transfer Out  \n",
       "1  2022-01-07  Transfer Out  \n",
       "2  2022-01-19  Transfer Out  \n",
       "3  2022-01-24  Transfer Out  \n",
       "4  2023-07-13  Transfer Out  "
      ]
     },
     "execution_count": 58,
     "metadata": {},
     "output_type": "execute_result"
    }
   ],
   "source": [
    "# import the status dataset\n",
    "patient_status = pd.read_csv('CT_PatientStatus.csv')\n",
    "patient_status.head()"
   ]
  },
  {
   "cell_type": "code",
   "execution_count": 59,
   "metadata": {
    "execution": {
     "iopub.execute_input": "2024-05-21T17:12:29.106471Z",
     "iopub.status.busy": "2024-05-21T17:12:29.106072Z",
     "iopub.status.idle": "2024-05-21T17:12:29.121594Z",
     "shell.execute_reply": "2024-05-21T17:12:29.120665Z",
     "shell.execute_reply.started": "2024-05-21T17:12:29.106429Z"
    }
   },
   "outputs": [
    {
     "data": {
      "text/plain": [
       "array(['Transfer Out', 'ltfu', nan, 'Died', 'HIV-', 'OTHER', 'ENDPMTCT',\n",
       "       'ENDPEPPREP', 'ENDTREAT', 'transfer_out', 'Transferred out',\n",
       "       'Unknown', 'OTHER NON-CODED', 'COMPLETED', 'Stopped Treatment',\n",
       "       'dead', 'PREPLOWRISK'], dtype=object)"
      ]
     },
     "execution_count": 59,
     "metadata": {},
     "output_type": "execute_result"
    }
   ],
   "source": [
    "patient_status['ExitReason'].unique()"
   ]
  },
  {
   "cell_type": "code",
   "execution_count": 60,
   "metadata": {
    "execution": {
     "iopub.execute_input": "2024-05-21T17:12:35.217537Z",
     "iopub.status.busy": "2024-05-21T17:12:35.217141Z",
     "iopub.status.idle": "2024-05-21T17:12:35.276020Z",
     "shell.execute_reply": "2024-05-21T17:12:35.275124Z",
     "shell.execute_reply.started": "2024-05-21T17:12:35.217489Z"
    }
   },
   "outputs": [
    {
     "name": "stdout",
     "output_type": "stream",
     "text": [
      "['Transfer Out' 'IIT' 'Unknown' 'Died' 'HIV Negative' 'Other' 'End PMTCT'\n",
      " 'End PEP/PrEP' 'End Treatment' 'Completed' 'Stopped Treatment'\n",
      " 'PrEP Low Risk']\n"
     ]
    }
   ],
   "source": [
    "# Define the mapping for standardizing the ExitReason values\n",
    "exit_reason_mapping = {\n",
    "    'Transfer Out': 'Transfer Out',\n",
    "    'transfer_out': 'Transfer Out',\n",
    "    'Transferred out': 'Transfer Out',\n",
    "    'ltfu': 'IIT',\n",
    "    'Died': 'Died',\n",
    "    'dead': 'Died',\n",
    "    'HIV-': 'HIV Negative',\n",
    "    'OTHER': 'Other',\n",
    "    'OTHER NON-CODED': 'Other',\n",
    "    'ENDPMTCT': 'End PMTCT',\n",
    "    'ENDPEPPREP': 'End PEP/PrEP',\n",
    "    'ENDTREAT': 'End Treatment',\n",
    "    'COMPLETED': 'Completed',\n",
    "    'Stopped Treatment': 'Stopped Treatment',\n",
    "    'PREPLOWRISK': 'PrEP Low Risk',\n",
    "    'Unknown': 'Unknown'\n",
    "}\n",
    "\n",
    "# Apply the mapping to the ExitReason column\n",
    "patient_status['ExitReason'] = patient_status['ExitReason'].map(exit_reason_mapping)\n",
    "\n",
    "# Handle any remaining NaN values by filling with 'Unknown'\n",
    "patient_status['ExitReason'].fillna('Unknown', inplace=True)\n",
    "\n",
    "# Verify the changes\n",
    "print(patient_status['ExitReason'].unique())\n"
   ]
  },
  {
   "cell_type": "code",
   "execution_count": 61,
   "metadata": {
    "execution": {
     "iopub.execute_input": "2024-05-21T17:12:42.623003Z",
     "iopub.status.busy": "2024-05-21T17:12:42.622325Z",
     "iopub.status.idle": "2024-05-21T17:12:42.722340Z",
     "shell.execute_reply": "2024-05-21T17:12:42.721387Z",
     "shell.execute_reply.started": "2024-05-21T17:12:42.622972Z"
    }
   },
   "outputs": [],
   "source": [
    "# insert the Patient_uid column \n",
    "patient_status.insert(0, 'Patient_uid', patient_status['PatientPKHash'] + patient_status['SiteCode'].astype(str))"
   ]
  },
  {
   "cell_type": "code",
   "execution_count": 62,
   "metadata": {
    "execution": {
     "iopub.execute_input": "2024-05-21T17:13:05.760799Z",
     "iopub.status.busy": "2024-05-21T17:13:05.759979Z",
     "iopub.status.idle": "2024-05-21T17:13:06.629811Z",
     "shell.execute_reply": "2024-05-21T17:13:06.628911Z",
     "shell.execute_reply.started": "2024-05-21T17:13:05.760768Z"
    }
   },
   "outputs": [
    {
     "data": {
      "text/plain": [
       "array(['In Treatment', 'IIT', 'Transfer Out', 'Died'], dtype=object)"
      ]
     },
     "execution_count": 62,
     "metadata": {},
     "output_type": "execute_result"
    }
   ],
   "source": [
    "# Merge final_df with patient_status to get ExitReason in final_df\n",
    "merged_df = final_df.merge(patient_status[['Patient_uid', 'ExitReason']], on='Patient_uid', how='left')\n",
    "\n",
    "# Update the Status column where ExitReason is 'Died' or 'Transfer Out'\n",
    "merged_df.loc[merged_df['ExitReason'] == 'Died', 'Status'] = 'Died'\n",
    "merged_df.loc[merged_df['ExitReason'] == 'Transfer Out', 'Status'] = 'Transfer Out'\n",
    "\n",
    "# Drop the ExitReason column as it's no longer needed in final_df\n",
    "final_df = merged_df.drop(columns=['ExitReason'])\n",
    "\n",
    "# Verify the updates\n",
    "final_df['Status'].unique()"
   ]
  },
  {
   "cell_type": "code",
   "execution_count": 63,
   "metadata": {},
   "outputs": [
    {
     "data": {
      "text/plain": [
       "array(['UNKNOWN', 'Single', 'MARRIED MONOGAMOUS', 'Unknown', 'DIVORCED',\n",
       "       'WIDOWED', 'MARRIED POLYGAMOUS', 'COHABITING', 'SEPARATED', 'YES',\n",
       "       'OTHER', 'NO'], dtype=object)"
      ]
     },
     "execution_count": 63,
     "metadata": {},
     "output_type": "execute_result"
    }
   ],
   "source": [
    "# checking for issues in the MaritalStatus column\n",
    "final_df['MaritalStatus'].unique()"
   ]
  },
  {
   "cell_type": "code",
   "execution_count": 64,
   "metadata": {},
   "outputs": [
    {
     "data": {
      "text/plain": [
       "array(['UNKNOWN', 'SINGLE', 'MARRIED MONOGAMOUS', 'DIVORCED', 'WIDOWED',\n",
       "       'MARRIED POLYGAMOUS', 'COHABITING', 'SEPARATED', 'OTHER'],\n",
       "      dtype=object)"
      ]
     },
     "execution_count": 64,
     "metadata": {},
     "output_type": "execute_result"
    }
   ],
   "source": [
    "# Standardize casing to uppercase\n",
    "final_df['MaritalStatus'] = final_df['MaritalStatus'].str.upper()\n",
    "\n",
    "# Define a mapping for corrections\n",
    "marital_status_mapping = {\n",
    "    'UNKNOWN': 'UNKNOWN',\n",
    "    'SINGLE': 'SINGLE',\n",
    "    'MARRIED MONOGAMOUS': 'MARRIED MONOGAMOUS',\n",
    "    'DIVORCED': 'DIVORCED',\n",
    "    'WIDOWED': 'WIDOWED',\n",
    "    'MARRIED POLYGAMOUS': 'MARRIED POLYGAMOUS',\n",
    "    'COHABITING': 'COHABITING',\n",
    "    'SEPARATED': 'SEPARATED',\n",
    "    'YES': 'OTHER',  # 'YES' in this context means married but we can't place it clearly\n",
    "    'OTHER': 'OTHER',\n",
    "    'NO': 'SINGLE'    # 'NO' in this context means Single\n",
    "}\n",
    "\n",
    "# Apply the mapping\n",
    "final_df['MaritalStatus'] = final_df['MaritalStatus'].map(marital_status_mapping)\n",
    "\n",
    "# Verify the changes\n",
    "final_df['MaritalStatus'].unique()\n"
   ]
  },
  {
   "cell_type": "code",
   "execution_count": 65,
   "metadata": {},
   "outputs": [
    {
     "name": "stdout",
     "output_type": "stream",
     "text": [
      "<class 'pandas.core.frame.DataFrame'>\n",
      "RangeIndex: 542223 entries, 0 to 542222\n",
      "Data columns (total 19 columns):\n",
      " #   Column               Non-Null Count   Dtype         \n",
      "---  ------               --------------   -----         \n",
      " 0   Patient_uid          542223 non-null  object        \n",
      " 1   SiteCode             542223 non-null  int64         \n",
      " 2   Region               542223 non-null  object        \n",
      " 3   Gender               542223 non-null  object        \n",
      " 4   LastVisit            542223 non-null  datetime64[ns]\n",
      " 5   EducationLevel       542223 non-null  object        \n",
      " 6   Occupation           542223 non-null  object        \n",
      " 7   MaritalStatus        542223 non-null  object        \n",
      " 8   AgeLastVisit         542223 non-null  float64       \n",
      " 9   AgeARTStart          542223 non-null  float64       \n",
      " 10  StartRegimen         542223 non-null  object        \n",
      " 11  LastRegimen          542223 non-null  object        \n",
      " 12  ArtAdherence         542223 non-null  object        \n",
      " 13  VisitDate            542223 non-null  datetime64[ns]\n",
      " 14  NextAppointmentDate  542223 non-null  datetime64[ns]\n",
      " 15  NextVisit            542223 non-null  datetime64[ns]\n",
      " 16  Status               542223 non-null  object        \n",
      " 17  Viral Load           542223 non-null  float64       \n",
      " 18  PHQ_9_rating         542223 non-null  object        \n",
      "dtypes: datetime64[ns](4), float64(3), int64(1), object(11)\n",
      "memory usage: 78.6+ MB\n"
     ]
    }
   ],
   "source": [
    "# drop any missing values\n",
    "final_df.dropna(inplace=True)\n",
    "\n",
    "final_df.info()"
   ]
  },
  {
   "cell_type": "code",
   "execution_count": 66,
   "metadata": {
    "execution": {
     "iopub.execute_input": "2024-05-21T17:16:22.502078Z",
     "iopub.status.busy": "2024-05-21T17:16:22.501440Z",
     "iopub.status.idle": "2024-05-21T17:16:32.557456Z",
     "shell.execute_reply": "2024-05-21T17:16:32.556564Z",
     "shell.execute_reply.started": "2024-05-21T17:16:22.502047Z"
    },
    "id": "dc8544f3"
   },
   "outputs": [],
   "source": [
    "# Writing into a csv file\n",
    "final_df.to_csv('final_dataframe.csv', index=False)"
   ]
  },
  {
   "cell_type": "code",
   "execution_count": 67,
   "metadata": {
    "execution": {
     "iopub.execute_input": "2024-05-21T17:17:00.784676Z",
     "iopub.status.busy": "2024-05-21T17:17:00.784234Z",
     "iopub.status.idle": "2024-05-21T17:17:00.804341Z",
     "shell.execute_reply": "2024-05-21T17:17:00.803405Z",
     "shell.execute_reply.started": "2024-05-21T17:17:00.784647Z"
    },
    "id": "3437a1fd",
    "scrolled": true
   },
   "outputs": [
    {
     "data": {
      "text/html": [
       "<div>\n",
       "<style scoped>\n",
       "    .dataframe tbody tr th:only-of-type {\n",
       "        vertical-align: middle;\n",
       "    }\n",
       "\n",
       "    .dataframe tbody tr th {\n",
       "        vertical-align: top;\n",
       "    }\n",
       "\n",
       "    .dataframe thead th {\n",
       "        text-align: right;\n",
       "    }\n",
       "</style>\n",
       "<table border=\"1\" class=\"dataframe\">\n",
       "  <thead>\n",
       "    <tr style=\"text-align: right;\">\n",
       "      <th></th>\n",
       "      <th>Patient_uid</th>\n",
       "      <th>SiteCode</th>\n",
       "      <th>Region</th>\n",
       "      <th>Gender</th>\n",
       "      <th>LastVisit</th>\n",
       "      <th>EducationLevel</th>\n",
       "      <th>Occupation</th>\n",
       "      <th>MaritalStatus</th>\n",
       "      <th>AgeLastVisit</th>\n",
       "      <th>AgeARTStart</th>\n",
       "      <th>StartRegimen</th>\n",
       "      <th>LastRegimen</th>\n",
       "      <th>ArtAdherence</th>\n",
       "      <th>VisitDate</th>\n",
       "      <th>NextAppointmentDate</th>\n",
       "      <th>NextVisit</th>\n",
       "      <th>Status</th>\n",
       "      <th>Viral Load</th>\n",
       "      <th>PHQ_9_rating</th>\n",
       "    </tr>\n",
       "  </thead>\n",
       "  <tbody>\n",
       "    <tr>\n",
       "      <th>0</th>\n",
       "      <td>C8A44EB779F0FF36AE8256A1499C5771E9D6E23ED82F9B...</td>\n",
       "      <td>13050</td>\n",
       "      <td>Nairobi</td>\n",
       "      <td>Female</td>\n",
       "      <td>2022-07-19</td>\n",
       "      <td>Unknown</td>\n",
       "      <td>OTHER</td>\n",
       "      <td>UNKNOWN</td>\n",
       "      <td>53.0</td>\n",
       "      <td>37.0</td>\n",
       "      <td>3TC+D4T+NVP</td>\n",
       "      <td>3TC+DTG+TDF</td>\n",
       "      <td>good</td>\n",
       "      <td>2022-02-11</td>\n",
       "      <td>2022-08-18</td>\n",
       "      <td>2022-07-19</td>\n",
       "      <td>In Treatment</td>\n",
       "      <td>0.0</td>\n",
       "      <td>Depression unlikely</td>\n",
       "    </tr>\n",
       "    <tr>\n",
       "      <th>1</th>\n",
       "      <td>E0181A2C31135284B5E38E2BE0ED90473820A36E77E5A1...</td>\n",
       "      <td>13050</td>\n",
       "      <td>Nairobi</td>\n",
       "      <td>Female</td>\n",
       "      <td>2022-08-30</td>\n",
       "      <td>Unknown</td>\n",
       "      <td>OTHER</td>\n",
       "      <td>SINGLE</td>\n",
       "      <td>43.0</td>\n",
       "      <td>29.0</td>\n",
       "      <td>3TC+D4T+NVP</td>\n",
       "      <td>3TC+DTG+TDF</td>\n",
       "      <td>good</td>\n",
       "      <td>2022-02-15</td>\n",
       "      <td>2022-08-17</td>\n",
       "      <td>2022-08-30</td>\n",
       "      <td>In Treatment</td>\n",
       "      <td>0.0</td>\n",
       "      <td>Depression unlikely</td>\n",
       "    </tr>\n",
       "    <tr>\n",
       "      <th>2</th>\n",
       "      <td>161E705BF96603E7D40FD5B7F90E0AD30C7D38E2EAAFF5...</td>\n",
       "      <td>13050</td>\n",
       "      <td>Nairobi</td>\n",
       "      <td>Male</td>\n",
       "      <td>2023-11-24</td>\n",
       "      <td>Unknown</td>\n",
       "      <td>OTHER</td>\n",
       "      <td>MARRIED MONOGAMOUS</td>\n",
       "      <td>46.0</td>\n",
       "      <td>32.0</td>\n",
       "      <td>3TC+D4T+NVP</td>\n",
       "      <td>3TC+DTG+TDF</td>\n",
       "      <td>good</td>\n",
       "      <td>2022-12-07</td>\n",
       "      <td>2023-06-01</td>\n",
       "      <td>2023-10-27</td>\n",
       "      <td>IIT</td>\n",
       "      <td>0.0</td>\n",
       "      <td>Depression unlikely</td>\n",
       "    </tr>\n",
       "    <tr>\n",
       "      <th>3</th>\n",
       "      <td>3BF6492C34B80EF0ED51E07B609D27E96F2AED0BE8F730...</td>\n",
       "      <td>13047</td>\n",
       "      <td>Nairobi</td>\n",
       "      <td>Female</td>\n",
       "      <td>2023-03-29</td>\n",
       "      <td>Unknown</td>\n",
       "      <td>OTHER</td>\n",
       "      <td>UNKNOWN</td>\n",
       "      <td>19.0</td>\n",
       "      <td>16.0</td>\n",
       "      <td>3TC+DTG+TDF</td>\n",
       "      <td>3TC+DTG+TDF</td>\n",
       "      <td>good</td>\n",
       "      <td>2023-03-01</td>\n",
       "      <td>2023-03-30</td>\n",
       "      <td>2023-03-29</td>\n",
       "      <td>In Treatment</td>\n",
       "      <td>0.0</td>\n",
       "      <td>Depression unlikely</td>\n",
       "    </tr>\n",
       "    <tr>\n",
       "      <th>4</th>\n",
       "      <td>C55504E721641F5FBB046E7E2C2B5E66EBD85EE0B8C493...</td>\n",
       "      <td>13047</td>\n",
       "      <td>Nairobi</td>\n",
       "      <td>Female</td>\n",
       "      <td>2023-03-16</td>\n",
       "      <td>Unknown</td>\n",
       "      <td>OTHER</td>\n",
       "      <td>UNKNOWN</td>\n",
       "      <td>15.0</td>\n",
       "      <td>11.0</td>\n",
       "      <td>3TC+ABC+EFV</td>\n",
       "      <td>3TC+DTG+TDF</td>\n",
       "      <td>good</td>\n",
       "      <td>2023-01-17</td>\n",
       "      <td>2023-03-15</td>\n",
       "      <td>2023-03-16</td>\n",
       "      <td>In Treatment</td>\n",
       "      <td>0.0</td>\n",
       "      <td>Depression unlikely</td>\n",
       "    </tr>\n",
       "  </tbody>\n",
       "</table>\n",
       "</div>"
      ],
      "text/plain": [
       "                                         Patient_uid  SiteCode   Region  \\\n",
       "0  C8A44EB779F0FF36AE8256A1499C5771E9D6E23ED82F9B...     13050  Nairobi   \n",
       "1  E0181A2C31135284B5E38E2BE0ED90473820A36E77E5A1...     13050  Nairobi   \n",
       "2  161E705BF96603E7D40FD5B7F90E0AD30C7D38E2EAAFF5...     13050  Nairobi   \n",
       "3  3BF6492C34B80EF0ED51E07B609D27E96F2AED0BE8F730...     13047  Nairobi   \n",
       "4  C55504E721641F5FBB046E7E2C2B5E66EBD85EE0B8C493...     13047  Nairobi   \n",
       "\n",
       "   Gender  LastVisit EducationLevel Occupation       MaritalStatus  \\\n",
       "0  Female 2022-07-19        Unknown      OTHER             UNKNOWN   \n",
       "1  Female 2022-08-30        Unknown      OTHER              SINGLE   \n",
       "2    Male 2023-11-24        Unknown      OTHER  MARRIED MONOGAMOUS   \n",
       "3  Female 2023-03-29        Unknown      OTHER             UNKNOWN   \n",
       "4  Female 2023-03-16        Unknown      OTHER             UNKNOWN   \n",
       "\n",
       "   AgeLastVisit  AgeARTStart StartRegimen  LastRegimen ArtAdherence  \\\n",
       "0          53.0         37.0  3TC+D4T+NVP  3TC+DTG+TDF         good   \n",
       "1          43.0         29.0  3TC+D4T+NVP  3TC+DTG+TDF         good   \n",
       "2          46.0         32.0  3TC+D4T+NVP  3TC+DTG+TDF         good   \n",
       "3          19.0         16.0  3TC+DTG+TDF  3TC+DTG+TDF         good   \n",
       "4          15.0         11.0  3TC+ABC+EFV  3TC+DTG+TDF         good   \n",
       "\n",
       "   VisitDate NextAppointmentDate  NextVisit        Status  Viral Load  \\\n",
       "0 2022-02-11          2022-08-18 2022-07-19  In Treatment         0.0   \n",
       "1 2022-02-15          2022-08-17 2022-08-30  In Treatment         0.0   \n",
       "2 2022-12-07          2023-06-01 2023-10-27           IIT         0.0   \n",
       "3 2023-03-01          2023-03-30 2023-03-29  In Treatment         0.0   \n",
       "4 2023-01-17          2023-03-15 2023-03-16  In Treatment         0.0   \n",
       "\n",
       "          PHQ_9_rating  \n",
       "0  Depression unlikely  \n",
       "1  Depression unlikely  \n",
       "2  Depression unlikely  \n",
       "3  Depression unlikely  \n",
       "4  Depression unlikely  "
      ]
     },
     "execution_count": 67,
     "metadata": {},
     "output_type": "execute_result"
    }
   ],
   "source": [
    "final_df.head()"
   ]
  },
  {
   "cell_type": "code",
   "execution_count": 68,
   "metadata": {},
   "outputs": [
    {
     "name": "stdout",
     "output_type": "stream",
     "text": [
      "<class 'pandas.core.frame.DataFrame'>\n",
      "RangeIndex: 542223 entries, 0 to 542222\n",
      "Data columns (total 19 columns):\n",
      " #   Column               Non-Null Count   Dtype         \n",
      "---  ------               --------------   -----         \n",
      " 0   Patient_uid          542223 non-null  object        \n",
      " 1   SiteCode             542223 non-null  int64         \n",
      " 2   Region               542223 non-null  object        \n",
      " 3   Gender               542223 non-null  object        \n",
      " 4   LastVisit            542223 non-null  datetime64[ns]\n",
      " 5   EducationLevel       542223 non-null  object        \n",
      " 6   Occupation           542223 non-null  object        \n",
      " 7   MaritalStatus        542223 non-null  object        \n",
      " 8   AgeLastVisit         542223 non-null  float64       \n",
      " 9   AgeARTStart          542223 non-null  float64       \n",
      " 10  StartRegimen         542223 non-null  object        \n",
      " 11  LastRegimen          542223 non-null  object        \n",
      " 12  ArtAdherence         542223 non-null  object        \n",
      " 13  VisitDate            542223 non-null  datetime64[ns]\n",
      " 14  NextAppointmentDate  542223 non-null  datetime64[ns]\n",
      " 15  NextVisit            542223 non-null  datetime64[ns]\n",
      " 16  Status               542223 non-null  object        \n",
      " 17  Viral Load           542223 non-null  float64       \n",
      " 18  PHQ_9_rating         542223 non-null  object        \n",
      "dtypes: datetime64[ns](4), float64(3), int64(1), object(11)\n",
      "memory usage: 78.6+ MB\n"
     ]
    }
   ],
   "source": [
    "final_df.info()"
   ]
  },
  {
   "cell_type": "markdown",
   "metadata": {
    "id": "24c3cd3a"
   },
   "source": [
    "### DATA VISUALIZATION"
   ]
  },
  {
   "cell_type": "markdown",
   "metadata": {},
   "source": [
    "Now that we have cleaned all the necessary datasets and merged them appropriately, we will now perform EDA on the ```final_df``` dataset which will further be used for modelling.\n",
    "\n",
    "The analysis that follows is based on the ```final_df``` dataset which will also be used later for modelling purposes. In this dataset 542223 patients were considered, which is down from 601947 that we started with at the beginning of the data cleaning phase. \n",
    "\n",
    "The number greatly reduced since some of the patients initially in the ```ct_patients``` dataset didn't have records in the other datasets and vice versa. We focused on the patients with reliable records and this led to the drastic decrease in the number of patients in the merged dataframe since only those patients who had complete records were considered here."
   ]
  },
  {
   "cell_type": "code",
   "execution_count": 69,
   "metadata": {
    "execution": {
     "iopub.execute_input": "2024-05-21T17:45:26.199426Z",
     "iopub.status.busy": "2024-05-21T17:45:26.199084Z",
     "iopub.status.idle": "2024-05-21T17:45:26.973768Z",
     "shell.execute_reply": "2024-05-21T17:45:26.972898Z",
     "shell.execute_reply.started": "2024-05-21T17:45:26.199398Z"
    },
    "id": "32aefe0a"
   },
   "outputs": [
    {
     "data": {
      "image/png": "[encoded data removed]",
      "text/plain": [
       "<Figure size 1000x600 with 1 Axes>"
      ]
     },
     "metadata": {},
     "output_type": "display_data"
    }
   ],
   "source": [
    "# Distribution of Status: Seaborns countplot\n",
    "\n",
    "status = final_df['Status'].value_counts() \n",
    "plt.figure(figsize=(10, 6))\n",
    "sns.countplot(data=final_df, y='Status', palette='inferno')\n",
    "plt.xlabel('Number of patients')\n",
    "plt.ylabel('Status')\n",
    "plt.title('Distribution of status')\n",
    "plt.show()"
   ]
  },
  {
   "cell_type": "code",
   "execution_count": 70,
   "metadata": {
    "execution": {
     "iopub.execute_input": "2024-05-21T18:02:56.621434Z",
     "iopub.status.busy": "2024-05-21T18:02:56.620818Z",
     "iopub.status.idle": "2024-05-21T18:02:56.931560Z",
     "shell.execute_reply": "2024-05-21T18:02:56.930693Z",
     "shell.execute_reply.started": "2024-05-21T18:02:56.621403Z"
    }
   },
   "outputs": [
    {
     "data": {
      "image/png": "[encoded data removed]",
      "text/plain": [
       "<Figure size 1000x600 with 1 Axes>"
      ]
     },
     "metadata": {},
     "output_type": "display_data"
    }
   ],
   "source": [
    "plt.figure(figsize=(10, 6))\n",
    "plt.hist(final_df['AgeLastVisit'], bins=20, color = 'skyblue', edgecolor='k', alpha=0.7)\n",
    "plt.title('Age Distribution at Last Visit')\n",
    "plt.xlabel('Age')\n",
    "plt.ylabel('Frequency')\n",
    "plt.show()\n"
   ]
  },
  {
   "cell_type": "code",
   "execution_count": 71,
   "metadata": {
    "execution": {
     "iopub.execute_input": "2024-05-21T18:04:12.785261Z",
     "iopub.status.busy": "2024-05-21T18:04:12.784577Z",
     "iopub.status.idle": "2024-05-21T18:04:13.097372Z",
     "shell.execute_reply": "2024-05-21T18:04:13.096452Z",
     "shell.execute_reply.started": "2024-05-21T18:04:12.785233Z"
    }
   },
   "outputs": [
    {
     "data": {
      "image/png": "[encoded data removed]",
      "text/plain": [
       "<Figure size 640x480 with 1 Axes>"
      ]
     },
     "metadata": {},
     "output_type": "display_data"
    }
   ],
   "source": [
    "gender_counts = final_df['Gender'].value_counts()\n",
    "gender_counts.plot(kind='bar', color=['lightblue', 'lightcoral'])\n",
    "plt.title('Gender Distribution')\n",
    "plt.xlabel('Gender')\n",
    "plt.ylabel('Count')\n",
    "plt.show()\n"
   ]
  },
  {
   "cell_type": "code",
   "execution_count": 72,
   "metadata": {
    "execution": {
     "iopub.execute_input": "2024-05-21T18:04:32.611851Z",
     "iopub.status.busy": "2024-05-21T18:04:32.611522Z",
     "iopub.status.idle": "2024-05-21T18:04:32.989007Z",
     "shell.execute_reply": "2024-05-21T18:04:32.988193Z",
     "shell.execute_reply.started": "2024-05-21T18:04:32.611827Z"
    }
   },
   "outputs": [
    {
     "data": {
      "image/png": "[encoded data removed]",
      "text/plain": [
       "<Figure size 640x480 with 1 Axes>"
      ]
     },
     "metadata": {},
     "output_type": "display_data"
    }
   ],
   "source": [
    "edu_counts = final_df['EducationLevel'].value_counts()\n",
    "edu_counts.plot(kind='bar', color = 'skyblue')\n",
    "plt.title('Education Level Distribution')\n",
    "plt.xlabel('Education Level')\n",
    "plt.ylabel('Count')\n",
    "plt.show()\n"
   ]
  },
  {
   "cell_type": "code",
   "execution_count": 73,
   "metadata": {
    "execution": {
     "iopub.execute_input": "2024-05-21T18:05:15.123920Z",
     "iopub.status.busy": "2024-05-21T18:05:15.123579Z",
     "iopub.status.idle": "2024-05-21T18:05:15.745408Z",
     "shell.execute_reply": "2024-05-21T18:05:15.744502Z",
     "shell.execute_reply.started": "2024-05-21T18:05:15.123893Z"
    }
   },
   "outputs": [
    {
     "data": {
      "image/png": "[encoded data removed]",
      "text/plain": [
       "<Figure size 1000x600 with 1 Axes>"
      ]
     },
     "metadata": {},
     "output_type": "display_data"
    }
   ],
   "source": [
    "plt.figure(figsize=(10, 6))\n",
    "sns.boxplot(x='Gender', y='AgeLastVisit', data=final_df, color = 'skyblue')\n",
    "plt.title('Age Distribution by Gender')\n",
    "plt.xlabel('Gender')\n",
    "plt.ylabel('Age at Last Visit')\n",
    "plt.show()\n"
   ]
  },
  {
   "cell_type": "code",
   "execution_count": 74,
   "metadata": {
    "execution": {
     "iopub.execute_input": "2024-05-21T18:16:01.577833Z",
     "iopub.status.busy": "2024-05-21T18:16:01.577230Z",
     "iopub.status.idle": "2024-05-21T18:16:02.066927Z",
     "shell.execute_reply": "2024-05-21T18:16:02.066147Z",
     "shell.execute_reply.started": "2024-05-21T18:16:01.577801Z"
    }
   },
   "outputs": [
    {
     "data": {
      "image/png": "[encoded data removed]",
      "text/plain": [
       "<Figure size 1200x800 with 2 Axes>"
      ]
     },
     "metadata": {},
     "output_type": "display_data"
    }
   ],
   "source": [
    "plt.figure(figsize=(12, 8))\n",
    "sns.heatmap(final_df[['AgeLastVisit','AgeARTStart','VisitDate','NextAppointmentDate','NextVisit','Viral Load']].corr(), annot=True, cmap='coolwarm', vmin=-1, vmax=1)\n",
    "plt.title('Correlation Matrix')\n",
    "plt.show()\n"
   ]
  },
  {
   "cell_type": "code",
   "execution_count": 75,
   "metadata": {},
   "outputs": [
    {
     "data": {
      "image/png": "[encoded data removed]",
      "text/plain": [
       "<Figure size 1000x600 with 1 Axes>"
      ]
     },
     "metadata": {},
     "output_type": "display_data"
    }
   ],
   "source": [
    "marital_counts = final_df['MaritalStatus'].value_counts()\n",
    "\n",
    "plt.figure(figsize=(10, 6))\n",
    "marital_counts.plot(kind='barh', color='skyblue')\n",
    "plt.title('Marital Status Distribution')\n",
    "plt.xlabel('Count')\n",
    "plt.ylabel('Marital Status')\n",
    "plt.gca().invert_yaxis()  # Invert y-axis to display in descending order\n",
    "plt.show()\n"
   ]
  },
  {
   "cell_type": "code",
   "execution_count": 76,
   "metadata": {
    "execution": {
     "iopub.execute_input": "2024-05-21T18:23:26.951363Z",
     "iopub.status.busy": "2024-05-21T18:23:26.951044Z",
     "iopub.status.idle": "2024-05-21T18:23:27.748601Z",
     "shell.execute_reply": "2024-05-21T18:23:27.747697Z",
     "shell.execute_reply.started": "2024-05-21T18:23:26.951338Z"
    }
   },
   "outputs": [
    {
     "data": {
      "image/png": "[encoded data removed]",
      "text/plain": [
       "<Figure size 1000x600 with 1 Axes>"
      ]
     },
     "metadata": {},
     "output_type": "display_data"
    }
   ],
   "source": [
    "plt.figure(figsize=(10, 6))\n",
    "sns.countplot(x='ArtAdherence', data=final_df, palette='viridis')\n",
    "plt.title('ART Adherence')\n",
    "plt.xlabel('Adherence')\n",
    "plt.ylabel('Count')\n",
    "plt.show()\n"
   ]
  },
  {
   "cell_type": "code",
   "execution_count": 77,
   "metadata": {
    "execution": {
     "iopub.execute_input": "2024-05-21T18:24:01.374296Z",
     "iopub.status.busy": "2024-05-21T18:24:01.373450Z",
     "iopub.status.idle": "2024-05-21T18:24:16.500061Z",
     "shell.execute_reply": "2024-05-21T18:24:16.499144Z",
     "shell.execute_reply.started": "2024-05-21T18:24:01.374265Z"
    }
   },
   "outputs": [
    {
     "data": {
      "image/png": "[encoded data removed]",
      "text/plain": [
       "<Figure size 1000x600 with 1 Axes>"
      ]
     },
     "metadata": {},
     "output_type": "display_data"
    }
   ],
   "source": [
    "plt.figure(figsize=(10, 6))\n",
    "sns.scatterplot(x='AgeLastVisit', y='Viral Load', hue='Gender', data=final_df)\n",
    "plt.title('Age vs. Viral Load')\n",
    "plt.xlabel('Age at Last Visit')\n",
    "plt.ylabel('Viral Load')\n",
    "plt.show()\n"
   ]
  },
  {
   "cell_type": "code",
   "execution_count": 82,
   "metadata": {
    "execution": {
     "iopub.execute_input": "2024-05-21T18:26:29.290630Z",
     "iopub.status.busy": "2024-05-21T18:26:29.290255Z",
     "iopub.status.idle": "2024-05-21T18:26:40.102746Z",
     "shell.execute_reply": "2024-05-21T18:26:40.101867Z",
     "shell.execute_reply.started": "2024-05-21T18:26:29.290601Z"
    }
   },
   "outputs": [
    {
     "data": {
      "image/png": "[encoded data removed]",
      "text/plain": [
       "<Figure size 600x2700 with 18 Axes>"
      ]
     },
     "metadata": {},
     "output_type": "display_data"
    }
   ],
   "source": [
    "g = sns.FacetGrid(final_df, col='Gender', row='MaritalStatus', margin_titles=True)\n",
    "g.map(plt.hist, 'AgeLastVisit', bins=20, edgecolor='k', color = 'skyblue')\n",
    "g.fig.suptitle('Age Distribution by Gender and Marital Status')\n",
    "g.set_axis_labels('Age', 'Count')\n",
    "plt.show()\n"
   ]
  },
  {
   "cell_type": "code",
   "execution_count": 79,
   "metadata": {},
   "outputs": [
    {
     "data": {
      "image/png": "[encoded data removed]",
      "text/plain": [
       "<Figure size 1600x1200 with 9 Axes>"
      ]
     },
     "metadata": {},
     "output_type": "display_data"
    }
   ],
   "source": [
    "# Create a count of Status by MaritalStatus\n",
    "status_marital_counts = final_df.groupby(['Status', 'MaritalStatus']).size().reset_index(name='Count')\n",
    "\n",
    "# Create a FacetGrid\n",
    "g = sns.FacetGrid(status_marital_counts, col='MaritalStatus', col_wrap=4, height=4, sharex=False, sharey=False)\n",
    "\n",
    "# Map the bar plot to the grid\n",
    "g.map_dataframe(sns.barplot, x='Status', y='Count', palette='inferno')\n",
    "\n",
    "# Adjust the titles and labels\n",
    "g.set_axis_labels('Status', 'Count')\n",
    "g.set_titles(col_template='{col_name}')\n",
    "g.set_xticklabels(rotation=45, ha='right')\n",
    "\n",
    "# Adjust layout\n",
    "plt.tight_layout()\n",
    "plt.show()"
   ]
  },
  {
   "cell_type": "code",
   "execution_count": null,
   "metadata": {},
   "outputs": [],
   "source": []
  }
 ],
 "metadata": {
  "accelerator": "GPU",
  "colab": {
   "gpuType": "T4",
   "provenance": []
  },
  "kaggle": {
   "accelerator": "none",
   "dataSources": [
    {
     "datasetId": 5040650,
     "sourceId": 8457141,
     "sourceType": "datasetVersion"
    },
    {
     "datasetId": 5047039,
     "sourceId": 8465597,
     "sourceType": "datasetVersion"
    }
   ],
   "dockerImageVersionId": 30699,
   "isGpuEnabled": false,
   "isInternetEnabled": true,
   "language": "python",
   "sourceType": "notebook"
  },
  "kernelspec": {
   "display_name": "Python 3 (ipykernel)",
   "language": "python",
   "name": "python3"
  },
  "language_info": {
   "codemirror_mode": {
    "name": "ipython",
    "version": 3
   },
   "file_extension": ".py",
   "mimetype": "text/x-python",
   "name": "python",
   "nbconvert_exporter": "python",
   "pygments_lexer": "ipython3",
   "version": "3.8.5"
  }
 },
 "nbformat": 4,
 "nbformat_minor": 4
}
